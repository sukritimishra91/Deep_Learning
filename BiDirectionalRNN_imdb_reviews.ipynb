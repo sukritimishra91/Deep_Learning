{
 "cells": [
  {
   "cell_type": "markdown",
   "metadata": {
    "id": "XB2Z3Y1SJ_Bx"
   },
   "source": [
    "### Question 1 Can you think of a few applications for each type of RNN, a sequence-to-sequence RNN, a sequence-to-vector RNN,  a vector-to-sequence RNN, and a vector-to-vector RNN?"
   ]
  },
  {
   "cell_type": "markdown",
   "metadata": {
    "id": "P0H7ha4VJ_By"
   },
   "source": [
    "#### Applications of each type of RNN are:\n",
    "1.**A sequence to sequence** : This type of RNN used in time series prediction like weather prediction, stock price prediction\n",
    "2. **A sequence to vector** : Sentiment analysis probably is one the most common applications in Natural Language processing. Sentiment Analysis can be done to get the review of the user, classifying music samples, predicting the probability that a user will watch a movie based on his/her watch history\n",
    "3. **A vector to a sequence** : Captioning image, generating music, locating pedestrians on a footpath\n",
    "4. **A vector to vector RNN** : Combing both sequence to vector(encoder) and vector to sequence(decoder) can be used in language or machine translation.The Encoder-Decoder architecture with recurrent neural networks has become an effective and standard approach for both neural machine translation (NMT) and sequence-to-sequence (seq2seq) prediction in general.The key benefits of the approach are the ability to train a single end-to-end model directly on source and target sentences and the ability to handle variable length input and output sequences of text"
   ]
  },
  {
   "cell_type": "markdown",
   "metadata": {
    "id": "h3KZdL9GJ_Bz"
   },
   "source": [
    "### Question 2: How many dimensions are required for input of an RNN layer? Can you use some examples to illustrate what are these dimensions and their purposes? How about the dimensions of the RNN output? "
   ]
  },
  {
   "cell_type": "markdown",
   "metadata": {
    "id": "yqZWHjSaJ_Bz"
   },
   "source": [
    "An RNN layer must have three-dimensional inputs: the first dimension is the batch dimension (its size is the batch size), the second dimension represents the time (its size is the number of time steps), and the third dimension holds the inputs at each time step (its size is the number of input features per time step). For example, if you want to process a batch containing 10 time series of 20 time steps each, with 2 values per time step (e.g., the temperature and the wind speed), the shape will be [10, 20, 2]. The outputs are also three-dimensional, with the same first two dimensions, but the last dimension is equal to the number of neurons. For example, if an RNN layer with 30 neurons processes the batch we just discussed, the output will have a shape of [10, 20, 30]."
   ]
  },
  {
   "cell_type": "markdown",
   "metadata": {
    "id": "KKv-iFJMJ_B0"
   },
   "source": [
    "### Question 3: Gated Recurrent Unit (GRU) is another kind of neuron which can perform memory retention as LSTM, could you explain this and compare this with LSTM"
   ]
  },
  {
   "cell_type": "markdown",
   "metadata": {
    "id": "zju1dJqvJ_B0"
   },
   "source": [
    "In Recurrent Neural Networks,Gated recurrent units (GRUs) are a gating mechanism , introduced by Kyunghyun in 2014. The GRU is like a long short-term memory (LSTM) with a forget gate,but has fewer parameters than LSTM, as it lacks an output gate. GRU's performance on certain tasks of speech signal modelling, polyphonic music modeling, and natural language processing was found to be similar to that of LSTM as work by leveraging the same principle as LSTM, but they are somewhat streamlined and thus cheaper to run, in spite of the fact that they may not have quite as much representational power as LSTM. In machine learning, this trade-off between computational expensiveness and representational power is seen everywhere . Unlikely LSTM, GRU tries to implement fewer gates and thus helps in reducing the computational cost.\n",
    "\n",
    "Comaparison with LSTM:\n",
    "\n",
    "LSTM:\n",
    "\n",
    "- LSTM has three gates (namely input, output and forget gates).\n",
    "-  LSTMs when trained with more data give you better results than GRUs.\n",
    "- The gradients in LSTM can still vanish in case of forward propagation.LSTM doesn’t solve the problem of exploding gradient, therefore we use gradient clipping\n",
    "- LSTMs are preferred when sequence lengths are more and some good context is there.\n",
    "\n",
    "\n",
    "GRU:\n",
    "\n",
    "- GRU has two gates (reset and update gates)\n",
    "- GRUs train faster and perform better on less training data\n",
    "- GRU, has output gate that controls the proportion of information that will be passed to the next hidden state, besides, it has an input gate that controls information flow from current input\n",
    "- GRUs are generally used when you do have long sequence training samples and you want a quick and decent accuracy and maybe in cases where infrastructure is an issue\n"
   ]
  },
  {
   "cell_type": "markdown",
   "metadata": {
    "id": "iGSQ49KZJ_B1"
   },
   "source": [
    "### Question 4 : can you try to modify RNN model to improve performance, e.g., improve accuracy to 95%? For example, we may change the number of units in each recurrent layer, adjust the learning rate or change optimizer, or try using LSTM layers instead of GRU layers."
   ]
  },
  {
   "cell_type": "code",
   "execution_count": 1,
   "metadata": {
    "colab": {
     "base_uri": "https://localhost:8080/"
    },
    "id": "8wH6g1KmJ_B1",
    "outputId": "ea1cccd3-fb56-4178-c6fc-eb32a7146f2a"
   },
   "outputs": [
    {
     "name": "stdout",
     "output_type": "stream",
     "text": [
      "Downloading data from https://storage.googleapis.com/tensorflow/tf-keras-datasets/imdb.npz\n",
      "17465344/17464789 [==============================] - 0s 0us/step\n"
     ]
    }
   ],
   "source": [
    "from keras.datasets import imdb\n",
    "from keras.preprocessing import sequence\n",
    "from keras import layers\n",
    "from keras.models import Sequential\n",
    "import numpy as np\n",
    "# Number of words to consider as features\n",
    "max_features = 10000\n",
    "# Cut texts after this number of words (among top max_features most common words)\n",
    "maxlen = 500\n",
    "\n",
    "# Load data\n",
    "(x_train, y_train), (x_test, y_test) = imdb.load_data(num_words=max_features)"
   ]
  },
  {
   "cell_type": "code",
   "execution_count": 2,
   "metadata": {
    "colab": {
     "base_uri": "https://localhost:8080/"
    },
    "id": "2DSriTJnJ_B4",
    "outputId": "08cf2e4f-06e4-4473-983c-c39ef66eed6d"
   },
   "outputs": [
    {
     "name": "stdout",
     "output_type": "stream",
     "text": [
      "<class 'numpy.ndarray'>\n"
     ]
    }
   ],
   "source": [
    "y_train.shape\n",
    "print(type(x_train))"
   ]
  },
  {
   "cell_type": "code",
   "execution_count": 3,
   "metadata": {
    "colab": {
     "base_uri": "https://localhost:8080/"
    },
    "collapsed": true,
    "id": "CDBzHv0LJ_B7",
    "jupyter": {
     "outputs_hidden": true
    },
    "outputId": "75e0ad0f-97aa-4c5a-9f00-918a94bf6093"
   },
   "outputs": [
    {
     "data": {
      "text/plain": [
       "[1,\n",
       " 17,\n",
       " 6,\n",
       " 194,\n",
       " 337,\n",
       " 7,\n",
       " 4,\n",
       " 204,\n",
       " 22,\n",
       " 45,\n",
       " 254,\n",
       " 8,\n",
       " 106,\n",
       " 14,\n",
       " 123,\n",
       " 4,\n",
       " 2,\n",
       " 270,\n",
       " 2,\n",
       " 5,\n",
       " 2,\n",
       " 2,\n",
       " 732,\n",
       " 2098,\n",
       " 101,\n",
       " 405,\n",
       " 39,\n",
       " 14,\n",
       " 1034,\n",
       " 4,\n",
       " 1310,\n",
       " 9,\n",
       " 115,\n",
       " 50,\n",
       " 305,\n",
       " 12,\n",
       " 47,\n",
       " 4,\n",
       " 168,\n",
       " 5,\n",
       " 235,\n",
       " 7,\n",
       " 38,\n",
       " 111,\n",
       " 699,\n",
       " 102,\n",
       " 7,\n",
       " 4,\n",
       " 4039,\n",
       " 9245,\n",
       " 9,\n",
       " 24,\n",
       " 6,\n",
       " 78,\n",
       " 1099,\n",
       " 17,\n",
       " 2345,\n",
       " 2,\n",
       " 21,\n",
       " 27,\n",
       " 9685,\n",
       " 6139,\n",
       " 5,\n",
       " 2,\n",
       " 1603,\n",
       " 92,\n",
       " 1183,\n",
       " 4,\n",
       " 1310,\n",
       " 7,\n",
       " 4,\n",
       " 204,\n",
       " 42,\n",
       " 97,\n",
       " 90,\n",
       " 35,\n",
       " 221,\n",
       " 109,\n",
       " 29,\n",
       " 127,\n",
       " 27,\n",
       " 118,\n",
       " 8,\n",
       " 97,\n",
       " 12,\n",
       " 157,\n",
       " 21,\n",
       " 6789,\n",
       " 2,\n",
       " 9,\n",
       " 6,\n",
       " 66,\n",
       " 78,\n",
       " 1099,\n",
       " 4,\n",
       " 631,\n",
       " 1191,\n",
       " 5,\n",
       " 2642,\n",
       " 272,\n",
       " 191,\n",
       " 1070,\n",
       " 6,\n",
       " 7585,\n",
       " 8,\n",
       " 2197,\n",
       " 2,\n",
       " 2,\n",
       " 544,\n",
       " 5,\n",
       " 383,\n",
       " 1271,\n",
       " 848,\n",
       " 1468,\n",
       " 2,\n",
       " 497,\n",
       " 2,\n",
       " 8,\n",
       " 1597,\n",
       " 8778,\n",
       " 2,\n",
       " 21,\n",
       " 60,\n",
       " 27,\n",
       " 239,\n",
       " 9,\n",
       " 43,\n",
       " 8368,\n",
       " 209,\n",
       " 405,\n",
       " 10,\n",
       " 10,\n",
       " 12,\n",
       " 764,\n",
       " 40,\n",
       " 4,\n",
       " 248,\n",
       " 20,\n",
       " 12,\n",
       " 16,\n",
       " 5,\n",
       " 174,\n",
       " 1791,\n",
       " 72,\n",
       " 7,\n",
       " 51,\n",
       " 6,\n",
       " 1739,\n",
       " 22,\n",
       " 4,\n",
       " 204,\n",
       " 131,\n",
       " 9]"
      ]
     },
     "execution_count": 3,
     "metadata": {
      "tags": []
     },
     "output_type": "execute_result"
    }
   ],
   "source": [
    "x_train[-1]"
   ]
  },
  {
   "cell_type": "code",
   "execution_count": 4,
   "metadata": {
    "id": "MXUvggXoJ_B-"
   },
   "outputs": [],
   "source": [
    "# Reverse sequences\n",
    "x_train = [x[::-1] for x in x_train]\n",
    "x_test = [x[::-1] for x in x_test]\n"
   ]
  },
  {
   "cell_type": "code",
   "execution_count": 5,
   "metadata": {
    "colab": {
     "base_uri": "https://localhost:8080/"
    },
    "id": "Xy-SsCW8J_CA",
    "outputId": "9aad0291-e99a-458e-e735-9c677ce4bde1"
   },
   "outputs": [
    {
     "data": {
      "text/plain": [
       "153"
      ]
     },
     "execution_count": 5,
     "metadata": {
      "tags": []
     },
     "output_type": "execute_result"
    }
   ],
   "source": [
    "len(x_train[24999])"
   ]
  },
  {
   "cell_type": "code",
   "execution_count": 6,
   "metadata": {
    "colab": {
     "base_uri": "https://localhost:8080/"
    },
    "id": "XVAOLPPDJ_CC",
    "outputId": "1d3f980d-47c1-4f93-9e94-d5d83273038f"
   },
   "outputs": [
    {
     "name": "stdout",
     "output_type": "stream",
     "text": [
      "[3, 2, 1]\n",
      "[[3, 2, 1], [3, 2, 1], [3, 2, 1]]\n"
     ]
    }
   ],
   "source": [
    "n = [1,2,3]\n",
    "print(n[::-1])\n",
    "n = [n[::-1] for x in n]\n",
    "print(n)"
   ]
  },
  {
   "cell_type": "code",
   "execution_count": 7,
   "metadata": {
    "id": "_vl2Zc0JJ_CF"
   },
   "outputs": [],
   "source": [
    "x_train = sequence.pad_sequences(x_train, maxlen=maxlen)\n",
    "x_test = sequence.pad_sequences(x_test, maxlen=maxlen)"
   ]
  },
  {
   "cell_type": "markdown",
   "metadata": {
    "id": "w8O8MmFYJ_CH"
   },
   "source": [
    "### Building a simple RNN model with LSTM hidden layers"
   ]
  },
  {
   "cell_type": "code",
   "execution_count": 8,
   "metadata": {
    "id": "UpAfbSKaJ_CH"
   },
   "outputs": [],
   "source": [
    "model = Sequential()\n",
    "model.add(layers.Embedding(max_features, 128))\n",
    "model.add(layers.LSTM(32))\n",
    "model.add(layers.Dense(1, activation='sigmoid'))"
   ]
  },
  {
   "cell_type": "code",
   "execution_count": 9,
   "metadata": {
    "colab": {
     "base_uri": "https://localhost:8080/"
    },
    "id": "xAmO_2EkJ_CJ",
    "outputId": "9b432598-7744-408a-e568-f7de7f01457a"
   },
   "outputs": [
    {
     "name": "stdout",
     "output_type": "stream",
     "text": [
      "Epoch 1/10\n",
      "157/157 [==============================] - 72s 461ms/step - loss: 0.5025 - acc: 0.7567 - val_loss: 0.5390 - val_acc: 0.7732\n",
      "Epoch 2/10\n",
      "157/157 [==============================] - 74s 472ms/step - loss: 0.3140 - acc: 0.8775 - val_loss: 0.3264 - val_acc: 0.8718\n",
      "Epoch 3/10\n",
      "157/157 [==============================] - 75s 475ms/step - loss: 0.2545 - acc: 0.9058 - val_loss: 0.3857 - val_acc: 0.8486\n",
      "Epoch 4/10\n",
      "157/157 [==============================] - 76s 486ms/step - loss: 0.2232 - acc: 0.9198 - val_loss: 0.3292 - val_acc: 0.8750\n",
      "Epoch 5/10\n",
      "157/157 [==============================] - 74s 474ms/step - loss: 0.1901 - acc: 0.9316 - val_loss: 0.3890 - val_acc: 0.8800\n",
      "Epoch 6/10\n",
      "157/157 [==============================] - 81s 513ms/step - loss: 0.1698 - acc: 0.9399 - val_loss: 0.3515 - val_acc: 0.8634\n",
      "Epoch 7/10\n",
      "157/157 [==============================] - 75s 476ms/step - loss: 0.1558 - acc: 0.9466 - val_loss: 0.4308 - val_acc: 0.8588\n",
      "Epoch 8/10\n",
      "157/157 [==============================] - 80s 512ms/step - loss: 0.1359 - acc: 0.9524 - val_loss: 0.4749 - val_acc: 0.8656\n",
      "Epoch 9/10\n",
      "157/157 [==============================] - 77s 488ms/step - loss: 0.1295 - acc: 0.9570 - val_loss: 0.4782 - val_acc: 0.8718\n",
      "Epoch 10/10\n",
      "157/157 [==============================] - 74s 474ms/step - loss: 0.1185 - acc: 0.9599 - val_loss: 0.4939 - val_acc: 0.8708\n"
     ]
    }
   ],
   "source": [
    "model.compile(optimizer='rmsprop',\n",
    "              loss='binary_crossentropy',\n",
    "              metrics=['acc'])\n",
    "history = model.fit(x_train, y_train,\n",
    "                    epochs=10,\n",
    "                    batch_size=128,\n",
    "                    validation_split=0.2)"
   ]
  },
  {
   "cell_type": "code",
   "execution_count": 10,
   "metadata": {
    "colab": {
     "base_uri": "https://localhost:8080/",
     "height": 281
    },
    "id": "ai_H3m4wJ_CL",
    "outputId": "8f00a819-18e9-4fb4-ccce-8ff08530bb18"
   },
   "outputs": [
    {
     "data": {
      "image/png": "[encoded data removed]",
      "text/plain": [
       "<Figure size 432x288 with 1 Axes>"
      ]
     },
     "metadata": {
      "needs_background": "light",
      "tags": []
     },
     "output_type": "display_data"
    }
   ],
   "source": [
    "from matplotlib import pyplot as plt\n",
    "\n",
    "loss = history.history['loss']\n",
    "val_loss = history.history['val_loss']\n",
    "\n",
    "epochs = range(len(loss))\n",
    "\n",
    "plt.figure()\n",
    "\n",
    "plt.plot(epochs, loss, 'bo', label='Training loss')\n",
    "plt.plot(epochs, val_loss, 'b', label='Validation loss')\n",
    "plt.title('Training and validation loss')\n",
    "plt.legend()\n",
    "\n",
    "plt.show()"
   ]
  },
  {
   "cell_type": "code",
   "execution_count": 11,
   "metadata": {
    "id": "aN53HkGgJ_CO"
   },
   "outputs": [],
   "source": [
    "scores = model.evaluate(x_test, y_test, verbose=0)"
   ]
  },
  {
   "cell_type": "code",
   "execution_count": 12,
   "metadata": {
    "colab": {
     "base_uri": "https://localhost:8080/"
    },
    "id": "2ajIH28IJ_CQ",
    "outputId": "dfbbd674-1690-48da-a148-f5dd1953c771"
   },
   "outputs": [
    {
     "name": "stdout",
     "output_type": "stream",
     "text": [
      "[0.5511319041252136, 0.8515999913215637]\n"
     ]
    }
   ],
   "source": [
    "print(scores)"
   ]
  },
  {
   "cell_type": "code",
   "execution_count": 14,
   "metadata": {
    "colab": {
     "base_uri": "https://localhost:8080/",
     "height": 265
    },
    "id": "VPsBhG7FJ_CU",
    "outputId": "6ef88c11-90b5-44e6-af67-ee579c6e4378"
   },
   "outputs": [
    {
     "data": {
      "image/png": "[encoded data removed]",
      "text/plain": [
       "<Figure size 432x288 with 1 Axes>"
      ]
     },
     "metadata": {
      "needs_background": "light",
      "tags": []
     },
     "output_type": "display_data"
    }
   ],
   "source": [
    "accuracy = history.history['val_loss']\n",
    "epochs = range(len(accuracy))\n",
    "plt.plot(epochs, accuracy, 'b', label = 'Accuracy')\n",
    "plt.show()"
   ]
  },
  {
   "cell_type": "markdown",
   "metadata": {
    "id": "DyQuffLqJ_CW"
   },
   "source": [
    "### Using Bi-directional RNN instead of LSTM for to improve the Accuracy rate"
   ]
  },
  {
   "cell_type": "markdown",
   "metadata": {
    "id": "D1rbdfwIJ_CX"
   },
   "source": [
    "### Tweaking the parameters, by changing the batch size and loss function  "
   ]
  },
  {
   "cell_type": "code",
   "execution_count": null,
   "metadata": {
    "id": "eHARFpSnJ_CX",
    "outputId": "e05f521e-f7ec-4c31-eb05-e6e7fa40954c"
   },
   "outputs": [
    {
     "name": "stdout",
     "output_type": "stream",
     "text": [
      "Epoch 1/10\n",
      "313/313 [==============================] - 97s 309ms/step - loss: 0.3670 - acc: 0.6547 - val_loss: 0.2214 - val_acc: 0.8100\n",
      "Epoch 2/10\n",
      "313/313 [==============================] - 95s 305ms/step - loss: 0.3252 - acc: 0.6802 - val_loss: 0.2079 - val_acc: 0.7904\n",
      "Epoch 3/10\n",
      "313/313 [==============================] - 96s 308ms/step - loss: 0.1762 - acc: 0.8256 - val_loss: 0.1530 - val_acc: 0.8478\n",
      "Epoch 4/10\n",
      "313/313 [==============================] - 94s 299ms/step - loss: 0.1636 - acc: 0.8382 - val_loss: 0.2113 - val_acc: 0.7890\n",
      "Epoch 5/10\n",
      "313/313 [==============================] - 94s 299ms/step - loss: 0.1910 - acc: 0.8092 - val_loss: 0.1957 - val_acc: 0.8040\n",
      "Epoch 6/10\n",
      "313/313 [==============================] - 94s 301ms/step - loss: 0.1864 - acc: 0.8138 - val_loss: 0.1379 - val_acc: 0.8618\n",
      "Epoch 7/10\n",
      "313/313 [==============================] - 96s 305ms/step - loss: 0.1625 - acc: 0.8384 - val_loss: 0.1544 - val_acc: 0.8460\n",
      "Epoch 8/10\n",
      "313/313 [==============================] - 109s 347ms/step - loss: 0.1177 - acc: 0.8834 - val_loss: 0.1411 - val_acc: 0.8600\n",
      "Epoch 9/10\n",
      "313/313 [==============================] - 99s 315ms/step - loss: 0.1157 - acc: 0.8858 - val_loss: 0.1801 - val_acc: 0.8198\n",
      "Epoch 10/10\n",
      "313/313 [==============================] - 98s 313ms/step - loss: 0.1172 - acc: 0.8834 - val_loss: 0.1531 - val_acc: 0.8468\n"
     ]
    }
   ],
   "source": [
    "model = Sequential()\n",
    "model.add(layers.Embedding(max_features, 32))\n",
    "model.add(layers.Bidirectional(layers.LSTM(64)))\n",
    "#model.add(layers.Bidirectional(layers.LSTM(32)))\n",
    "model.add(layers.Dense(1, activation='sigmoid'))\n",
    "\n",
    "model.compile(optimizer='rmsprop', loss='mae', metrics=['acc'])\n",
    "history = model.fit(x_train, y_train, epochs=10, batch_size=64, validation_split=0.2)"
   ]
  },
  {
   "cell_type": "code",
   "execution_count": null,
   "metadata": {
    "id": "Q94ieekOJ_CZ",
    "outputId": "3b5791ab-221c-45df-97d8-54ad4b9be913"
   },
   "outputs": [
    {
     "data": {
      "image/png": "[encoded data removed]",
      "text/plain": [
       "<Figure size 432x288 with 1 Axes>"
      ]
     },
     "metadata": {
      "needs_background": "light",
      "tags": []
     },
     "output_type": "display_data"
    },
    {
     "name": "stdout",
     "output_type": "stream",
     "text": [
      "Accuracy [0.654699981212616, 0.6801999807357788, 0.8255500197410583, 0.8381999731063843, 0.8091999888420105, 0.8138499855995178, 0.8384000062942505, 0.8834499716758728, 0.8858000040054321, 0.8834499716758728]\n",
      "Validation accuracy [0.8100000023841858, 0.7904000282287598, 0.8478000164031982, 0.7889999747276306, 0.8040000200271606, 0.8618000149726868, 0.8460000157356262, 0.8600000143051147, 0.8198000192642212, 0.8468000292778015]\n"
     ]
    }
   ],
   "source": [
    "from matplotlib import pyplot as plt\n",
    "\n",
    "loss = history.history['loss']\n",
    "val_loss = history.history['val_loss']\n",
    "\n",
    "epochs = range(len(loss))\n",
    "\n",
    "plt.figure()\n",
    "\n",
    "plt.plot(epochs, loss, 'bo', label='Training loss')\n",
    "plt.plot(epochs, val_loss, 'b', label='Validation loss')\n",
    "plt.title('Training and validation loss')\n",
    "plt.legend()\n",
    "\n",
    "plt.show()\n",
    "print('Accuracy', history.history['acc'])\n",
    "print('Validation accuracy', history.history['val_acc'])"
   ]
  },
  {
   "cell_type": "markdown",
   "metadata": {
    "id": "4xJ7tkk1J_Cb"
   },
   "source": [
    "### Although the above model performs better; to furthur enhance the accuracy we changed the loss back to binary cross entropy and batch size =128 with bidirectional RNN layers"
   ]
  },
  {
   "cell_type": "code",
   "execution_count": null,
   "metadata": {
    "id": "3Udj0H9WJ_Cb",
    "outputId": "273c8db7-c129-4121-c47f-70081b02546e"
   },
   "outputs": [
    {
     "name": "stdout",
     "output_type": "stream",
     "text": [
      "Epoch 1/10\n",
      "157/157 [==============================] - 85s 542ms/step - loss: 0.5695 - acc: 0.7121 - val_loss: 0.4712 - val_acc: 0.7820\n",
      "Epoch 2/10\n",
      "157/157 [==============================] - 86s 546ms/step - loss: 0.3940 - acc: 0.8398 - val_loss: 0.4090 - val_acc: 0.8280\n",
      "Epoch 3/10\n",
      "157/157 [==============================] - 88s 559ms/step - loss: 0.3185 - acc: 0.8809 - val_loss: 0.4489 - val_acc: 0.8434\n",
      "Epoch 4/10\n",
      "157/157 [==============================] - 1128s 7s/step - loss: 0.2585 - acc: 0.9054 - val_loss: 0.3321 - val_acc: 0.8648\n",
      "Epoch 5/10\n",
      "157/157 [==============================] - 84s 538ms/step - loss: 0.2226 - acc: 0.9192 - val_loss: 0.3580 - val_acc: 0.8484\n",
      "Epoch 6/10\n",
      "157/157 [==============================] - 85s 541ms/step - loss: 0.2008 - acc: 0.9312 - val_loss: 0.4105 - val_acc: 0.8672\n",
      "Epoch 7/10\n",
      "157/157 [==============================] - 83s 530ms/step - loss: 0.1747 - acc: 0.9370 - val_loss: 0.3508 - val_acc: 0.8736\n",
      "Epoch 8/10\n",
      "157/157 [==============================] - 83s 532ms/step - loss: 0.1662 - acc: 0.9430 - val_loss: 0.3352 - val_acc: 0.8638\n",
      "Epoch 9/10\n",
      "157/157 [==============================] - 84s 536ms/step - loss: 0.1484 - acc: 0.9500 - val_loss: 0.4238 - val_acc: 0.8832\n",
      "Epoch 10/10\n",
      "157/157 [==============================] - 83s 531ms/step - loss: 0.1371 - acc: 0.9526 - val_loss: 0.4821 - val_acc: 0.8582\n"
     ]
    }
   ],
   "source": [
    "model = Sequential()\n",
    "model.add(layers.Embedding(max_features, 32))\n",
    "model.add(layers.Bidirectional(layers.LSTM(64)))\n",
    "#model.add(layers.Bidirectional(layers.LSTM(32)))\n",
    "model.add(layers.Dense(1, activation='sigmoid'))\n",
    "\n",
    "model.compile(optimizer='rmsprop', loss='binary_crossentropy', metrics=['acc'])\n",
    "history = model.fit(x_train, y_train, epochs=10, batch_size=128, validation_split=0.2)"
   ]
  },
  {
   "cell_type": "code",
   "execution_count": null,
   "metadata": {
    "id": "k-V-VL-TJ_Cd",
    "outputId": "cfd29003-9208-411a-e9ab-f8aa186439c5"
   },
   "outputs": [
    {
     "data": {
      "image/png": "[encoded data removed]",
      "text/plain": [
       "<Figure size 432x288 with 1 Axes>"
      ]
     },
     "metadata": {
      "needs_background": "light",
      "tags": []
     },
     "output_type": "display_data"
    }
   ],
   "source": [
    "from matplotlib import pyplot as plt\n",
    "\n",
    "loss = history.history['loss']\n",
    "val_loss = history.history['val_loss']\n",
    "\n",
    "epochs = range(len(loss))\n",
    "\n",
    "plt.figure()\n",
    "\n",
    "plt.plot(epochs, loss, 'bo', label='Training loss')\n",
    "plt.plot(epochs, val_loss, 'b', label='Validation loss')\n",
    "plt.title('Training and validation loss')\n",
    "plt.legend()\n",
    "\n",
    "plt.show()"
   ]
  },
  {
   "cell_type": "code",
   "execution_count": null,
   "metadata": {
    "id": "z79XrXIeJ_Cf",
    "outputId": "05c7a2a4-9cfe-423b-dee0-315e6f023d7e"
   },
   "outputs": [
    {
     "name": "stdout",
     "output_type": "stream",
     "text": [
      "Accuracy [0.7121000289916992, 0.8398000001907349, 0.8809000253677368, 0.9053999781608582, 0.9192000031471252, 0.9312499761581421, 0.9369500279426575, 0.9430000185966492, 0.9500499963760376, 0.9526000022888184]\n",
      "Validation accuracy [0.7820000052452087, 0.828000009059906, 0.8434000015258789, 0.864799976348877, 0.8483999967575073, 0.8672000169754028, 0.8736000061035156, 0.8637999892234802, 0.8831999897956848, 0.8582000136375427]\n"
     ]
    }
   ],
   "source": [
    "print('Accuracy', history.history['acc'])\n",
    "print('Validation accuracy', history.history['val_acc'])"
   ]
  },
  {
   "cell_type": "markdown",
   "metadata": {
    "id": "8Kkpg3TbJ_Ch"
   },
   "source": [
    "### As we can see,the validation loss is too high; now examining by increasing the number of epochs. Increasing the number of epochs improved the accuracy but on the other hand, increased the validation loss also"
   ]
  },
  {
   "cell_type": "code",
   "execution_count": null,
   "metadata": {
    "id": "cbBpL09QJ_Ch",
    "outputId": "0ebdb57e-b631-4c0b-9384-d397226c7079"
   },
   "outputs": [
    {
     "name": "stdout",
     "output_type": "stream",
     "text": [
      "Epoch 1/20\n",
      "157/157 [==============================] - 93s 592ms/step - loss: 0.5596 - acc: 0.7207 - val_loss: 0.5074 - val_acc: 0.7760\n",
      "Epoch 2/20\n",
      "157/157 [==============================] - 88s 563ms/step - loss: 0.3553 - acc: 0.8629 - val_loss: 0.4594 - val_acc: 0.8054\n",
      "Epoch 3/20\n",
      "157/157 [==============================] - 89s 564ms/step - loss: 0.2801 - acc: 0.8956 - val_loss: 0.4009 - val_acc: 0.8458\n",
      "Epoch 4/20\n",
      "157/157 [==============================] - 107s 679ms/step - loss: 0.2428 - acc: 0.9139 - val_loss: 0.4280 - val_acc: 0.8716\n",
      "Epoch 5/20\n",
      "157/157 [==============================] - 100s 640ms/step - loss: 0.2168 - acc: 0.9215 - val_loss: 0.5341 - val_acc: 0.7610\n",
      "Epoch 6/20\n",
      "157/157 [==============================] - 118s 753ms/step - loss: 0.1936 - acc: 0.9299 - val_loss: 0.3290 - val_acc: 0.8860\n",
      "Epoch 7/20\n",
      "157/157 [==============================] - 111s 706ms/step - loss: 0.1738 - acc: 0.9391 - val_loss: 0.4455 - val_acc: 0.7952\n",
      "Epoch 8/20\n",
      "157/157 [==============================] - 88s 560ms/step - loss: 0.1651 - acc: 0.9432 - val_loss: 0.4257 - val_acc: 0.8726\n",
      "Epoch 9/20\n",
      "157/157 [==============================] - 94s 600ms/step - loss: 0.1517 - acc: 0.9476 - val_loss: 0.3498 - val_acc: 0.8710\n",
      "Epoch 10/20\n",
      "157/157 [==============================] - 93s 595ms/step - loss: 0.1528 - acc: 0.9495 - val_loss: 0.3635 - val_acc: 0.8694\n",
      "Epoch 11/20\n",
      "157/157 [==============================] - 92s 587ms/step - loss: 0.1347 - acc: 0.9543 - val_loss: 0.3615 - val_acc: 0.8770\n",
      "Epoch 12/20\n",
      "157/157 [==============================] - 89s 564ms/step - loss: 0.1306 - acc: 0.9578 - val_loss: 0.5045 - val_acc: 0.8272\n",
      "Epoch 13/20\n",
      "157/157 [==============================] - 85s 545ms/step - loss: 0.1172 - acc: 0.9628 - val_loss: 0.4374 - val_acc: 0.8496\n",
      "Epoch 14/20\n",
      "157/157 [==============================] - 85s 544ms/step - loss: 0.1210 - acc: 0.9613 - val_loss: 0.4034 - val_acc: 0.8746\n",
      "Epoch 15/20\n",
      "157/157 [==============================] - 87s 555ms/step - loss: 0.1067 - acc: 0.9658 - val_loss: 0.4678 - val_acc: 0.8592\n",
      "Epoch 16/20\n",
      "157/157 [==============================] - 87s 553ms/step - loss: 0.1021 - acc: 0.9672 - val_loss: 0.4991 - val_acc: 0.8500\n",
      "Epoch 17/20\n",
      "157/157 [==============================] - 86s 549ms/step - loss: 0.0931 - acc: 0.9716 - val_loss: 0.5138 - val_acc: 0.8660\n",
      "Epoch 18/20\n",
      "157/157 [==============================] - 86s 550ms/step - loss: 0.0901 - acc: 0.9714 - val_loss: 0.4547 - val_acc: 0.8470\n",
      "Epoch 19/20\n",
      "157/157 [==============================] - 88s 560ms/step - loss: 0.0840 - acc: 0.9729 - val_loss: 0.4380 - val_acc: 0.8588\n",
      "Epoch 20/20\n",
      "157/157 [==============================] - 90s 572ms/step - loss: 0.0827 - acc: 0.9739 - val_loss: 0.4828 - val_acc: 0.8666\n"
     ]
    }
   ],
   "source": [
    "model = Sequential()\n",
    "model.add(layers.Embedding(max_features, 32))\n",
    "model.add(layers.Bidirectional(layers.LSTM(64)))\n",
    "#model.add(layers.Bidirectional(layers.LSTM(32)))\n",
    "model.add(layers.Dense(1, activation='sigmoid'))\n",
    "\n",
    "model.compile(optimizer='rmsprop', loss='binary_crossentropy', metrics=['acc'])\n",
    "history = model.fit(x_train, y_train, epochs=20, batch_size=128, validation_split=0.2)"
   ]
  },
  {
   "cell_type": "code",
   "execution_count": null,
   "metadata": {
    "id": "JZ2iEnuXJ_Cj",
    "outputId": "8e79821e-f381-4bfe-af50-c42d73ee2eb5"
   },
   "outputs": [
    {
     "name": "stdout",
     "output_type": "stream",
     "text": [
      "Accuracy 0.9738500118255615\n",
      "Validation accuracy 0.8859999775886536\n"
     ]
    }
   ],
   "source": [
    "import numpy as np\n",
    "print('Accuracy', np.max(history.history['acc']))\n",
    "print('Validation accuracy', np.max(history.history['val_acc']))"
   ]
  },
  {
   "cell_type": "code",
   "execution_count": null,
   "metadata": {
    "id": "YTjUB7N_J_Ck",
    "outputId": "33c286bb-0da3-4243-db73-0c605a0edcdd"
   },
   "outputs": [
    {
     "name": "stdout",
     "output_type": "stream",
     "text": [
      "Model: \"sequential_3\"\n",
      "_________________________________________________________________\n",
      "Layer (type)                 Output Shape              Param #   \n",
      "=================================================================\n",
      "embedding_3 (Embedding)      (None, None, 32)          320000    \n",
      "_________________________________________________________________\n",
      "bidirectional_2 (Bidirection (None, 128)               49664     \n",
      "_________________________________________________________________\n",
      "dense_3 (Dense)              (None, 1)                 129       \n",
      "=================================================================\n",
      "Total params: 369,793\n",
      "Trainable params: 369,793\n",
      "Non-trainable params: 0\n",
      "_________________________________________________________________\n"
     ]
    }
   ],
   "source": [
    "model.summary()"
   ]
  },
  {
   "cell_type": "markdown",
   "metadata": {
    "id": "4vwSSgV1J_Cm"
   },
   "source": [
    "### By Increasing the number of epochs to 20 we are able to increased the accuracy however it also increased the validation loss; this may be a better model when accuracy is considered but there is an overfitting.It overfits with validation data. However when trained with mean absolute error(MAE) as loss; in spite of getting 85% validation accuracy and 88% training accuracy it performed a fair good job by avoiding overfitting. this scene is again trade off. In this question; we have to focus on improved accuracy and with the above model; it is very clear that model achieved 97.4% training accuracy and 88.6% validation accuracy."
   ]
  },
  {
   "cell_type": "markdown",
   "metadata": {
    "id": "eNLMmEah5MCN"
   },
   "source": [
    "**5. Best problems provided by Talented Students Questions/Answers**"
   ]
  },
  {
   "cell_type": "markdown",
   "metadata": {
    "id": "g_zpssWU1KM3"
   },
   "source": [
    "RNN questions:\n",
    "\n",
    "1.You are training an RNN, and find that your weights and activations are all taking on the value of NaN (“Not a Number”). Which of these is the most likely cause of this problem? A. Vanishing gradient problem. B. Exploding gradient problem.\n",
    "\n",
    "**Answer: B. Exploding gradient problem.**\n",
    "\n",
    "2.To which of these tasks would you apply a many-to-one RNN architecture? (Check all that apply) A. Image classification (input an image and output a label) B. Gender recognition from speech (input an audio clip and output a label indicating the speaker’s gender) C. Speech recognition (input an output clip and output a transcript) D. Sentinel classification (input a piece of text and output 0/1 to denote positive or negative sentiment)\n",
    "**Answer: B & D**\n",
    "\n",
    "3.1 What is the value of O1?\n",
    "\n",
    "**Answer: 0.9996**\n",
    "\n",
    "Solution: h1 = sigmoid (Wih*i/p) = sigmoid (8) = 0.9996 O1 = Who * h1 = 1 * 0.9996= 0.9996 (since o/p has linear activation function)\n",
    "\n",
    "3.2 what is the value of O2?\n",
    "\n",
    "**Answer: 0.9819**\n",
    "\n",
    "Solution: h2 = sigmoid(i/p8+4h1) = sigmoid (08 + 40.9996) = 0.9819 O2 = 1 * h2 = 1* 0.9819 (since o/p has linear activation function)\n",
    "\n",
    "4.1 What do you think is going on? **Answer: B. Some examples are causing exploding gradients.**\n",
    "\n",
    "4.2. What do you think is a good fix for this problem?\n",
    "\n",
    "**Answer: Since exploding gradient is causing the above training loss, gradient clipping can be used to fix the problem. i.e. clipping the gradient below a fixed maximum value**"
   ]
  }
 ],
 "metadata": {
  "colab": {
   "collapsed_sections": [],
   "name": "BiDirectionalRNN_014580696.ipynb",
   "provenance": []
  },
  "kernelspec": {
   "display_name": "Python 3",
   "language": "python",
   "name": "python3"
  },
  "language_info": {
   "codemirror_mode": {
    "name": "ipython",
    "version": 3
   },
   "file_extension": ".py",
   "mimetype": "text/x-python",
   "name": "python",
   "nbconvert_exporter": "python",
   "pygments_lexer": "ipython3",
   "version": "3.7.6"
  }
 },
 "nbformat": 4,
 "nbformat_minor": 4
}
