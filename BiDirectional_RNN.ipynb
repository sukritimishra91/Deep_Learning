{
 "cells": [
  {
   "cell_type": "code",
   "execution_count": 1,
   "metadata": {},
   "outputs": [],
   "source": [
    "import pandas as pd\n",
    "import numpy as np\n",
    "from matplotlib import pyplot as plt\n",
    "import pandas_datareader.data as web"
   ]
  },
  {
   "cell_type": "code",
   "execution_count": 2,
   "metadata": {},
   "outputs": [],
   "source": [
    "data = web.DataReader('^DJI', data_source = 'yahoo', start = '2000-01-01')"
   ]
  },
  {
   "cell_type": "code",
   "execution_count": 3,
   "metadata": {},
   "outputs": [
    {
     "data": {
      "text/html": [
       "<div>\n",
       "<style scoped>\n",
       "    .dataframe tbody tr th:only-of-type {\n",
       "        vertical-align: middle;\n",
       "    }\n",
       "\n",
       "    .dataframe tbody tr th {\n",
       "        vertical-align: top;\n",
       "    }\n",
       "\n",
       "    .dataframe thead th {\n",
       "        text-align: right;\n",
       "    }\n",
       "</style>\n",
       "<table border=\"1\" class=\"dataframe\">\n",
       "  <thead>\n",
       "    <tr style=\"text-align: right;\">\n",
       "      <th></th>\n",
       "      <th>High</th>\n",
       "      <th>Low</th>\n",
       "      <th>Open</th>\n",
       "      <th>Close</th>\n",
       "      <th>Volume</th>\n",
       "      <th>Adj Close</th>\n",
       "    </tr>\n",
       "    <tr>\n",
       "      <th>Date</th>\n",
       "      <th></th>\n",
       "      <th></th>\n",
       "      <th></th>\n",
       "      <th></th>\n",
       "      <th></th>\n",
       "      <th></th>\n",
       "    </tr>\n",
       "  </thead>\n",
       "  <tbody>\n",
       "    <tr>\n",
       "      <th>2000-01-03</th>\n",
       "      <td>11522.009766</td>\n",
       "      <td>11305.690430</td>\n",
       "      <td>11501.849609</td>\n",
       "      <td>11357.509766</td>\n",
       "      <td>169750000</td>\n",
       "      <td>11357.509766</td>\n",
       "    </tr>\n",
       "    <tr>\n",
       "      <th>2000-01-04</th>\n",
       "      <td>11350.059570</td>\n",
       "      <td>10986.450195</td>\n",
       "      <td>11349.750000</td>\n",
       "      <td>10997.929688</td>\n",
       "      <td>178420000</td>\n",
       "      <td>10997.929688</td>\n",
       "    </tr>\n",
       "    <tr>\n",
       "      <th>2000-01-05</th>\n",
       "      <td>11215.099609</td>\n",
       "      <td>10938.669922</td>\n",
       "      <td>10989.370117</td>\n",
       "      <td>11122.650391</td>\n",
       "      <td>203190000</td>\n",
       "      <td>11122.650391</td>\n",
       "    </tr>\n",
       "    <tr>\n",
       "      <th>2000-01-06</th>\n",
       "      <td>11313.450195</td>\n",
       "      <td>11098.450195</td>\n",
       "      <td>11113.370117</td>\n",
       "      <td>11253.259766</td>\n",
       "      <td>176550000</td>\n",
       "      <td>11253.259766</td>\n",
       "    </tr>\n",
       "    <tr>\n",
       "      <th>2000-01-07</th>\n",
       "      <td>11528.139648</td>\n",
       "      <td>11239.919922</td>\n",
       "      <td>11247.059570</td>\n",
       "      <td>11522.559570</td>\n",
       "      <td>184900000</td>\n",
       "      <td>11522.559570</td>\n",
       "    </tr>\n",
       "  </tbody>\n",
       "</table>\n",
       "</div>"
      ],
      "text/plain": [
       "                    High           Low          Open         Close     Volume  \\\n",
       "Date                                                                            \n",
       "2000-01-03  11522.009766  11305.690430  11501.849609  11357.509766  169750000   \n",
       "2000-01-04  11350.059570  10986.450195  11349.750000  10997.929688  178420000   \n",
       "2000-01-05  11215.099609  10938.669922  10989.370117  11122.650391  203190000   \n",
       "2000-01-06  11313.450195  11098.450195  11113.370117  11253.259766  176550000   \n",
       "2000-01-07  11528.139648  11239.919922  11247.059570  11522.559570  184900000   \n",
       "\n",
       "               Adj Close  \n",
       "Date                      \n",
       "2000-01-03  11357.509766  \n",
       "2000-01-04  10997.929688  \n",
       "2000-01-05  11122.650391  \n",
       "2000-01-06  11253.259766  \n",
       "2000-01-07  11522.559570  "
      ]
     },
     "execution_count": 3,
     "metadata": {},
     "output_type": "execute_result"
    }
   ],
   "source": [
    "data.head()"
   ]
  },
  {
   "cell_type": "code",
   "execution_count": 4,
   "metadata": {},
   "outputs": [
    {
     "data": {
      "text/plain": [
       "5243"
      ]
     },
     "execution_count": 4,
     "metadata": {},
     "output_type": "execute_result"
    }
   ],
   "source": [
    "len(data.index)\n"
   ]
  },
  {
   "cell_type": "code",
   "execution_count": 5,
   "metadata": {},
   "outputs": [
    {
     "name": "stdout",
     "output_type": "stream",
     "text": [
      "<class 'pandas.core.frame.DataFrame'>\n",
      "DatetimeIndex: 5243 entries, 2000-01-03 to 2020-11-02\n",
      "Data columns (total 6 columns):\n",
      " #   Column     Non-Null Count  Dtype  \n",
      "---  ------     --------------  -----  \n",
      " 0   High       5243 non-null   float64\n",
      " 1   Low        5243 non-null   float64\n",
      " 2   Open       5243 non-null   float64\n",
      " 3   Close      5243 non-null   float64\n",
      " 4   Volume     5243 non-null   int64  \n",
      " 5   Adj Close  5243 non-null   float64\n",
      "dtypes: float64(5), int64(1)\n",
      "memory usage: 286.7 KB\n"
     ]
    }
   ],
   "source": [
    "data.info()"
   ]
  },
  {
   "cell_type": "code",
   "execution_count": 6,
   "metadata": {},
   "outputs": [
    {
     "data": {
      "text/html": [
       "<div>\n",
       "<style scoped>\n",
       "    .dataframe tbody tr th:only-of-type {\n",
       "        vertical-align: middle;\n",
       "    }\n",
       "\n",
       "    .dataframe tbody tr th {\n",
       "        vertical-align: top;\n",
       "    }\n",
       "\n",
       "    .dataframe thead th {\n",
       "        text-align: right;\n",
       "    }\n",
       "</style>\n",
       "<table border=\"1\" class=\"dataframe\">\n",
       "  <thead>\n",
       "    <tr style=\"text-align: right;\">\n",
       "      <th></th>\n",
       "      <th>High</th>\n",
       "      <th>Low</th>\n",
       "      <th>Open</th>\n",
       "      <th>Close</th>\n",
       "      <th>Volume</th>\n",
       "      <th>Adj Close</th>\n",
       "    </tr>\n",
       "    <tr>\n",
       "      <th>Date</th>\n",
       "      <th></th>\n",
       "      <th></th>\n",
       "      <th></th>\n",
       "      <th></th>\n",
       "      <th></th>\n",
       "      <th></th>\n",
       "    </tr>\n",
       "  </thead>\n",
       "  <tbody>\n",
       "    <tr>\n",
       "      <th>2020-10-27</th>\n",
       "      <td>27707.689453</td>\n",
       "      <td>27457.960938</td>\n",
       "      <td>27651.179688</td>\n",
       "      <td>27463.189453</td>\n",
       "      <td>366400000</td>\n",
       "      <td>27463.189453</td>\n",
       "    </tr>\n",
       "    <tr>\n",
       "      <th>2020-10-28</th>\n",
       "      <td>27102.140625</td>\n",
       "      <td>26497.390625</td>\n",
       "      <td>27102.140625</td>\n",
       "      <td>26519.949219</td>\n",
       "      <td>496150000</td>\n",
       "      <td>26519.949219</td>\n",
       "    </tr>\n",
       "    <tr>\n",
       "      <th>2020-10-29</th>\n",
       "      <td>26891.890625</td>\n",
       "      <td>26290.779297</td>\n",
       "      <td>26480.980469</td>\n",
       "      <td>26659.109375</td>\n",
       "      <td>419770000</td>\n",
       "      <td>26659.109375</td>\n",
       "    </tr>\n",
       "    <tr>\n",
       "      <th>2020-10-30</th>\n",
       "      <td>26639.179688</td>\n",
       "      <td>26143.769531</td>\n",
       "      <td>26572.269531</td>\n",
       "      <td>26501.599609</td>\n",
       "      <td>504820000</td>\n",
       "      <td>26501.599609</td>\n",
       "    </tr>\n",
       "    <tr>\n",
       "      <th>2020-11-02</th>\n",
       "      <td>27043.480469</td>\n",
       "      <td>26691.279297</td>\n",
       "      <td>26691.279297</td>\n",
       "      <td>26925.050781</td>\n",
       "      <td>379990000</td>\n",
       "      <td>26925.050781</td>\n",
       "    </tr>\n",
       "  </tbody>\n",
       "</table>\n",
       "</div>"
      ],
      "text/plain": [
       "                    High           Low          Open         Close     Volume  \\\n",
       "Date                                                                            \n",
       "2020-10-27  27707.689453  27457.960938  27651.179688  27463.189453  366400000   \n",
       "2020-10-28  27102.140625  26497.390625  27102.140625  26519.949219  496150000   \n",
       "2020-10-29  26891.890625  26290.779297  26480.980469  26659.109375  419770000   \n",
       "2020-10-30  26639.179688  26143.769531  26572.269531  26501.599609  504820000   \n",
       "2020-11-02  27043.480469  26691.279297  26691.279297  26925.050781  379990000   \n",
       "\n",
       "               Adj Close  \n",
       "Date                      \n",
       "2020-10-27  27463.189453  \n",
       "2020-10-28  26519.949219  \n",
       "2020-10-29  26659.109375  \n",
       "2020-10-30  26501.599609  \n",
       "2020-11-02  26925.050781  "
      ]
     },
     "execution_count": 6,
     "metadata": {},
     "output_type": "execute_result"
    }
   ],
   "source": [
    "data.tail()"
   ]
  },
  {
   "cell_type": "code",
   "execution_count": 7,
   "metadata": {},
   "outputs": [
    {
     "name": "stdout",
     "output_type": "stream",
     "text": [
      "                    High           Low          Open         Close     Volume  \\\n",
      "date                                                                            \n",
      "2000-01-03  11522.009766  11305.690430  11501.849609  11357.509766  169750000   \n",
      "2000-01-04  11350.059570  10986.450195  11349.750000  10997.929688  178420000   \n",
      "2000-01-05  11215.099609  10938.669922  10989.370117  11122.650391  203190000   \n",
      "2000-01-06  11313.450195  11098.450195  11113.370117  11253.259766  176550000   \n",
      "2000-01-07  11528.139648  11239.919922  11247.059570  11522.559570  184900000   \n",
      "\n",
      "               Adj Close  \n",
      "date                      \n",
      "2000-01-03  11357.509766  \n",
      "2000-01-04  10997.929688  \n",
      "2000-01-05  11122.650391  \n",
      "2000-01-06  11253.259766  \n",
      "2000-01-07  11522.559570  \n",
      "Index(['High', 'Low', 'Open', 'Close', 'Volume', 'Adj Close'], dtype='object')\n",
      "DatetimeIndex(['2000-01-03', '2000-01-04', '2000-01-05', '2000-01-06',\n",
      "               '2000-01-07', '2000-01-10', '2000-01-11', '2000-01-12',\n",
      "               '2000-01-13', '2000-01-14',\n",
      "               ...\n",
      "               '2020-10-20', '2020-10-21', '2020-10-22', '2020-10-23',\n",
      "               '2020-10-26', '2020-10-27', '2020-10-28', '2020-10-29',\n",
      "               '2020-10-30', '2020-11-02'],\n",
      "              dtype='datetime64[ns]', name='date', length=5243, freq=None)\n"
     ]
    }
   ],
   "source": [
    "data.index.name = 'date'\n",
    "print(data.head())\n",
    "print(data.columns)\n",
    "print(data.index)"
   ]
  },
  {
   "cell_type": "code",
   "execution_count": 8,
   "metadata": {},
   "outputs": [
    {
     "data": {
      "text/plain": [
       "<matplotlib.legend.Legend at 0x7fbd40d7d130>"
      ]
     },
     "execution_count": 8,
     "metadata": {},
     "output_type": "execute_result"
    },
    {
     "data": {
      "image/png": "[encoded data removed]",
      "text/plain": [
       "<Figure size 864x432 with 1 Axes>"
      ]
     },
     "metadata": {
      "needs_background": "light"
     },
     "output_type": "display_data"
    }
   ],
   "source": [
    "plt.figure(figsize=(12,6))\n",
    "plt.plot(data['Open'])\n",
    "plt.plot(data['Close'])\n",
    "plt.plot(data['Low'])\n",
    "plt.plot(data['High'])\n",
    "plt.title('Dow Jones Average Industrial Average Price History')\n",
    "plt.xlabel('Year')\n",
    "plt.ylabel('Price')\n",
    "plt.legend(['Open', 'Close', 'Low', 'High'], loc ='best')"
   ]
  },
  {
   "cell_type": "code",
   "execution_count": 9,
   "metadata": {},
   "outputs": [],
   "source": [
    "ref = data.loc[ data.index > '2019-01-12']"
   ]
  },
  {
   "cell_type": "code",
   "execution_count": 10,
   "metadata": {},
   "outputs": [
    {
     "data": {
      "text/html": [
       "<div>\n",
       "<style scoped>\n",
       "    .dataframe tbody tr th:only-of-type {\n",
       "        vertical-align: middle;\n",
       "    }\n",
       "\n",
       "    .dataframe tbody tr th {\n",
       "        vertical-align: top;\n",
       "    }\n",
       "\n",
       "    .dataframe thead th {\n",
       "        text-align: right;\n",
       "    }\n",
       "</style>\n",
       "<table border=\"1\" class=\"dataframe\">\n",
       "  <thead>\n",
       "    <tr style=\"text-align: right;\">\n",
       "      <th></th>\n",
       "      <th>High</th>\n",
       "      <th>Low</th>\n",
       "      <th>Open</th>\n",
       "      <th>Close</th>\n",
       "      <th>Volume</th>\n",
       "      <th>Adj Close</th>\n",
       "    </tr>\n",
       "    <tr>\n",
       "      <th>date</th>\n",
       "      <th></th>\n",
       "      <th></th>\n",
       "      <th></th>\n",
       "      <th></th>\n",
       "      <th></th>\n",
       "      <th></th>\n",
       "    </tr>\n",
       "  </thead>\n",
       "  <tbody>\n",
       "    <tr>\n",
       "      <th>2019-01-14</th>\n",
       "      <td>23964.900391</td>\n",
       "      <td>23765.240234</td>\n",
       "      <td>23880.529297</td>\n",
       "      <td>23909.839844</td>\n",
       "      <td>277560000</td>\n",
       "      <td>23909.839844</td>\n",
       "    </tr>\n",
       "    <tr>\n",
       "      <th>2019-01-15</th>\n",
       "      <td>24099.140625</td>\n",
       "      <td>23887.929688</td>\n",
       "      <td>23914.109375</td>\n",
       "      <td>24065.589844</td>\n",
       "      <td>291570000</td>\n",
       "      <td>24065.589844</td>\n",
       "    </tr>\n",
       "    <tr>\n",
       "      <th>2019-01-16</th>\n",
       "      <td>24288.609375</td>\n",
       "      <td>24119.720703</td>\n",
       "      <td>24139.910156</td>\n",
       "      <td>24207.160156</td>\n",
       "      <td>302830000</td>\n",
       "      <td>24207.160156</td>\n",
       "    </tr>\n",
       "    <tr>\n",
       "      <th>2019-01-17</th>\n",
       "      <td>24474.460938</td>\n",
       "      <td>24088.900391</td>\n",
       "      <td>24147.089844</td>\n",
       "      <td>24370.099609</td>\n",
       "      <td>288590000</td>\n",
       "      <td>24370.099609</td>\n",
       "    </tr>\n",
       "    <tr>\n",
       "      <th>2019-01-18</th>\n",
       "      <td>24750.220703</td>\n",
       "      <td>24459.029297</td>\n",
       "      <td>24534.189453</td>\n",
       "      <td>24706.349609</td>\n",
       "      <td>372970000</td>\n",
       "      <td>24706.349609</td>\n",
       "    </tr>\n",
       "  </tbody>\n",
       "</table>\n",
       "</div>"
      ],
      "text/plain": [
       "                    High           Low          Open         Close     Volume  \\\n",
       "date                                                                            \n",
       "2019-01-14  23964.900391  23765.240234  23880.529297  23909.839844  277560000   \n",
       "2019-01-15  24099.140625  23887.929688  23914.109375  24065.589844  291570000   \n",
       "2019-01-16  24288.609375  24119.720703  24139.910156  24207.160156  302830000   \n",
       "2019-01-17  24474.460938  24088.900391  24147.089844  24370.099609  288590000   \n",
       "2019-01-18  24750.220703  24459.029297  24534.189453  24706.349609  372970000   \n",
       "\n",
       "               Adj Close  \n",
       "date                      \n",
       "2019-01-14  23909.839844  \n",
       "2019-01-15  24065.589844  \n",
       "2019-01-16  24207.160156  \n",
       "2019-01-17  24370.099609  \n",
       "2019-01-18  24706.349609  "
      ]
     },
     "execution_count": 10,
     "metadata": {},
     "output_type": "execute_result"
    }
   ],
   "source": [
    "ref.head()"
   ]
  },
  {
   "cell_type": "code",
   "execution_count": 11,
   "metadata": {},
   "outputs": [
    {
     "data": {
      "text/html": [
       "<div>\n",
       "<style scoped>\n",
       "    .dataframe tbody tr th:only-of-type {\n",
       "        vertical-align: middle;\n",
       "    }\n",
       "\n",
       "    .dataframe tbody tr th {\n",
       "        vertical-align: top;\n",
       "    }\n",
       "\n",
       "    .dataframe thead th {\n",
       "        text-align: right;\n",
       "    }\n",
       "</style>\n",
       "<table border=\"1\" class=\"dataframe\">\n",
       "  <thead>\n",
       "    <tr style=\"text-align: right;\">\n",
       "      <th></th>\n",
       "      <th>High</th>\n",
       "      <th>Low</th>\n",
       "      <th>Open</th>\n",
       "      <th>Close</th>\n",
       "      <th>Volume</th>\n",
       "      <th>Adj Close</th>\n",
       "    </tr>\n",
       "    <tr>\n",
       "      <th>date</th>\n",
       "      <th></th>\n",
       "      <th></th>\n",
       "      <th></th>\n",
       "      <th></th>\n",
       "      <th></th>\n",
       "      <th></th>\n",
       "    </tr>\n",
       "  </thead>\n",
       "  <tbody>\n",
       "    <tr>\n",
       "      <th>2020-10-27</th>\n",
       "      <td>27707.689453</td>\n",
       "      <td>27457.960938</td>\n",
       "      <td>27651.179688</td>\n",
       "      <td>27463.189453</td>\n",
       "      <td>366400000</td>\n",
       "      <td>27463.189453</td>\n",
       "    </tr>\n",
       "    <tr>\n",
       "      <th>2020-10-28</th>\n",
       "      <td>27102.140625</td>\n",
       "      <td>26497.390625</td>\n",
       "      <td>27102.140625</td>\n",
       "      <td>26519.949219</td>\n",
       "      <td>496150000</td>\n",
       "      <td>26519.949219</td>\n",
       "    </tr>\n",
       "    <tr>\n",
       "      <th>2020-10-29</th>\n",
       "      <td>26891.890625</td>\n",
       "      <td>26290.779297</td>\n",
       "      <td>26480.980469</td>\n",
       "      <td>26659.109375</td>\n",
       "      <td>419770000</td>\n",
       "      <td>26659.109375</td>\n",
       "    </tr>\n",
       "    <tr>\n",
       "      <th>2020-10-30</th>\n",
       "      <td>26639.179688</td>\n",
       "      <td>26143.769531</td>\n",
       "      <td>26572.269531</td>\n",
       "      <td>26501.599609</td>\n",
       "      <td>504820000</td>\n",
       "      <td>26501.599609</td>\n",
       "    </tr>\n",
       "    <tr>\n",
       "      <th>2020-11-02</th>\n",
       "      <td>27043.480469</td>\n",
       "      <td>26691.279297</td>\n",
       "      <td>26691.279297</td>\n",
       "      <td>26925.050781</td>\n",
       "      <td>379990000</td>\n",
       "      <td>26925.050781</td>\n",
       "    </tr>\n",
       "  </tbody>\n",
       "</table>\n",
       "</div>"
      ],
      "text/plain": [
       "                    High           Low          Open         Close     Volume  \\\n",
       "date                                                                            \n",
       "2020-10-27  27707.689453  27457.960938  27651.179688  27463.189453  366400000   \n",
       "2020-10-28  27102.140625  26497.390625  27102.140625  26519.949219  496150000   \n",
       "2020-10-29  26891.890625  26290.779297  26480.980469  26659.109375  419770000   \n",
       "2020-10-30  26639.179688  26143.769531  26572.269531  26501.599609  504820000   \n",
       "2020-11-02  27043.480469  26691.279297  26691.279297  26925.050781  379990000   \n",
       "\n",
       "               Adj Close  \n",
       "date                      \n",
       "2020-10-27  27463.189453  \n",
       "2020-10-28  26519.949219  \n",
       "2020-10-29  26659.109375  \n",
       "2020-10-30  26501.599609  \n",
       "2020-11-02  26925.050781  "
      ]
     },
     "execution_count": 11,
     "metadata": {},
     "output_type": "execute_result"
    }
   ],
   "source": [
    "ref.tail()"
   ]
  },
  {
   "cell_type": "code",
   "execution_count": 12,
   "metadata": {},
   "outputs": [
    {
     "data": {
      "text/plain": [
       "456"
      ]
     },
     "execution_count": 12,
     "metadata": {},
     "output_type": "execute_result"
    }
   ],
   "source": [
    "len(ref)"
   ]
  },
  {
   "cell_type": "code",
   "execution_count": 13,
   "metadata": {},
   "outputs": [
    {
     "name": "stdout",
     "output_type": "stream",
     "text": [
      "         date          High           Low          Open         Close  \\\n",
      "0  2000-01-03  11522.009766  11305.690430  11501.849609  11357.509766   \n",
      "1  2000-01-04  11350.059570  10986.450195  11349.750000  10997.929688   \n",
      "2  2000-01-05  11215.099609  10938.669922  10989.370117  11122.650391   \n",
      "3  2000-01-06  11313.450195  11098.450195  11113.370117  11253.259766   \n",
      "4  2000-01-07  11528.139648  11239.919922  11247.059570  11522.559570   \n",
      "5  2000-01-10  11638.280273  11532.480469  11532.480469  11572.200195   \n",
      "6  2000-01-11  11663.099609  11502.700195  11568.469727  11511.080078   \n",
      "7  2000-01-12  11612.530273  11505.179688  11506.730469  11551.099609   \n",
      "8  2000-01-13  11656.580078  11524.110352  11558.240234  11582.429688   \n",
      "9  2000-01-14  11750.280273  11612.530273  11619.349609  11722.980469   \n",
      "10 2000-01-18  11720.120117  11546.450195  11719.190430  11560.719727   \n",
      "11 2000-01-19  11574.679688  11456.009766  11535.240234  11489.360352   \n",
      "12 2000-01-20  11558.700195  11274.980469  11490.290039  11351.299805   \n",
      "13 2000-01-21  11387.599609  11232.480469  11356.259766  11251.709961   \n",
      "14 2000-01-24  11366.500000  10917.269531  11251.940430  11008.169922   \n",
      "15 2000-01-25  11079.519531  10883.450195  11010.959961  11029.889648   \n",
      "16 2000-01-26  11131.030273  11002.580078  11025.849609  11032.990234   \n",
      "17 2000-01-27  11164.139648  10915.400391  11035.549805  11028.019531   \n",
      "18 2000-01-28  11024.919922  10735.769531  11024.919922  10738.870117   \n",
      "19 2000-01-31  10956.669922  10701.639648  10735.769531  10940.530273   \n",
      "\n",
      "       Volume     Adj Close  \n",
      "0   169750000  11357.509766  \n",
      "1   178420000  10997.929688  \n",
      "2   203190000  11122.650391  \n",
      "3   176550000  11253.259766  \n",
      "4   184900000  11522.559570  \n",
      "5   168180000  11572.200195  \n",
      "6   177300000  11511.080078  \n",
      "7   194060000  11551.099609  \n",
      "8   174910000  11582.429688  \n",
      "9   266830000  11722.980469  \n",
      "10  200220000  11560.719727  \n",
      "11  193090000  11489.360352  \n",
      "12  191230000  11351.299805  \n",
      "13  205840000  11251.709961  \n",
      "14  202740000  11008.169922  \n",
      "15  209230000  11029.889648  \n",
      "16  188840000  11032.990234  \n",
      "17  194280000  11028.019531  \n",
      "18  183090000  10738.870117  \n",
      "19  191880000  10940.530273  \n"
     ]
    }
   ],
   "source": [
    "dataset = data.copy()\n",
    "dataset.reset_index(inplace = True)\n",
    "print(dataset.head(20))"
   ]
  },
  {
   "cell_type": "code",
   "execution_count": 14,
   "metadata": {},
   "outputs": [
    {
     "data": {
      "text/plain": [
       "date         0\n",
       "High         0\n",
       "Low          0\n",
       "Open         0\n",
       "Close        0\n",
       "Volume       0\n",
       "Adj Close    0\n",
       "dtype: int64"
      ]
     },
     "execution_count": 14,
     "metadata": {},
     "output_type": "execute_result"
    }
   ],
   "source": [
    "### Check for null values\n",
    "dataset.isnull().sum()"
   ]
  },
  {
   "cell_type": "code",
   "execution_count": 15,
   "metadata": {},
   "outputs": [
    {
     "name": "stdout",
     "output_type": "stream",
     "text": [
      "                    Open          High           Low         Close     Volume  \\\n",
      "date                                                                            \n",
      "2000-01-03  11501.849609  11522.009766  11305.690430  11357.509766  169750000   \n",
      "2000-01-04  11349.750000  11350.059570  10986.450195  10997.929688  178420000   \n",
      "2000-01-05  10989.370117  11215.099609  10938.669922  11122.650391  203190000   \n",
      "2000-01-06  11113.370117  11313.450195  11098.450195  11253.259766  176550000   \n",
      "2000-01-07  11247.059570  11528.139648  11239.919922  11522.559570  184900000   \n",
      "\n",
      "            high_close  change_percentage  \n",
      "date                                       \n",
      "2000-01-03    1.448381          -1.254927  \n",
      "2000-01-04    3.201783          -3.099807  \n",
      "2000-01-05    0.831180           1.212811  \n",
      "2000-01-06    0.534871           1.258751  \n",
      "2000-01-07    0.048427           2.449529  \n"
     ]
    }
   ],
   "source": [
    "### Creating new features\n",
    "feature_data = data[['Open','High','Low','Close','Volume']].copy()\n",
    "feature_data['high_close'] = (feature_data['High'] - feature_data['Close'])/(feature_data['Close'])*100\n",
    "feature_data['change_percentage'] = (feature_data['Close']-feature_data['Open'])/(feature_data['Open'])*100\n",
    "print(feature_data.head())"
   ]
  },
  {
   "cell_type": "code",
   "execution_count": 16,
   "metadata": {},
   "outputs": [
    {
     "data": {
      "text/html": [
       "<div>\n",
       "<style scoped>\n",
       "    .dataframe tbody tr th:only-of-type {\n",
       "        vertical-align: middle;\n",
       "    }\n",
       "\n",
       "    .dataframe tbody tr th {\n",
       "        vertical-align: top;\n",
       "    }\n",
       "\n",
       "    .dataframe thead th {\n",
       "        text-align: right;\n",
       "    }\n",
       "</style>\n",
       "<table border=\"1\" class=\"dataframe\">\n",
       "  <thead>\n",
       "    <tr style=\"text-align: right;\">\n",
       "      <th></th>\n",
       "      <th>Close</th>\n",
       "      <th>high_close</th>\n",
       "      <th>change_percentage</th>\n",
       "      <th>Volume</th>\n",
       "    </tr>\n",
       "    <tr>\n",
       "      <th>date</th>\n",
       "      <th></th>\n",
       "      <th></th>\n",
       "      <th></th>\n",
       "      <th></th>\n",
       "    </tr>\n",
       "  </thead>\n",
       "  <tbody>\n",
       "    <tr>\n",
       "      <th>2020-10-27</th>\n",
       "      <td>27463.189453</td>\n",
       "      <td>0.890283</td>\n",
       "      <td>-0.679863</td>\n",
       "      <td>366400000</td>\n",
       "    </tr>\n",
       "    <tr>\n",
       "      <th>2020-10-28</th>\n",
       "      <td>26519.949219</td>\n",
       "      <td>2.195296</td>\n",
       "      <td>-2.148138</td>\n",
       "      <td>496150000</td>\n",
       "    </tr>\n",
       "    <tr>\n",
       "      <th>2020-10-29</th>\n",
       "      <td>26659.109375</td>\n",
       "      <td>0.873177</td>\n",
       "      <td>0.672667</td>\n",
       "      <td>419770000</td>\n",
       "    </tr>\n",
       "    <tr>\n",
       "      <th>2020-10-30</th>\n",
       "      <td>26501.599609</td>\n",
       "      <td>0.519139</td>\n",
       "      <td>-0.265954</td>\n",
       "      <td>504820000</td>\n",
       "    </tr>\n",
       "    <tr>\n",
       "      <th>2020-11-02</th>\n",
       "      <td>26925.050781</td>\n",
       "      <td>0.439849</td>\n",
       "      <td>0.875835</td>\n",
       "      <td>379990000</td>\n",
       "    </tr>\n",
       "  </tbody>\n",
       "</table>\n",
       "</div>"
      ],
      "text/plain": [
       "                   Close  high_close  change_percentage     Volume\n",
       "date                                                              \n",
       "2020-10-27  27463.189453    0.890283          -0.679863  366400000\n",
       "2020-10-28  26519.949219    2.195296          -2.148138  496150000\n",
       "2020-10-29  26659.109375    0.873177           0.672667  419770000\n",
       "2020-10-30  26501.599609    0.519139          -0.265954  504820000\n",
       "2020-11-02  26925.050781    0.439849           0.875835  379990000"
      ]
     },
     "execution_count": 16,
     "metadata": {},
     "output_type": "execute_result"
    }
   ],
   "source": [
    "df = feature_data[['Close', 'high_close','change_percentage', 'Volume']]\n",
    "df.tail()"
   ]
  },
  {
   "cell_type": "code",
   "execution_count": 17,
   "metadata": {},
   "outputs": [
    {
     "name": "stdout",
     "output_type": "stream",
     "text": [
      "5243\n",
      "Training size 4195\n",
      "Testing size 1048\n"
     ]
    }
   ],
   "source": [
    "import math\n",
    "Data = df.values\n",
    "tr_data_size = math.ceil(0.8*len(Data))\n",
    "test_data_size = len(Data)-tr_data_size\n",
    "print(len(Data))\n",
    "print(\"Training size\", tr_data_size)\n",
    "print('Testing size', test_data_size)\n"
   ]
  },
  {
   "cell_type": "code",
   "execution_count": 18,
   "metadata": {},
   "outputs": [],
   "source": [
    "## Splitting the dataset\n",
    "train, test = Data[0:tr_data_size], Data[tr_data_size:len(Data)]\n",
    "train,test = df[0:tr_data_size], df[tr_data_size:len(Data)]"
   ]
  },
  {
   "cell_type": "code",
   "execution_count": 19,
   "metadata": {},
   "outputs": [
    {
     "name": "stdout",
     "output_type": "stream",
     "text": [
      "(4195, 4)\n",
      "(1048, 4)\n"
     ]
    }
   ],
   "source": [
    "print(train.shape)\n",
    "print(test.shape)"
   ]
  },
  {
   "cell_type": "code",
   "execution_count": 20,
   "metadata": {},
   "outputs": [
    {
     "name": "stdout",
     "output_type": "stream",
     "text": [
      "[[0.39792039 0.14299956 0.34880977 0.22100462]\n",
      " [0.36817599 0.31611409 0.25023891 0.23288084]\n",
      " [0.37849286 0.0820629  0.4806596  0.26681095]\n",
      " ...\n",
      " [0.98054679 0.02081766 0.40547968 0.12306344]\n",
      " [0.98207048 0.00576219 0.42246145 0.09091407]\n",
      " [0.98808091 0.02818988 0.42336851 0.09032506]]\n"
     ]
    }
   ],
   "source": [
    "from sklearn.preprocessing import MinMaxScaler\n",
    "\n",
    "scaler = MinMaxScaler()\n",
    "training_data = scaler.fit_transform(train)\n",
    "print(training_data)\n"
   ]
  },
  {
   "cell_type": "code",
   "execution_count": 21,
   "metadata": {},
   "outputs": [
    {
     "name": "stdout",
     "output_type": "stream",
     "text": [
      "(4195, 4)\n"
     ]
    }
   ],
   "source": [
    "print(training_data.shape)"
   ]
  },
  {
   "cell_type": "code",
   "execution_count": 22,
   "metadata": {},
   "outputs": [
    {
     "data": {
      "text/plain": [
       "array([[0.39792039, 0.14299956, 0.34880977, 0.22100462],\n",
       "       [0.36817599, 0.31611409, 0.25023891, 0.23288084],\n",
       "       [0.37849286, 0.0820629 , 0.4806596 , 0.26681095],\n",
       "       ...,\n",
       "       [0.98054679, 0.02081766, 0.40547968, 0.12306344],\n",
       "       [0.98207048, 0.00576219, 0.42246145, 0.09091407],\n",
       "       [0.98808091, 0.02818988, 0.42336851, 0.09032506]])"
      ]
     },
     "execution_count": 22,
     "metadata": {},
     "output_type": "execute_result"
    }
   ],
   "source": [
    "training_data"
   ]
  },
  {
   "cell_type": "code",
   "execution_count": 23,
   "metadata": {},
   "outputs": [
    {
     "data": {
      "text/plain": [
       "0.36989573667372777"
      ]
     },
     "execution_count": 23,
     "metadata": {},
     "output_type": "execute_result"
    }
   ],
   "source": [
    "training_data[60,0]"
   ]
  },
  {
   "cell_type": "code",
   "execution_count": 24,
   "metadata": {},
   "outputs": [
    {
     "name": "stdout",
     "output_type": "stream",
     "text": [
      "[array([[0.39792039, 0.14299956, 0.34880977, 0.22100462],\n",
      "       [0.36817599, 0.31611409, 0.25023891, 0.23288084],\n",
      "       [0.37849286, 0.0820629 , 0.4806596 , 0.26681095],\n",
      "       [0.38929685, 0.05280816, 0.48311415, 0.2303193 ],\n",
      "       [0.41157328, 0.00478127, 0.54673675, 0.24175719],\n",
      "       [0.41567954, 0.05637759, 0.43426177, 0.21885402],\n",
      "       [0.4106237 , 0.13038728, 0.38935418, 0.23134666],\n",
      "       [0.41393411, 0.05250659, 0.43646182, 0.25430462],\n",
      "       [0.41652572, 0.06320707, 0.42704169, 0.22807282],\n",
      "       [0.42815206, 0.02299182, 0.46351254, 0.35398545],\n",
      "       [0.41472988, 0.13613081, 0.3436108 , 0.26274263],\n",
      "       [0.40882705, 0.0733168 , 0.39460897, 0.25297591],\n",
      "       [0.3974067 , 0.18039142, 0.35122986, 0.25042806],\n",
      "       [0.38916865, 0.11923939, 0.36667076, 0.27044094],\n",
      "       [0.36902306, 0.32138089, 0.30010628, 0.26619454],\n",
      "       [0.37081971, 0.04442465, 0.42504523, 0.27508459],\n",
      "       [0.37107619, 0.08773283, 0.41932004, 0.24715423],\n",
      "       [0.37066501, 0.12186436, 0.41221397, 0.25460598],\n",
      "       [0.34674663, 0.26298742, 0.27723316, 0.23927784],\n",
      "       [0.36342792, 0.0145649 , 0.51776447, 0.25131844],\n",
      "       [0.37174288, 0.02885674, 0.46632518, 0.23930523],\n",
      "       [0.36861196, 0.10384293, 0.39918885, 0.21336109],\n",
      "       [0.36945903, 0.059237  , 0.41729616, 0.2331685 ],\n",
      "       [0.36535277, 0.11315003, 0.39132874, 0.21667603],\n",
      "       [0.36055421, 0.05898096, 0.3865385 , 0.18800597],\n",
      "       [0.36483989, 0.05898101, 0.44199563, 0.21982658],\n",
      "       [0.34346183, 0.23038355, 0.29402751, 0.21936085],\n",
      "       [0.33886837, 0.0877699 , 0.38874533, 0.202704  ],\n",
      "       [0.32080071, 0.20212588, 0.30867105, 0.25359232],\n",
      "       [0.32862848, 0.02736734, 0.46102919, 0.2175664 ],\n",
      "       [0.34502769, 0.04143416, 0.51638871, 0.23959289],\n",
      "       [0.33206717, 0.16851121, 0.34083681, 0.21214197],\n",
      "       [0.32819259, 0.14769357, 0.38997409, 0.25672918],\n",
      "       [0.30378604, 0.28812003, 0.26593077, 0.27467364],\n",
      "       [0.31084372, 0.03061147, 0.46030305, 0.25468816],\n",
      "       [0.30429981, 0.10873511, 0.38000265, 0.24227771],\n",
      "       [0.29328975, 0.15204829, 0.33769094, 0.31386381],\n",
      "       [0.27422202, 0.27059973, 0.29479266, 0.25592099],\n",
      "       [0.28882458, 0.11594506, 0.51561458, 0.28056381],\n",
      "       [0.29624117, 0.07469966, 0.46308057, 0.25060614],\n",
      "       [0.29703694, 0.04713587, 0.42103986, 0.28542663],\n",
      "       [0.29926957, 0.04610677, 0.43140006, 0.27135871],\n",
      "       [0.31600216, 0.07268169, 0.51886171, 0.27676945],\n",
      "       [0.29973115, 0.20720783, 0.31865596, 0.22489487],\n",
      "       [0.26875508, 0.43651521, 0.20545568, 0.36953276],\n",
      "       [0.27375963, 0.06246397, 0.44630145, 0.29437146],\n",
      "       [0.28651505, 0.        , 0.50013022, 0.24512691],\n",
      "       [0.27973945, 0.1616564 , 0.37329719, 0.25893456],\n",
      "       [0.28125402, 0.05103705, 0.43521827, 0.24355163],\n",
      "       [0.27001325, 0.23352183, 0.33729068, 0.24337356],\n",
      "       [0.29649765, 0.04754591, 0.59195402, 0.26918072],\n",
      "       [0.33779051, 0.00172778, 0.67459728, 0.33612317],\n",
      "       [0.33486478, 0.15668841, 0.39839343, 0.32795912],\n",
      "       [0.34189677, 0.04388212, 0.45897262, 0.23193567],\n",
      "       [0.36068241, 0.        , 0.52946964, 0.27881046],\n",
      "       [0.35732071, 0.04594534, 0.39126184, 0.25672918],\n",
      "       [0.37826207, 0.01487193, 0.53145286, 0.29628919],\n",
      "       [0.3776714 , 0.10832894, 0.41839458, 0.28591976],\n",
      "       [0.37048552, 0.12981357, 0.38339715, 0.24172979],\n",
      "       [0.3630623 , 0.14284876, 0.37341682, 0.23200416]])]\n",
      "\n",
      "\n",
      "[0.36989573667372777]\n",
      "[array([[0.39792039, 0.14299956, 0.34880977, 0.22100462],\n",
      "       [0.36817599, 0.31611409, 0.25023891, 0.23288084],\n",
      "       [0.37849286, 0.0820629 , 0.4806596 , 0.26681095],\n",
      "       [0.38929685, 0.05280816, 0.48311415, 0.2303193 ],\n",
      "       [0.41157328, 0.00478127, 0.54673675, 0.24175719],\n",
      "       [0.41567954, 0.05637759, 0.43426177, 0.21885402],\n",
      "       [0.4106237 , 0.13038728, 0.38935418, 0.23134666],\n",
      "       [0.41393411, 0.05250659, 0.43646182, 0.25430462],\n",
      "       [0.41652572, 0.06320707, 0.42704169, 0.22807282],\n",
      "       [0.42815206, 0.02299182, 0.46351254, 0.35398545],\n",
      "       [0.41472988, 0.13613081, 0.3436108 , 0.26274263],\n",
      "       [0.40882705, 0.0733168 , 0.39460897, 0.25297591],\n",
      "       [0.3974067 , 0.18039142, 0.35122986, 0.25042806],\n",
      "       [0.38916865, 0.11923939, 0.36667076, 0.27044094],\n",
      "       [0.36902306, 0.32138089, 0.30010628, 0.26619454],\n",
      "       [0.37081971, 0.04442465, 0.42504523, 0.27508459],\n",
      "       [0.37107619, 0.08773283, 0.41932004, 0.24715423],\n",
      "       [0.37066501, 0.12186436, 0.41221397, 0.25460598],\n",
      "       [0.34674663, 0.26298742, 0.27723316, 0.23927784],\n",
      "       [0.36342792, 0.0145649 , 0.51776447, 0.25131844],\n",
      "       [0.37174288, 0.02885674, 0.46632518, 0.23930523],\n",
      "       [0.36861196, 0.10384293, 0.39918885, 0.21336109],\n",
      "       [0.36945903, 0.059237  , 0.41729616, 0.2331685 ],\n",
      "       [0.36535277, 0.11315003, 0.39132874, 0.21667603],\n",
      "       [0.36055421, 0.05898096, 0.3865385 , 0.18800597],\n",
      "       [0.36483989, 0.05898101, 0.44199563, 0.21982658],\n",
      "       [0.34346183, 0.23038355, 0.29402751, 0.21936085],\n",
      "       [0.33886837, 0.0877699 , 0.38874533, 0.202704  ],\n",
      "       [0.32080071, 0.20212588, 0.30867105, 0.25359232],\n",
      "       [0.32862848, 0.02736734, 0.46102919, 0.2175664 ],\n",
      "       [0.34502769, 0.04143416, 0.51638871, 0.23959289],\n",
      "       [0.33206717, 0.16851121, 0.34083681, 0.21214197],\n",
      "       [0.32819259, 0.14769357, 0.38997409, 0.25672918],\n",
      "       [0.30378604, 0.28812003, 0.26593077, 0.27467364],\n",
      "       [0.31084372, 0.03061147, 0.46030305, 0.25468816],\n",
      "       [0.30429981, 0.10873511, 0.38000265, 0.24227771],\n",
      "       [0.29328975, 0.15204829, 0.33769094, 0.31386381],\n",
      "       [0.27422202, 0.27059973, 0.29479266, 0.25592099],\n",
      "       [0.28882458, 0.11594506, 0.51561458, 0.28056381],\n",
      "       [0.29624117, 0.07469966, 0.46308057, 0.25060614],\n",
      "       [0.29703694, 0.04713587, 0.42103986, 0.28542663],\n",
      "       [0.29926957, 0.04610677, 0.43140006, 0.27135871],\n",
      "       [0.31600216, 0.07268169, 0.51886171, 0.27676945],\n",
      "       [0.29973115, 0.20720783, 0.31865596, 0.22489487],\n",
      "       [0.26875508, 0.43651521, 0.20545568, 0.36953276],\n",
      "       [0.27375963, 0.06246397, 0.44630145, 0.29437146],\n",
      "       [0.28651505, 0.        , 0.50013022, 0.24512691],\n",
      "       [0.27973945, 0.1616564 , 0.37329719, 0.25893456],\n",
      "       [0.28125402, 0.05103705, 0.43521827, 0.24355163],\n",
      "       [0.27001325, 0.23352183, 0.33729068, 0.24337356],\n",
      "       [0.29649765, 0.04754591, 0.59195402, 0.26918072],\n",
      "       [0.33779051, 0.00172778, 0.67459728, 0.33612317],\n",
      "       [0.33486478, 0.15668841, 0.39839343, 0.32795912],\n",
      "       [0.34189677, 0.04388212, 0.45897262, 0.23193567],\n",
      "       [0.36068241, 0.        , 0.52946964, 0.27881046],\n",
      "       [0.35732071, 0.04594534, 0.39126184, 0.25672918],\n",
      "       [0.37826207, 0.01487193, 0.53145286, 0.29628919],\n",
      "       [0.3776714 , 0.10832894, 0.41839458, 0.28591976],\n",
      "       [0.37048552, 0.12981357, 0.38339715, 0.24172979],\n",
      "       [0.3630623 , 0.14284876, 0.37341682, 0.23200416]]), array([[0.36817599, 0.31611409, 0.25023891, 0.23288084],\n",
      "       [0.37849286, 0.0820629 , 0.4806596 , 0.26681095],\n",
      "       [0.38929685, 0.05280816, 0.48311415, 0.2303193 ],\n",
      "       [0.41157328, 0.00478127, 0.54673675, 0.24175719],\n",
      "       [0.41567954, 0.05637759, 0.43426177, 0.21885402],\n",
      "       [0.4106237 , 0.13038728, 0.38935418, 0.23134666],\n",
      "       [0.41393411, 0.05250659, 0.43646182, 0.25430462],\n",
      "       [0.41652572, 0.06320707, 0.42704169, 0.22807282],\n",
      "       [0.42815206, 0.02299182, 0.46351254, 0.35398545],\n",
      "       [0.41472988, 0.13613081, 0.3436108 , 0.26274263],\n",
      "       [0.40882705, 0.0733168 , 0.39460897, 0.25297591],\n",
      "       [0.3974067 , 0.18039142, 0.35122986, 0.25042806],\n",
      "       [0.38916865, 0.11923939, 0.36667076, 0.27044094],\n",
      "       [0.36902306, 0.32138089, 0.30010628, 0.26619454],\n",
      "       [0.37081971, 0.04442465, 0.42504523, 0.27508459],\n",
      "       [0.37107619, 0.08773283, 0.41932004, 0.24715423],\n",
      "       [0.37066501, 0.12186436, 0.41221397, 0.25460598],\n",
      "       [0.34674663, 0.26298742, 0.27723316, 0.23927784],\n",
      "       [0.36342792, 0.0145649 , 0.51776447, 0.25131844],\n",
      "       [0.37174288, 0.02885674, 0.46632518, 0.23930523],\n",
      "       [0.36861196, 0.10384293, 0.39918885, 0.21336109],\n",
      "       [0.36945903, 0.059237  , 0.41729616, 0.2331685 ],\n",
      "       [0.36535277, 0.11315003, 0.39132874, 0.21667603],\n",
      "       [0.36055421, 0.05898096, 0.3865385 , 0.18800597],\n",
      "       [0.36483989, 0.05898101, 0.44199563, 0.21982658],\n",
      "       [0.34346183, 0.23038355, 0.29402751, 0.21936085],\n",
      "       [0.33886837, 0.0877699 , 0.38874533, 0.202704  ],\n",
      "       [0.32080071, 0.20212588, 0.30867105, 0.25359232],\n",
      "       [0.32862848, 0.02736734, 0.46102919, 0.2175664 ],\n",
      "       [0.34502769, 0.04143416, 0.51638871, 0.23959289],\n",
      "       [0.33206717, 0.16851121, 0.34083681, 0.21214197],\n",
      "       [0.32819259, 0.14769357, 0.38997409, 0.25672918],\n",
      "       [0.30378604, 0.28812003, 0.26593077, 0.27467364],\n",
      "       [0.31084372, 0.03061147, 0.46030305, 0.25468816],\n",
      "       [0.30429981, 0.10873511, 0.38000265, 0.24227771],\n",
      "       [0.29328975, 0.15204829, 0.33769094, 0.31386381],\n",
      "       [0.27422202, 0.27059973, 0.29479266, 0.25592099],\n",
      "       [0.28882458, 0.11594506, 0.51561458, 0.28056381],\n",
      "       [0.29624117, 0.07469966, 0.46308057, 0.25060614],\n",
      "       [0.29703694, 0.04713587, 0.42103986, 0.28542663],\n",
      "       [0.29926957, 0.04610677, 0.43140006, 0.27135871],\n",
      "       [0.31600216, 0.07268169, 0.51886171, 0.27676945],\n",
      "       [0.29973115, 0.20720783, 0.31865596, 0.22489487],\n",
      "       [0.26875508, 0.43651521, 0.20545568, 0.36953276],\n",
      "       [0.27375963, 0.06246397, 0.44630145, 0.29437146],\n",
      "       [0.28651505, 0.        , 0.50013022, 0.24512691],\n",
      "       [0.27973945, 0.1616564 , 0.37329719, 0.25893456],\n",
      "       [0.28125402, 0.05103705, 0.43521827, 0.24355163],\n",
      "       [0.27001325, 0.23352183, 0.33729068, 0.24337356],\n",
      "       [0.29649765, 0.04754591, 0.59195402, 0.26918072],\n",
      "       [0.33779051, 0.00172778, 0.67459728, 0.33612317],\n",
      "       [0.33486478, 0.15668841, 0.39839343, 0.32795912],\n",
      "       [0.34189677, 0.04388212, 0.45897262, 0.23193567],\n",
      "       [0.36068241, 0.        , 0.52946964, 0.27881046],\n",
      "       [0.35732071, 0.04594534, 0.39126184, 0.25672918],\n",
      "       [0.37826207, 0.01487193, 0.53145286, 0.29628919],\n",
      "       [0.3776714 , 0.10832894, 0.41839458, 0.28591976],\n",
      "       [0.37048552, 0.12981357, 0.38339715, 0.24172979],\n",
      "       [0.3630623 , 0.14284876, 0.37341682, 0.23200416],\n",
      "       [0.36989574, 0.07421793, 0.45477287, 0.26157829]])]\n",
      "\n",
      "\n",
      "[0.36989573667372777, 0.36671352776853516]\n"
     ]
    }
   ],
   "source": [
    "### Since the LSTM requires three dimesnional data; preparing the data in the form it requires is must\n",
    "#### Data Preparation\n",
    "#### Considering 60 days traceback or history data\n",
    "\n",
    "x_train = []\n",
    "y_train = []\n",
    "for i in range(60, len(training_data)):\n",
    "    x_train.append(training_data[i-60:i])\n",
    "    y_train.append(training_data[i,0])\n",
    "    if i<=61:\n",
    "        print(x_train)\n",
    "        print('\\n')\n",
    "        print(y_train)"
   ]
  },
  {
   "cell_type": "code",
   "execution_count": 25,
   "metadata": {},
   "outputs": [
    {
     "data": {
      "text/plain": [
       "(4135, 60, 4)"
      ]
     },
     "execution_count": 25,
     "metadata": {},
     "output_type": "execute_result"
    }
   ],
   "source": [
    "np.shape(x_train)"
   ]
  },
  {
   "cell_type": "code",
   "execution_count": 26,
   "metadata": {},
   "outputs": [],
   "source": [
    "x_train, y_train = np.array(x_train), np.array(y_train)"
   ]
  },
  {
   "cell_type": "code",
   "execution_count": 27,
   "metadata": {},
   "outputs": [
    {
     "name": "stdout",
     "output_type": "stream",
     "text": [
      "(4135, 60, 4)\n",
      "(4135,)\n"
     ]
    }
   ],
   "source": [
    "print(x_train.shape)\n",
    "print(y_train.shape)"
   ]
  },
  {
   "cell_type": "code",
   "execution_count": 28,
   "metadata": {},
   "outputs": [],
   "source": [
    "### LSTM Architecture"
   ]
  },
  {
   "cell_type": "code",
   "execution_count": 29,
   "metadata": {},
   "outputs": [],
   "source": [
    "from keras.models import Sequential\n",
    "from keras.layers import Dense, LSTM, Dropout\n",
    "import tensorflow as tf"
   ]
  },
  {
   "cell_type": "code",
   "execution_count": 30,
   "metadata": {},
   "outputs": [],
   "source": [
    "model = Sequential()\n",
    "\n",
    "model.add(LSTM(units = 10, activation = 'relu', return_sequences = True))\n",
    "model.add(Dropout(0.1))\n",
    "model.add(LSTM(units = 20, activation ='relu', return_sequences=True))\n",
    "model.add(Dropout(0.2))\n",
    "model.add(LSTM(units = 30, activation ='relu'))\n",
    "model.add(Dropout(0.3))\n",
    "model.add(Dense(units=1))\n",
    "\n",
    "#model.summary()"
   ]
  },
  {
   "cell_type": "code",
   "execution_count": 31,
   "metadata": {},
   "outputs": [],
   "source": [
    "LSTM?"
   ]
  },
  {
   "cell_type": "code",
   "execution_count": 32,
   "metadata": {},
   "outputs": [
    {
     "name": "stdout",
     "output_type": "stream",
     "text": [
      "Epoch 1/10\n",
      "130/130 [==============================] - 7s 50ms/step - loss: 0.0376\n",
      "Epoch 2/10\n",
      "130/130 [==============================] - 6s 50ms/step - loss: 0.0088\n",
      "Epoch 3/10\n",
      "130/130 [==============================] - 6s 49ms/step - loss: 0.0080\n",
      "Epoch 4/10\n",
      "130/130 [==============================] - 6s 45ms/step - loss: 0.0062\n",
      "Epoch 5/10\n",
      "130/130 [==============================] - 6s 46ms/step - loss: 0.0062\n",
      "Epoch 6/10\n",
      "130/130 [==============================] - 6s 47ms/step - loss: 0.0056\n",
      "Epoch 7/10\n",
      "130/130 [==============================] - 6s 48ms/step - loss: 0.0049\n",
      "Epoch 8/10\n",
      "130/130 [==============================] - 7s 52ms/step - loss: 0.0044\n",
      "Epoch 9/10\n",
      "130/130 [==============================] - 6s 49ms/step - loss: 0.0042\n",
      "Epoch 10/10\n",
      "130/130 [==============================] - 6s 49ms/step - loss: 0.0042\n"
     ]
    }
   ],
   "source": [
    "model.compile(optimizer='adam', loss='mean_squared_error')\n",
    "\n",
    "num_epochs = 10\n",
    "batch_size =32\n",
    "\n",
    "history = model.fit(x_train, y_train, epochs=num_epochs, batch_size=batch_size)"
   ]
  },
  {
   "cell_type": "code",
   "execution_count": 33,
   "metadata": {},
   "outputs": [
    {
     "name": "stdout",
     "output_type": "stream",
     "text": [
      "Model: \"sequential\"\n",
      "_________________________________________________________________\n",
      "Layer (type)                 Output Shape              Param #   \n",
      "=================================================================\n",
      "lstm (LSTM)                  (None, 60, 10)            600       \n",
      "_________________________________________________________________\n",
      "dropout (Dropout)            (None, 60, 10)            0         \n",
      "_________________________________________________________________\n",
      "lstm_1 (LSTM)                (None, 60, 20)            2480      \n",
      "_________________________________________________________________\n",
      "dropout_1 (Dropout)          (None, 60, 20)            0         \n",
      "_________________________________________________________________\n",
      "lstm_2 (LSTM)                (None, 30)                6120      \n",
      "_________________________________________________________________\n",
      "dropout_2 (Dropout)          (None, 30)                0         \n",
      "_________________________________________________________________\n",
      "dense (Dense)                (None, 1)                 31        \n",
      "=================================================================\n",
      "Total params: 9,231\n",
      "Trainable params: 9,231\n",
      "Non-trainable params: 0\n",
      "_________________________________________________________________\n"
     ]
    }
   ],
   "source": [
    "model.summary()"
   ]
  },
  {
   "cell_type": "code",
   "execution_count": 34,
   "metadata": {},
   "outputs": [
    {
     "data": {
      "text/html": [
       "<div>\n",
       "<style scoped>\n",
       "    .dataframe tbody tr th:only-of-type {\n",
       "        vertical-align: middle;\n",
       "    }\n",
       "\n",
       "    .dataframe tbody tr th {\n",
       "        vertical-align: top;\n",
       "    }\n",
       "\n",
       "    .dataframe thead th {\n",
       "        text-align: right;\n",
       "    }\n",
       "</style>\n",
       "<table border=\"1\" class=\"dataframe\">\n",
       "  <thead>\n",
       "    <tr style=\"text-align: right;\">\n",
       "      <th></th>\n",
       "      <th>Close</th>\n",
       "      <th>high_close</th>\n",
       "      <th>change_percentage</th>\n",
       "      <th>Volume</th>\n",
       "    </tr>\n",
       "    <tr>\n",
       "      <th>date</th>\n",
       "      <th></th>\n",
       "      <th></th>\n",
       "      <th></th>\n",
       "      <th></th>\n",
       "    </tr>\n",
       "  </thead>\n",
       "  <tbody>\n",
       "    <tr>\n",
       "      <th>2016-06-10</th>\n",
       "      <td>17865.339844</td>\n",
       "      <td>0.411302</td>\n",
       "      <td>-0.409617</td>\n",
       "      <td>90540000</td>\n",
       "    </tr>\n",
       "    <tr>\n",
       "      <th>2016-06-13</th>\n",
       "      <td>17732.480469</td>\n",
       "      <td>0.906804</td>\n",
       "      <td>-0.549730</td>\n",
       "      <td>101690000</td>\n",
       "    </tr>\n",
       "    <tr>\n",
       "      <th>2016-06-14</th>\n",
       "      <td>17674.820312</td>\n",
       "      <td>0.334372</td>\n",
       "      <td>-0.202979</td>\n",
       "      <td>93740000</td>\n",
       "    </tr>\n",
       "    <tr>\n",
       "      <th>2016-06-15</th>\n",
       "      <td>17640.169922</td>\n",
       "      <td>0.696087</td>\n",
       "      <td>-0.358573</td>\n",
       "      <td>94130000</td>\n",
       "    </tr>\n",
       "    <tr>\n",
       "      <th>2016-06-16</th>\n",
       "      <td>17733.099609</td>\n",
       "      <td>0.122993</td>\n",
       "      <td>0.743480</td>\n",
       "      <td>91950000</td>\n",
       "    </tr>\n",
       "  </tbody>\n",
       "</table>\n",
       "</div>"
      ],
      "text/plain": [
       "                   Close  high_close  change_percentage     Volume\n",
       "date                                                              \n",
       "2016-06-10  17865.339844    0.411302          -0.409617   90540000\n",
       "2016-06-13  17732.480469    0.906804          -0.549730  101690000\n",
       "2016-06-14  17674.820312    0.334372          -0.202979   93740000\n",
       "2016-06-15  17640.169922    0.696087          -0.358573   94130000\n",
       "2016-06-16  17733.099609    0.122993           0.743480   91950000"
      ]
     },
     "execution_count": 34,
     "metadata": {},
     "output_type": "execute_result"
    }
   ],
   "source": [
    "last_60_days = train.tail(60)\n",
    "df_test = last_60_days.append(test)\n",
    "df_test.head()\n"
   ]
  },
  {
   "cell_type": "code",
   "execution_count": 35,
   "metadata": {},
   "outputs": [
    {
     "data": {
      "text/plain": [
       "(1108, 4)"
      ]
     },
     "execution_count": 35,
     "metadata": {},
     "output_type": "execute_result"
    }
   ],
   "source": [
    "df_test.shape"
   ]
  },
  {
   "cell_type": "code",
   "execution_count": 36,
   "metadata": {},
   "outputs": [
    {
     "data": {
      "text/plain": [
       "array([[0.93624693, 0.04060809, 0.39397421, 0.11250223],\n",
       "       [0.92525683, 0.08952932, 0.38648807, 0.12777557],\n",
       "       [0.92048719, 0.03301274, 0.40501474, 0.11688561],\n",
       "       ...,\n",
       "       [1.66366597, 0.08620933, 0.45180004, 0.56348369],\n",
       "       [1.65063679, 0.0512549 , 0.40165006, 0.67998575],\n",
       "       [1.6856646 , 0.04342661, 0.46265516, 0.50899278]])"
      ]
     },
     "execution_count": 36,
     "metadata": {},
     "output_type": "execute_result"
    }
   ],
   "source": [
    "input_test = scaler.transform(df_test)\n",
    "input_test"
   ]
  },
  {
   "cell_type": "code",
   "execution_count": 37,
   "metadata": {},
   "outputs": [
    {
     "data": {
      "text/plain": [
       "(1108, 4)"
      ]
     },
     "execution_count": 37,
     "metadata": {},
     "output_type": "execute_result"
    }
   ],
   "source": [
    "input_test.shape"
   ]
  },
  {
   "cell_type": "code",
   "execution_count": 38,
   "metadata": {},
   "outputs": [
    {
     "name": "stdout",
     "output_type": "stream",
     "text": [
      "(1048, 60, 4)\n",
      "(1048,)\n"
     ]
    }
   ],
   "source": [
    "x_test =[]\n",
    "y_test =[]\n",
    "\n",
    "for i in range(60,input_test.shape[0]):\n",
    "    x_test.append(input_test[i-60:i])\n",
    "    y_test.append(input_test[i,0])\n",
    "    \n",
    "x_test, y_test = np.array(x_test), np.array(y_test)\n",
    "print(x_test.shape)\n",
    "print(y_test.shape)"
   ]
  },
  {
   "cell_type": "code",
   "execution_count": 39,
   "metadata": {},
   "outputs": [
    {
     "name": "stdout",
     "output_type": "stream",
     "text": [
      "33/33 [==============================] - 0s 11ms/step\n"
     ]
    }
   ],
   "source": [
    "### Making predictions on x_test dataset\n",
    "y_pred=model.predict(x_test, verbose=1)"
   ]
  },
  {
   "cell_type": "code",
   "execution_count": 40,
   "metadata": {},
   "outputs": [
    {
     "name": "stdout",
     "output_type": "stream",
     "text": [
      "Mean Squared Error for predictions is 0.41994786853542554\n"
     ]
    }
   ],
   "source": [
    "rmse = np.sqrt(np.mean(y_pred - y_test)**2)\n",
    "print('Mean Squared Error for predictions is',rmse)"
   ]
  },
  {
   "cell_type": "code",
   "execution_count": 41,
   "metadata": {},
   "outputs": [
    {
     "data": {
      "text/plain": [
       "array([8.27198213e-05, 9.87306306e-02, 5.34294282e-02, 1.36980672e-09])"
      ]
     },
     "execution_count": 41,
     "metadata": {},
     "output_type": "execute_result"
    }
   ],
   "source": [
    "### Since we scaled the numbers; it is important to scale them back\n",
    "\n",
    "scaler.scale_"
   ]
  },
  {
   "cell_type": "code",
   "execution_count": 42,
   "metadata": {},
   "outputs": [
    {
     "data": {
      "text/plain": [
       "12089.00097079876"
      ]
     },
     "execution_count": 42,
     "metadata": {},
     "output_type": "execute_result"
    }
   ],
   "source": [
    "scale = 1/8.27198213e-05\n",
    "scale"
   ]
  },
  {
   "cell_type": "code",
   "execution_count": 43,
   "metadata": {},
   "outputs": [],
   "source": [
    "y_pred = y_pred*scale\n",
    "y_test = y_test*scale"
   ]
  },
  {
   "cell_type": "code",
   "execution_count": 44,
   "metadata": {},
   "outputs": [
    {
     "data": {
      "text/plain": [
       "Text(0, 0.5, 'Price')"
      ]
     },
     "execution_count": 44,
     "metadata": {},
     "output_type": "execute_result"
    },
    {
     "data": {
      "image/png": "[encoded data removed]",
      "text/plain": [
       "<Figure size 864x432 with 1 Axes>"
      ]
     },
     "metadata": {
      "needs_background": "light"
     },
     "output_type": "display_data"
    }
   ],
   "source": [
    "plt.figure(figsize=(12,6))\n",
    "plt.plot(y_pred, color = 'grey', label = 'Predicted Values')\n",
    "plt.plot(y_test, color = 'green', label = 'Actual DJI Values')\n",
    "plt.title('DJI Price Prediction')\n",
    "plt.xlabel('Time')\n",
    "plt.ylabel('Price')"
   ]
  },
  {
   "cell_type": "code",
   "execution_count": null,
   "metadata": {},
   "outputs": [],
   "source": []
  },
  {
   "cell_type": "code",
   "execution_count": null,
   "metadata": {},
   "outputs": [],
   "source": []
  },
  {
   "cell_type": "code",
   "execution_count": 45,
   "metadata": {},
   "outputs": [
    {
     "name": "stderr",
     "output_type": "stream",
     "text": [
      "<ipython-input-45-19d6bbb1abef>:3: SettingWithCopyWarning: \n",
      "A value is trying to be set on a copy of a slice from a DataFrame.\n",
      "Try using .loc[row_indexer,col_indexer] = value instead\n",
      "\n",
      "See the caveats in the documentation: https://pandas.pydata.org/pandas-docs/stable/user_guide/indexing.html#returning-a-view-versus-a-copy\n",
      "  test['predictions'] = y_pred\n"
     ]
    },
    {
     "data": {
      "image/png": "[encoded data removed]",
      "text/plain": [
       "<Figure size 864x432 with 1 Axes>"
      ]
     },
     "metadata": {
      "needs_background": "light"
     },
     "output_type": "display_data"
    }
   ],
   "source": [
    "plt.figure(figsize=(12,6))\n",
    "plt.plot(train['Close'])\n",
    "test['predictions'] = y_pred\n",
    "plt.plot(test[['Close','predictions']])\n",
    "plt.legend(['Train', 'Test', 'Predictions'])\n",
    "plt.title('Stock Predictions for Doe Jones')\n",
    "plt.xlabel('Date')\n",
    "plt.ylabel('Closed Price in $')\n",
    "plt.show()"
   ]
  },
  {
   "cell_type": "code",
   "execution_count": 46,
   "metadata": {},
   "outputs": [
    {
     "data": {
      "text/html": [
       "<div>\n",
       "<style scoped>\n",
       "    .dataframe tbody tr th:only-of-type {\n",
       "        vertical-align: middle;\n",
       "    }\n",
       "\n",
       "    .dataframe tbody tr th {\n",
       "        vertical-align: top;\n",
       "    }\n",
       "\n",
       "    .dataframe thead th {\n",
       "        text-align: right;\n",
       "    }\n",
       "</style>\n",
       "<table border=\"1\" class=\"dataframe\">\n",
       "  <thead>\n",
       "    <tr style=\"text-align: right;\">\n",
       "      <th></th>\n",
       "      <th>Close</th>\n",
       "      <th>high_close</th>\n",
       "      <th>change_percentage</th>\n",
       "      <th>Volume</th>\n",
       "      <th>predictions</th>\n",
       "    </tr>\n",
       "    <tr>\n",
       "      <th>date</th>\n",
       "      <th></th>\n",
       "      <th></th>\n",
       "      <th></th>\n",
       "      <th></th>\n",
       "      <th></th>\n",
       "    </tr>\n",
       "  </thead>\n",
       "  <tbody>\n",
       "    <tr>\n",
       "      <th>2020-10-27</th>\n",
       "      <td>27463.189453</td>\n",
       "      <td>0.890283</td>\n",
       "      <td>-0.679863</td>\n",
       "      <td>366400000</td>\n",
       "      <td>39562.183594</td>\n",
       "    </tr>\n",
       "    <tr>\n",
       "      <th>2020-10-28</th>\n",
       "      <td>26519.949219</td>\n",
       "      <td>2.195296</td>\n",
       "      <td>-2.148138</td>\n",
       "      <td>496150000</td>\n",
       "      <td>39773.199219</td>\n",
       "    </tr>\n",
       "    <tr>\n",
       "      <th>2020-10-29</th>\n",
       "      <td>26659.109375</td>\n",
       "      <td>0.873177</td>\n",
       "      <td>0.672667</td>\n",
       "      <td>419770000</td>\n",
       "      <td>39999.554688</td>\n",
       "    </tr>\n",
       "    <tr>\n",
       "      <th>2020-10-30</th>\n",
       "      <td>26501.599609</td>\n",
       "      <td>0.519139</td>\n",
       "      <td>-0.265954</td>\n",
       "      <td>504820000</td>\n",
       "      <td>40200.867188</td>\n",
       "    </tr>\n",
       "    <tr>\n",
       "      <th>2020-11-02</th>\n",
       "      <td>26925.050781</td>\n",
       "      <td>0.439849</td>\n",
       "      <td>0.875835</td>\n",
       "      <td>379990000</td>\n",
       "      <td>40383.187500</td>\n",
       "    </tr>\n",
       "  </tbody>\n",
       "</table>\n",
       "</div>"
      ],
      "text/plain": [
       "                   Close  high_close  change_percentage     Volume  \\\n",
       "date                                                                 \n",
       "2020-10-27  27463.189453    0.890283          -0.679863  366400000   \n",
       "2020-10-28  26519.949219    2.195296          -2.148138  496150000   \n",
       "2020-10-29  26659.109375    0.873177           0.672667  419770000   \n",
       "2020-10-30  26501.599609    0.519139          -0.265954  504820000   \n",
       "2020-11-02  26925.050781    0.439849           0.875835  379990000   \n",
       "\n",
       "             predictions  \n",
       "date                      \n",
       "2020-10-27  39562.183594  \n",
       "2020-10-28  39773.199219  \n",
       "2020-10-29  39999.554688  \n",
       "2020-10-30  40200.867188  \n",
       "2020-11-02  40383.187500  "
      ]
     },
     "execution_count": 46,
     "metadata": {},
     "output_type": "execute_result"
    }
   ],
   "source": [
    "test.tail()"
   ]
  },
  {
   "cell_type": "code",
   "execution_count": null,
   "metadata": {},
   "outputs": [],
   "source": []
  }
 ],
 "metadata": {
  "kernelspec": {
   "display_name": "Python 3",
   "language": "python",
   "name": "python3"
  },
  "language_info": {
   "codemirror_mode": {
    "name": "ipython",
    "version": 3
   },
   "file_extension": ".py",
   "mimetype": "text/x-python",
   "name": "python",
   "nbconvert_exporter": "python",
   "pygments_lexer": "ipython3",
   "version": "3.7.6"
  }
 },
 "nbformat": 4,
 "nbformat_minor": 4
}
