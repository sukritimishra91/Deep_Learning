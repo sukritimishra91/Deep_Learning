{
  "nbformat": 4,
  "nbformat_minor": 0,
  "metadata": {
    "colab": {
      "name": "Sukriti_Mishra_HW-1_Answer_4.ipynb",
      "provenance": [],
      "collapsed_sections": []
    },
    "kernelspec": {
      "name": "python3",
      "display_name": "Python 3"
    }
  },
  "cells": [
    {
      "cell_type": "code",
      "metadata": {
        "id": "jWLZMvlRKLea",
        "colab_type": "code",
        "colab": {}
      },
      "source": [
        "import tensorflow as tf\n",
        "import tensorflow_datasets as tfds\n",
        "from tensorflow import keras\n",
        "import numpy as np"
      ],
      "execution_count": 16,
      "outputs": []
    },
    {
      "cell_type": "code",
      "metadata": {
        "id": "QJqbm2moKSg0",
        "colab_type": "code",
        "colab": {
          "base_uri": "https://localhost:8080/",
          "height": 119
        },
        "outputId": "a4aac78b-d833-4166-c8eb-b2a7abe2d46a"
      },
      "source": [
        "(train_images, train_labels), (test_images, test_labels) = keras.datasets.mnist.load_data()\n",
        "\n",
        "\n",
        "print(\"train_images shape : \", train_images.shape)\n",
        "print(\"train_labels shape : \", train_labels.shape)\n",
        "print(\"test_images shape : \", test_images.shape)\n",
        "print(\"test_labels shape : \", test_labels.shape)"
      ],
      "execution_count": 2,
      "outputs": [
        {
          "output_type": "stream",
          "text": [
            "Downloading data from https://storage.googleapis.com/tensorflow/tf-keras-datasets/mnist.npz\n",
            "11493376/11490434 [==============================] - 0s 0us/step\n",
            "train_images shape :  (60000, 28, 28)\n",
            "train_labels shape :  (60000,)\n",
            "test_images shape :  (10000, 28, 28)\n",
            "test_labels shape :  (10000,)\n"
          ],
          "name": "stdout"
        }
      ]
    },
    {
      "cell_type": "code",
      "metadata": {
        "id": "9HBQwRVDKalE",
        "colab_type": "code",
        "colab": {
          "base_uri": "https://localhost:8080/",
          "height": 333
        },
        "outputId": "641df968-f502-4c67-fb9c-e702fc7259c3"
      },
      "source": [
        "%matplotlib inline\n",
        "import matplotlib.pyplot as plt\n",
        "import random\n",
        "\n",
        "index = random.randint(0, len(train_images))\n",
        "# index = 10\n",
        "print (\"Displaying train index = \", index)\n",
        "\n",
        "print(\"train label [{}] = {} \".format(index, train_labels[index]))\n",
        "print (\"------------ raw data for train_image[{}] -------\".format(index))\n",
        "#print(train_images[index])\n",
        "print (\"--------------------\")\n",
        "\n",
        "plt.imshow(train_images[index])\n",
        "plt.show()"
      ],
      "execution_count": 3,
      "outputs": [
        {
          "output_type": "stream",
          "text": [
            "Displaying train index =  21393\n",
            "train label [21393] = 4 \n",
            "------------ raw data for train_image[21393] -------\n",
            "--------------------\n"
          ],
          "name": "stdout"
        },
        {
          "output_type": "display_data",
          "data": {
            "image/png": "[encoded data removed]",
            "text/plain": [
              "<Figure size 432x288 with 1 Axes>"
            ]
          },
          "metadata": {
            "tags": [],
            "needs_background": "light"
          }
        }
      ]
    },
    {
      "cell_type": "code",
      "metadata": {
        "id": "X5G60FXKLjBq",
        "colab_type": "code",
        "colab": {}
      },
      "source": [
        "### Scale the vectors to 0-1 from 0-255 range\n",
        "train_images  = train_images / 255.0\n",
        "test_images = test_images / 255.0"
      ],
      "execution_count": 4,
      "outputs": []
    },
    {
      "cell_type": "code",
      "metadata": {
        "id": "LFb5zX8dHtA9",
        "colab_type": "code",
        "colab": {}
      },
      "source": [
        "from keras.callbacks import EarlyStopping\n",
        "from keras.utils import to_categorical"
      ],
      "execution_count": 5,
      "outputs": []
    },
    {
      "cell_type": "code",
      "metadata": {
        "id": "kORHEHABGjH9",
        "colab_type": "code",
        "colab": {}
      },
      "source": [
        "## One Hot Encoding\n",
        "y_train = to_categorical(train_labels)\n",
        "y_test = to_categorical(test_labels)\n"
      ],
      "execution_count": 6,
      "outputs": []
    },
    {
      "cell_type": "code",
      "metadata": {
        "id": "oNnS_hECLjGM",
        "colab_type": "code",
        "colab": {}
      },
      "source": [
        "model = tf.keras.Sequential([\n",
        "        tf.keras.layers.Flatten(input_shape = (28, 28, 1)),\n",
        "        tf.keras.layers.Dense(128, activation = 'relu'),\n",
        "        tf.keras.layers.Dense(64, activation = 'relu'),\n",
        "        tf.keras.layers.Dense(10, activation = 'softmax')\n",
        "])"
      ],
      "execution_count": 7,
      "outputs": []
    },
    {
      "cell_type": "code",
      "metadata": {
        "id": "pCmA0OuSLjLI",
        "colab_type": "code",
        "colab": {
          "base_uri": "https://localhost:8080/",
          "height": 306
        },
        "outputId": "6f4752af-c924-4318-f57b-246b57353bb8"
      },
      "source": [
        "model.compile(optimizer='adam',\n",
        "              loss='sparse_categorical_crossentropy',\n",
        "              metrics=['accuracy'])\n",
        "print (model.summary())\n",
        "#tf.keras.utils.plot_model(model, to_file='model.png', show_shapes=True)"
      ],
      "execution_count": 8,
      "outputs": [
        {
          "output_type": "stream",
          "text": [
            "Model: \"sequential\"\n",
            "_________________________________________________________________\n",
            "Layer (type)                 Output Shape              Param #   \n",
            "=================================================================\n",
            "flatten (Flatten)            (None, 784)               0         \n",
            "_________________________________________________________________\n",
            "dense (Dense)                (None, 128)               100480    \n",
            "_________________________________________________________________\n",
            "dense_1 (Dense)              (None, 64)                8256      \n",
            "_________________________________________________________________\n",
            "dense_2 (Dense)              (None, 10)                650       \n",
            "=================================================================\n",
            "Total params: 109,386\n",
            "Trainable params: 109,386\n",
            "Non-trainable params: 0\n",
            "_________________________________________________________________\n",
            "None\n"
          ],
          "name": "stdout"
        }
      ]
    },
    {
      "cell_type": "code",
      "metadata": {
        "id": "q7O95gfZMOF4",
        "colab_type": "code",
        "colab": {
          "base_uri": "https://localhost:8080/",
          "height": 1000
        },
        "outputId": "dc5f49a1-71d3-4bdc-da46-9687545ef69b"
      },
      "source": [
        "\n",
        "epochs= 30\n",
        "print (\"training starting ...\")\n",
        "\n",
        "history = model.fit(\n",
        "    train_images,\n",
        "    train_labels,\n",
        "    epochs=epochs,\n",
        "    validation_split=0.2,\n",
        "    verbose=1,\n",
        "   #callbacks=[early_stopping_monitor]\n",
        ")\n",
        "\n",
        "print (\"training done.\")\n"
      ],
      "execution_count": 28,
      "outputs": [
        {
          "output_type": "stream",
          "text": [
            "training starting ...\n",
            "Epoch 1/30\n",
            "1500/1500 [==============================] - 3s 2ms/step - loss: 0.0175 - accuracy: 0.9939 - val_loss: 0.1110 - val_accuracy: 0.9783\n",
            "Epoch 2/30\n",
            "1500/1500 [==============================] - 3s 2ms/step - loss: 0.0165 - accuracy: 0.9941 - val_loss: 0.1244 - val_accuracy: 0.9762\n",
            "Epoch 3/30\n",
            "1500/1500 [==============================] - 3s 2ms/step - loss: 0.0131 - accuracy: 0.9951 - val_loss: 0.1169 - val_accuracy: 0.9767\n",
            "Epoch 4/30\n",
            "1500/1500 [==============================] - 3s 2ms/step - loss: 0.0174 - accuracy: 0.9946 - val_loss: 0.1300 - val_accuracy: 0.9763\n",
            "Epoch 5/30\n",
            "1500/1500 [==============================] - 3s 2ms/step - loss: 0.0088 - accuracy: 0.9972 - val_loss: 0.1470 - val_accuracy: 0.9761\n",
            "Epoch 6/30\n",
            "1500/1500 [==============================] - 3s 2ms/step - loss: 0.0138 - accuracy: 0.9956 - val_loss: 0.1411 - val_accuracy: 0.9762\n",
            "Epoch 7/30\n",
            "1500/1500 [==============================] - 3s 2ms/step - loss: 0.0096 - accuracy: 0.9966 - val_loss: 0.1580 - val_accuracy: 0.9738\n",
            "Epoch 8/30\n",
            "1500/1500 [==============================] - 3s 2ms/step - loss: 0.0115 - accuracy: 0.9961 - val_loss: 0.1372 - val_accuracy: 0.9781\n",
            "Epoch 9/30\n",
            "1500/1500 [==============================] - 3s 2ms/step - loss: 0.0106 - accuracy: 0.9967 - val_loss: 0.1424 - val_accuracy: 0.9757\n",
            "Epoch 10/30\n",
            "1500/1500 [==============================] - 3s 2ms/step - loss: 0.0099 - accuracy: 0.9967 - val_loss: 0.1422 - val_accuracy: 0.9788\n",
            "Epoch 11/30\n",
            "1500/1500 [==============================] - 3s 2ms/step - loss: 0.0092 - accuracy: 0.9972 - val_loss: 0.1436 - val_accuracy: 0.9772\n",
            "Epoch 12/30\n",
            "1500/1500 [==============================] - 3s 2ms/step - loss: 0.0102 - accuracy: 0.9965 - val_loss: 0.1452 - val_accuracy: 0.9770\n",
            "Epoch 13/30\n",
            "1500/1500 [==============================] - 3s 2ms/step - loss: 0.0086 - accuracy: 0.9975 - val_loss: 0.1499 - val_accuracy: 0.9766\n",
            "Epoch 14/30\n",
            "1500/1500 [==============================] - 3s 2ms/step - loss: 0.0078 - accuracy: 0.9975 - val_loss: 0.1725 - val_accuracy: 0.9754\n",
            "Epoch 15/30\n",
            "1500/1500 [==============================] - 3s 2ms/step - loss: 0.0085 - accuracy: 0.9972 - val_loss: 0.1565 - val_accuracy: 0.9763\n",
            "Epoch 16/30\n",
            "1500/1500 [==============================] - 3s 2ms/step - loss: 0.0079 - accuracy: 0.9974 - val_loss: 0.1738 - val_accuracy: 0.9747\n",
            "Epoch 17/30\n",
            "1500/1500 [==============================] - 3s 2ms/step - loss: 0.0079 - accuracy: 0.9977 - val_loss: 0.1599 - val_accuracy: 0.9788\n",
            "Epoch 18/30\n",
            "1500/1500 [==============================] - 3s 2ms/step - loss: 0.0059 - accuracy: 0.9983 - val_loss: 0.1779 - val_accuracy: 0.9753\n",
            "Epoch 19/30\n",
            "1500/1500 [==============================] - 3s 2ms/step - loss: 0.0094 - accuracy: 0.9970 - val_loss: 0.1730 - val_accuracy: 0.9772\n",
            "Epoch 20/30\n",
            "1500/1500 [==============================] - 3s 2ms/step - loss: 0.0073 - accuracy: 0.9978 - val_loss: 0.1792 - val_accuracy: 0.9783\n",
            "Epoch 21/30\n",
            "1500/1500 [==============================] - 3s 2ms/step - loss: 0.0068 - accuracy: 0.9980 - val_loss: 0.1794 - val_accuracy: 0.9778\n",
            "Epoch 22/30\n",
            "1500/1500 [==============================] - 3s 2ms/step - loss: 0.0056 - accuracy: 0.9982 - val_loss: 0.1724 - val_accuracy: 0.9775\n",
            "Epoch 23/30\n",
            "1500/1500 [==============================] - 3s 2ms/step - loss: 0.0101 - accuracy: 0.9968 - val_loss: 0.1819 - val_accuracy: 0.9761\n",
            "Epoch 24/30\n",
            "1500/1500 [==============================] - 3s 2ms/step - loss: 0.0064 - accuracy: 0.9983 - val_loss: 0.1909 - val_accuracy: 0.9779\n",
            "Epoch 25/30\n",
            "1500/1500 [==============================] - 3s 2ms/step - loss: 0.0086 - accuracy: 0.9978 - val_loss: 0.1971 - val_accuracy: 0.9747\n",
            "Epoch 26/30\n",
            "1500/1500 [==============================] - 3s 2ms/step - loss: 0.0062 - accuracy: 0.9983 - val_loss: 0.2271 - val_accuracy: 0.9735\n",
            "Epoch 27/30\n",
            "1500/1500 [==============================] - 3s 2ms/step - loss: 0.0087 - accuracy: 0.9975 - val_loss: 0.1948 - val_accuracy: 0.9773\n",
            "Epoch 28/30\n",
            "1500/1500 [==============================] - 3s 2ms/step - loss: 0.0072 - accuracy: 0.9980 - val_loss: 0.1877 - val_accuracy: 0.9786\n",
            "Epoch 29/30\n",
            "1500/1500 [==============================] - 3s 2ms/step - loss: 0.0051 - accuracy: 0.9983 - val_loss: 0.1822 - val_accuracy: 0.9793\n",
            "Epoch 30/30\n",
            "1500/1500 [==============================] - 3s 2ms/step - loss: 0.0087 - accuracy: 0.9976 - val_loss: 0.1877 - val_accuracy: 0.9787\n",
            "training done.\n"
          ],
          "name": "stdout"
        }
      ]
    },
    {
      "cell_type": "code",
      "metadata": {
        "id": "rj3FIuCDIcKo",
        "colab_type": "code",
        "colab": {}
      },
      "source": [
        "scores = model.evaluate(test_images, test_labels, verbose=0)"
      ],
      "execution_count": 29,
      "outputs": []
    },
    {
      "cell_type": "code",
      "metadata": {
        "id": "O42NTOzQIn6X",
        "colab_type": "code",
        "colab": {
          "base_uri": "https://localhost:8080/",
          "height": 34
        },
        "outputId": "b4584f58-7e8a-459b-9236-fc654be67f8a"
      },
      "source": [
        "print(scores)"
      ],
      "execution_count": 30,
      "outputs": [
        {
          "output_type": "stream",
          "text": [
            "[0.14788474142551422, 0.9815000295639038]\n"
          ],
          "name": "stdout"
        }
      ]
    },
    {
      "cell_type": "code",
      "metadata": {
        "id": "Huybh_4rIvIf",
        "colab_type": "code",
        "colab": {
          "base_uri": "https://localhost:8080/",
          "height": 34
        },
        "outputId": "3105a92c-fd3e-4ad3-b29f-98485d51431e"
      },
      "source": [
        "predicted = model.predict_classes(test_images, batch_size = 32, verbose = 1)"
      ],
      "execution_count": 38,
      "outputs": [
        {
          "output_type": "stream",
          "text": [
            "313/313 [==============================] - 0s 898us/step\n"
          ],
          "name": "stdout"
        }
      ]
    },
    {
      "cell_type": "code",
      "metadata": {
        "id": "KPrEzc3VI6iT",
        "colab_type": "code",
        "colab": {
          "base_uri": "https://localhost:8080/",
          "height": 34
        },
        "outputId": "d2007125-c252-42dc-ac3b-e9654d459df9"
      },
      "source": [
        "test_labels[1]"
      ],
      "execution_count": 39,
      "outputs": [
        {
          "output_type": "execute_result",
          "data": {
            "text/plain": [
              "2"
            ]
          },
          "metadata": {
            "tags": []
          },
          "execution_count": 39
        }
      ]
    },
    {
      "cell_type": "code",
      "metadata": {
        "id": "DZ-oBC0WI6m2",
        "colab_type": "code",
        "colab": {
          "base_uri": "https://localhost:8080/",
          "height": 34
        },
        "outputId": "b5cba33a-0dc1-4d43-c3de-00a86dfbcb7a"
      },
      "source": [
        "predicted[1]"
      ],
      "execution_count": 40,
      "outputs": [
        {
          "output_type": "execute_result",
          "data": {
            "text/plain": [
              "2"
            ]
          },
          "metadata": {
            "tags": []
          },
          "execution_count": 40
        }
      ]
    },
    {
      "cell_type": "code",
      "metadata": {
        "id": "IUidspueNNxs",
        "colab_type": "code",
        "colab": {
          "base_uri": "https://localhost:8080/",
          "height": 499
        },
        "outputId": "3ee90a53-af3c-4942-ba3d-83f5b5495b58"
      },
      "source": [
        "training_accuracy = history.history['accuracy']\n",
        "validation_accuracy = history.history['val_accuracy']\n",
        "\n",
        "training_loss = history.history['loss']\n",
        "validation_loss = history.history['val_loss']\n",
        "\n",
        "epochs_range=range(len(training_accuracy))\n",
        "\n",
        "plt.figure(figsize=(8, 8))\n",
        "plt.subplot(1, 2, 1)\n",
        "plt.plot(epochs_range, training_accuracy, label='Training Accuracy')\n",
        "plt.plot(epochs_range, validation_accuracy, label='Validation Accuracy')\n",
        "plt.legend(loc='lower right')\n",
        "plt.title('Training and Validation Accuracy')\n",
        "\n",
        "plt.subplot(1, 2, 2)\n",
        "plt.plot(epochs_range, training_loss, label='Training Loss')\n",
        "plt.plot(epochs_range, validation_loss, label='Validation Loss')\n",
        "plt.legend(loc='upper right')\n",
        "plt.title('Training and Validation Loss')\n",
        "plt.show()"
      ],
      "execution_count": 42,
      "outputs": [
        {
          "output_type": "display_data",
          "data": {
            "image/png": "[encoded data removed]",
            "text/plain": [
              "<Figure size 576x576 with 2 Axes>"
            ]
          },
          "metadata": {
            "tags": [],
            "needs_background": "light"
          }
        }
      ]
    },
    {
      "cell_type": "code",
      "metadata": {
        "id": "wx_bdckqNRkp",
        "colab_type": "code",
        "colab": {}
      },
      "source": [
        "import numpy as np\n",
        "predictions = model.predict(test_images)\n",
        "\n",
        "predictions2 = [ np.argmax(p) for p in predictions]"
      ],
      "execution_count": 43,
      "outputs": []
    },
    {
      "cell_type": "code",
      "metadata": {
        "id": "5xqzgDm1NW18",
        "colab_type": "code",
        "colab": {
          "base_uri": "https://localhost:8080/",
          "height": 850
        },
        "outputId": "b8c41f40-35b9-4e4d-f070-c44edf9ad79a"
      },
      "source": [
        "from sklearn.metrics import classification_report\n",
        "from pprint import pprint\n",
        "\n",
        "pprint(classification_report(test_labels, predictions2, output_dict=True))"
      ],
      "execution_count": 44,
      "outputs": [
        {
          "output_type": "stream",
          "text": [
            "{'0': {'f1-score': 0.9902813299232736,\n",
            "       'precision': 0.9928205128205129,\n",
            "       'recall': 0.9877551020408163,\n",
            "       'support': 980},\n",
            " '1': {'f1-score': 0.9894644424934154,\n",
            "       'precision': 0.9860017497812773,\n",
            "       'recall': 0.9929515418502203,\n",
            "       'support': 1135},\n",
            " '2': {'f1-score': 0.9815712900096992,\n",
            "       'precision': 0.9825242718446602,\n",
            "       'recall': 0.9806201550387597,\n",
            "       'support': 1032},\n",
            " '3': {'f1-score': 0.9806643529995042,\n",
            "       'precision': 0.9821251241310824,\n",
            "       'recall': 0.9792079207920792,\n",
            "       'support': 1010},\n",
            " '4': {'f1-score': 0.9796954314720813,\n",
            "       'precision': 0.9767206477732794,\n",
            "       'recall': 0.9826883910386965,\n",
            "       'support': 982},\n",
            " '5': {'f1-score': 0.9836619718309859,\n",
            "       'precision': 0.9886749716874292,\n",
            "       'recall': 0.9786995515695067,\n",
            "       'support': 892},\n",
            " '6': {'f1-score': 0.9827315541601256,\n",
            "       'precision': 0.9853095487932844,\n",
            "       'recall': 0.9801670146137788,\n",
            "       'support': 958},\n",
            " '7': {'f1-score': 0.9800292255236238,\n",
            "       'precision': 0.9814634146341463,\n",
            "       'recall': 0.9785992217898832,\n",
            "       'support': 1028},\n",
            " '8': {'f1-score': 0.9705882352941176,\n",
            "       'precision': 0.9589178356713427,\n",
            "       'recall': 0.9825462012320328,\n",
            "       'support': 974},\n",
            " '9': {'f1-score': 0.9755854509217738,\n",
            "       'precision': 0.9809619238476954,\n",
            "       'recall': 0.9702675916749257,\n",
            "       'support': 1009},\n",
            " 'accuracy': 0.9815,\n",
            " 'macro avg': {'f1-score': 0.98142732846286,\n",
            "               'precision': 0.981552000098471,\n",
            "               'recall': 0.9813502691640699,\n",
            "               'support': 10000},\n",
            " 'weighted avg': {'f1-score': 0.9815103339833393,\n",
            "                  'precision': 0.9815672754434563,\n",
            "                  'recall': 0.9815,\n",
            "                  'support': 10000}}\n"
          ],
          "name": "stdout"
        }
      ]
    },
    {
      "cell_type": "code",
      "metadata": {
        "id": "1J7q_mw7OUT3",
        "colab_type": "code",
        "colab": {}
      },
      "source": [
        ""
      ],
      "execution_count": null,
      "outputs": []
    }
  ]
}