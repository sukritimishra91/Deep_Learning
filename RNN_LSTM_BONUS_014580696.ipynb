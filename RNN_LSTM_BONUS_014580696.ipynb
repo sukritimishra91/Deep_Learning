{
  "nbformat": 4,
  "nbformat_minor": 0,
  "metadata": {
    "colab": {
      "name": "RNN_LSTM_BONUS_014580696.ipynb",
      "provenance": [],
      "collapsed_sections": []
    },
    "kernelspec": {
      "name": "python3",
      "display_name": "Python 3"
    }
  },
  "cells": [
    {
      "cell_type": "code",
      "metadata": {
        "id": "hUKJUBVACmOT",
        "outputId": "cabcc19f-aa9e-4dd5-83be-c796e3ba65e5",
        "colab": {
          "base_uri": "https://localhost:8080/"
        }
      },
      "source": [
        "!pip install pandas_datareader\n",
        "import pandas as pd\n",
        "import numpy as np\n",
        "from matplotlib import pyplot as plt\n",
        "import pandas_datareader.data as web\n",
        "import tensorflow as tf # This code has been tested with TensorFlow 1.6\n",
        "from sklearn.preprocessing import MinMaxScaler\n",
        "from keras.models import Sequential\n",
        "from keras.layers import Dense, LSTM, Dropout\n",
        "import tensorflow as tf"
      ],
      "execution_count": null,
      "outputs": [
        {
          "output_type": "stream",
          "text": [
            "Requirement already satisfied: pandas_datareader in /usr/local/lib/python3.6/dist-packages (0.9.0)\n",
            "Requirement already satisfied: lxml in /usr/local/lib/python3.6/dist-packages (from pandas_datareader) (4.2.6)\n",
            "Requirement already satisfied: requests>=2.19.0 in /usr/local/lib/python3.6/dist-packages (from pandas_datareader) (2.23.0)\n",
            "Requirement already satisfied: pandas>=0.23 in /usr/local/lib/python3.6/dist-packages (from pandas_datareader) (1.1.4)\n",
            "Requirement already satisfied: certifi>=2017.4.17 in /usr/local/lib/python3.6/dist-packages (from requests>=2.19.0->pandas_datareader) (2020.6.20)\n",
            "Requirement already satisfied: urllib3!=1.25.0,!=1.25.1,<1.26,>=1.21.1 in /usr/local/lib/python3.6/dist-packages (from requests>=2.19.0->pandas_datareader) (1.24.3)\n",
            "Requirement already satisfied: chardet<4,>=3.0.2 in /usr/local/lib/python3.6/dist-packages (from requests>=2.19.0->pandas_datareader) (3.0.4)\n",
            "Requirement already satisfied: idna<3,>=2.5 in /usr/local/lib/python3.6/dist-packages (from requests>=2.19.0->pandas_datareader) (2.10)\n",
            "Requirement already satisfied: python-dateutil>=2.7.3 in /usr/local/lib/python3.6/dist-packages (from pandas>=0.23->pandas_datareader) (2.8.1)\n",
            "Requirement already satisfied: pytz>=2017.2 in /usr/local/lib/python3.6/dist-packages (from pandas>=0.23->pandas_datareader) (2018.9)\n",
            "Requirement already satisfied: numpy>=1.15.4 in /usr/local/lib/python3.6/dist-packages (from pandas>=0.23->pandas_datareader) (1.18.5)\n",
            "Requirement already satisfied: six>=1.5 in /usr/local/lib/python3.6/dist-packages (from python-dateutil>=2.7.3->pandas>=0.23->pandas_datareader) (1.15.0)\n"
          ],
          "name": "stdout"
        }
      ]
    },
    {
      "cell_type": "code",
      "metadata": {
        "id": "Xe5ESG4reg4y"
      },
      "source": [
        "data = web.DataReader('^DJI', data_source = 'yahoo', start = '2000-01-01')"
      ],
      "execution_count": 2,
      "outputs": []
    },
    {
      "cell_type": "code",
      "metadata": {
        "id": "dubqMTCMfCVu",
        "outputId": "2508fb28-8f16-45f0-ee9c-95a67baa4cfb",
        "colab": {
          "base_uri": "https://localhost:8080/"
        }
      },
      "source": [
        "data.info()"
      ],
      "execution_count": 3,
      "outputs": [
        {
          "output_type": "stream",
          "text": [
            "<class 'pandas.core.frame.DataFrame'>\n",
            "DatetimeIndex: 5245 entries, 2000-01-03 to 2020-11-04\n",
            "Data columns (total 6 columns):\n",
            " #   Column     Non-Null Count  Dtype  \n",
            "---  ------     --------------  -----  \n",
            " 0   High       5245 non-null   float64\n",
            " 1   Low        5245 non-null   float64\n",
            " 2   Open       5245 non-null   float64\n",
            " 3   Close      5245 non-null   float64\n",
            " 4   Volume     5245 non-null   int64  \n",
            " 5   Adj Close  5245 non-null   float64\n",
            "dtypes: float64(5), int64(1)\n",
            "memory usage: 286.8 KB\n"
          ],
          "name": "stdout"
        }
      ]
    },
    {
      "cell_type": "code",
      "metadata": {
        "id": "zHq2-wutelMd",
        "outputId": "c690ba43-551a-453d-d908-1e91a3e05012",
        "colab": {
          "base_uri": "https://localhost:8080/",
          "height": 235
        }
      },
      "source": [
        "data.head()"
      ],
      "execution_count": 4,
      "outputs": [
        {
          "output_type": "execute_result",
          "data": {
            "text/html": [
              "<div>\n",
              "<style scoped>\n",
              "    .dataframe tbody tr th:only-of-type {\n",
              "        vertical-align: middle;\n",
              "    }\n",
              "\n",
              "    .dataframe tbody tr th {\n",
              "        vertical-align: top;\n",
              "    }\n",
              "\n",
              "    .dataframe thead th {\n",
              "        text-align: right;\n",
              "    }\n",
              "</style>\n",
              "<table border=\"1\" class=\"dataframe\">\n",
              "  <thead>\n",
              "    <tr style=\"text-align: right;\">\n",
              "      <th></th>\n",
              "      <th>High</th>\n",
              "      <th>Low</th>\n",
              "      <th>Open</th>\n",
              "      <th>Close</th>\n",
              "      <th>Volume</th>\n",
              "      <th>Adj Close</th>\n",
              "    </tr>\n",
              "    <tr>\n",
              "      <th>Date</th>\n",
              "      <th></th>\n",
              "      <th></th>\n",
              "      <th></th>\n",
              "      <th></th>\n",
              "      <th></th>\n",
              "      <th></th>\n",
              "    </tr>\n",
              "  </thead>\n",
              "  <tbody>\n",
              "    <tr>\n",
              "      <th>2000-01-03</th>\n",
              "      <td>11522.009766</td>\n",
              "      <td>11305.690430</td>\n",
              "      <td>11501.849609</td>\n",
              "      <td>11357.509766</td>\n",
              "      <td>169750000</td>\n",
              "      <td>11357.509766</td>\n",
              "    </tr>\n",
              "    <tr>\n",
              "      <th>2000-01-04</th>\n",
              "      <td>11350.059570</td>\n",
              "      <td>10986.450195</td>\n",
              "      <td>11349.750000</td>\n",
              "      <td>10997.929688</td>\n",
              "      <td>178420000</td>\n",
              "      <td>10997.929688</td>\n",
              "    </tr>\n",
              "    <tr>\n",
              "      <th>2000-01-05</th>\n",
              "      <td>11215.099609</td>\n",
              "      <td>10938.669922</td>\n",
              "      <td>10989.370117</td>\n",
              "      <td>11122.650391</td>\n",
              "      <td>203190000</td>\n",
              "      <td>11122.650391</td>\n",
              "    </tr>\n",
              "    <tr>\n",
              "      <th>2000-01-06</th>\n",
              "      <td>11313.450195</td>\n",
              "      <td>11098.450195</td>\n",
              "      <td>11113.370117</td>\n",
              "      <td>11253.259766</td>\n",
              "      <td>176550000</td>\n",
              "      <td>11253.259766</td>\n",
              "    </tr>\n",
              "    <tr>\n",
              "      <th>2000-01-07</th>\n",
              "      <td>11528.139648</td>\n",
              "      <td>11239.919922</td>\n",
              "      <td>11247.059570</td>\n",
              "      <td>11522.559570</td>\n",
              "      <td>184900000</td>\n",
              "      <td>11522.559570</td>\n",
              "    </tr>\n",
              "  </tbody>\n",
              "</table>\n",
              "</div>"
            ],
            "text/plain": [
              "                    High           Low  ...     Volume     Adj Close\n",
              "Date                                    ...                         \n",
              "2000-01-03  11522.009766  11305.690430  ...  169750000  11357.509766\n",
              "2000-01-04  11350.059570  10986.450195  ...  178420000  10997.929688\n",
              "2000-01-05  11215.099609  10938.669922  ...  203190000  11122.650391\n",
              "2000-01-06  11313.450195  11098.450195  ...  176550000  11253.259766\n",
              "2000-01-07  11528.139648  11239.919922  ...  184900000  11522.559570\n",
              "\n",
              "[5 rows x 6 columns]"
            ]
          },
          "metadata": {
            "tags": []
          },
          "execution_count": 4
        }
      ]
    },
    {
      "cell_type": "code",
      "metadata": {
        "id": "WP7W7hPIfA-0",
        "outputId": "7b4ccf42-21b8-4335-d7d9-14156c1eef74",
        "colab": {
          "base_uri": "https://localhost:8080/",
          "height": 235
        }
      },
      "source": [
        "data.tail()"
      ],
      "execution_count": 5,
      "outputs": [
        {
          "output_type": "execute_result",
          "data": {
            "text/html": [
              "<div>\n",
              "<style scoped>\n",
              "    .dataframe tbody tr th:only-of-type {\n",
              "        vertical-align: middle;\n",
              "    }\n",
              "\n",
              "    .dataframe tbody tr th {\n",
              "        vertical-align: top;\n",
              "    }\n",
              "\n",
              "    .dataframe thead th {\n",
              "        text-align: right;\n",
              "    }\n",
              "</style>\n",
              "<table border=\"1\" class=\"dataframe\">\n",
              "  <thead>\n",
              "    <tr style=\"text-align: right;\">\n",
              "      <th></th>\n",
              "      <th>High</th>\n",
              "      <th>Low</th>\n",
              "      <th>Open</th>\n",
              "      <th>Close</th>\n",
              "      <th>Volume</th>\n",
              "      <th>Adj Close</th>\n",
              "    </tr>\n",
              "    <tr>\n",
              "      <th>Date</th>\n",
              "      <th></th>\n",
              "      <th></th>\n",
              "      <th></th>\n",
              "      <th></th>\n",
              "      <th></th>\n",
              "      <th></th>\n",
              "    </tr>\n",
              "  </thead>\n",
              "  <tbody>\n",
              "    <tr>\n",
              "      <th>2020-10-29</th>\n",
              "      <td>26891.890625</td>\n",
              "      <td>26290.779297</td>\n",
              "      <td>26480.980469</td>\n",
              "      <td>26659.109375</td>\n",
              "      <td>419770000</td>\n",
              "      <td>26659.109375</td>\n",
              "    </tr>\n",
              "    <tr>\n",
              "      <th>2020-10-30</th>\n",
              "      <td>26639.179688</td>\n",
              "      <td>26143.769531</td>\n",
              "      <td>26572.269531</td>\n",
              "      <td>26501.599609</td>\n",
              "      <td>504820000</td>\n",
              "      <td>26501.599609</td>\n",
              "    </tr>\n",
              "    <tr>\n",
              "      <th>2020-11-02</th>\n",
              "      <td>27043.480469</td>\n",
              "      <td>26691.279297</td>\n",
              "      <td>26691.279297</td>\n",
              "      <td>26925.050781</td>\n",
              "      <td>379990000</td>\n",
              "      <td>26925.050781</td>\n",
              "    </tr>\n",
              "    <tr>\n",
              "      <th>2020-11-03</th>\n",
              "      <td>27640.210938</td>\n",
              "      <td>27138.689453</td>\n",
              "      <td>27138.689453</td>\n",
              "      <td>27480.029297</td>\n",
              "      <td>350980000</td>\n",
              "      <td>27480.029297</td>\n",
              "    </tr>\n",
              "    <tr>\n",
              "      <th>2020-11-04</th>\n",
              "      <td>28301.500000</td>\n",
              "      <td>27512.830078</td>\n",
              "      <td>27512.830078</td>\n",
              "      <td>27847.660156</td>\n",
              "      <td>449894278</td>\n",
              "      <td>27847.660156</td>\n",
              "    </tr>\n",
              "  </tbody>\n",
              "</table>\n",
              "</div>"
            ],
            "text/plain": [
              "                    High           Low  ...     Volume     Adj Close\n",
              "Date                                    ...                         \n",
              "2020-10-29  26891.890625  26290.779297  ...  419770000  26659.109375\n",
              "2020-10-30  26639.179688  26143.769531  ...  504820000  26501.599609\n",
              "2020-11-02  27043.480469  26691.279297  ...  379990000  26925.050781\n",
              "2020-11-03  27640.210938  27138.689453  ...  350980000  27480.029297\n",
              "2020-11-04  28301.500000  27512.830078  ...  449894278  27847.660156\n",
              "\n",
              "[5 rows x 6 columns]"
            ]
          },
          "metadata": {
            "tags": []
          },
          "execution_count": 5
        }
      ]
    },
    {
      "cell_type": "code",
      "metadata": {
        "id": "2_jEforwhToo"
      },
      "source": [
        "data.reset_index(inplace = True)"
      ],
      "execution_count": 6,
      "outputs": []
    },
    {
      "cell_type": "code",
      "metadata": {
        "id": "mASkU0IKhYDH",
        "outputId": "474b6443-2c3c-4117-df41-02ea22273c69",
        "colab": {
          "base_uri": "https://localhost:8080/",
          "height": 173
        }
      },
      "source": [
        "data.head(4)"
      ],
      "execution_count": 7,
      "outputs": [
        {
          "output_type": "execute_result",
          "data": {
            "text/html": [
              "<div>\n",
              "<style scoped>\n",
              "    .dataframe tbody tr th:only-of-type {\n",
              "        vertical-align: middle;\n",
              "    }\n",
              "\n",
              "    .dataframe tbody tr th {\n",
              "        vertical-align: top;\n",
              "    }\n",
              "\n",
              "    .dataframe thead th {\n",
              "        text-align: right;\n",
              "    }\n",
              "</style>\n",
              "<table border=\"1\" class=\"dataframe\">\n",
              "  <thead>\n",
              "    <tr style=\"text-align: right;\">\n",
              "      <th></th>\n",
              "      <th>Date</th>\n",
              "      <th>High</th>\n",
              "      <th>Low</th>\n",
              "      <th>Open</th>\n",
              "      <th>Close</th>\n",
              "      <th>Volume</th>\n",
              "      <th>Adj Close</th>\n",
              "    </tr>\n",
              "  </thead>\n",
              "  <tbody>\n",
              "    <tr>\n",
              "      <th>0</th>\n",
              "      <td>2000-01-03</td>\n",
              "      <td>11522.009766</td>\n",
              "      <td>11305.690430</td>\n",
              "      <td>11501.849609</td>\n",
              "      <td>11357.509766</td>\n",
              "      <td>169750000</td>\n",
              "      <td>11357.509766</td>\n",
              "    </tr>\n",
              "    <tr>\n",
              "      <th>1</th>\n",
              "      <td>2000-01-04</td>\n",
              "      <td>11350.059570</td>\n",
              "      <td>10986.450195</td>\n",
              "      <td>11349.750000</td>\n",
              "      <td>10997.929688</td>\n",
              "      <td>178420000</td>\n",
              "      <td>10997.929688</td>\n",
              "    </tr>\n",
              "    <tr>\n",
              "      <th>2</th>\n",
              "      <td>2000-01-05</td>\n",
              "      <td>11215.099609</td>\n",
              "      <td>10938.669922</td>\n",
              "      <td>10989.370117</td>\n",
              "      <td>11122.650391</td>\n",
              "      <td>203190000</td>\n",
              "      <td>11122.650391</td>\n",
              "    </tr>\n",
              "    <tr>\n",
              "      <th>3</th>\n",
              "      <td>2000-01-06</td>\n",
              "      <td>11313.450195</td>\n",
              "      <td>11098.450195</td>\n",
              "      <td>11113.370117</td>\n",
              "      <td>11253.259766</td>\n",
              "      <td>176550000</td>\n",
              "      <td>11253.259766</td>\n",
              "    </tr>\n",
              "  </tbody>\n",
              "</table>\n",
              "</div>"
            ],
            "text/plain": [
              "        Date          High           Low  ...         Close     Volume     Adj Close\n",
              "0 2000-01-03  11522.009766  11305.690430  ...  11357.509766  169750000  11357.509766\n",
              "1 2000-01-04  11350.059570  10986.450195  ...  10997.929688  178420000  10997.929688\n",
              "2 2000-01-05  11215.099609  10938.669922  ...  11122.650391  203190000  11122.650391\n",
              "3 2000-01-06  11313.450195  11098.450195  ...  11253.259766  176550000  11253.259766\n",
              "\n",
              "[4 rows x 7 columns]"
            ]
          },
          "metadata": {
            "tags": []
          },
          "execution_count": 7
        }
      ]
    },
    {
      "cell_type": "code",
      "metadata": {
        "id": "eGSn1N87fNk7",
        "outputId": "febbdb3f-f259-44f6-b846-7355eb5068e4",
        "colab": {
          "base_uri": "https://localhost:8080/"
        }
      },
      "source": [
        "data.isnull().sum()"
      ],
      "execution_count": null,
      "outputs": [
        {
          "output_type": "execute_result",
          "data": {
            "text/plain": [
              "Date         0\n",
              "High         0\n",
              "Low          0\n",
              "Open         0\n",
              "Close        0\n",
              "Volume       0\n",
              "Adj Close    0\n",
              "dtype: int64"
            ]
          },
          "metadata": {
            "tags": []
          },
          "execution_count": 8
        }
      ]
    },
    {
      "cell_type": "code",
      "metadata": {
        "id": "pxUnwpsFh4LY",
        "outputId": "15d6def3-6488-49ec-f5f0-5412dc193464",
        "colab": {
          "base_uri": "https://localhost:8080/"
        }
      },
      "source": [
        "data.shape"
      ],
      "execution_count": null,
      "outputs": [
        {
          "output_type": "execute_result",
          "data": {
            "text/plain": [
              "(5245, 7)"
            ]
          },
          "metadata": {
            "tags": []
          },
          "execution_count": 9
        }
      ]
    },
    {
      "cell_type": "code",
      "metadata": {
        "id": "fBgPlnnIhfCs",
        "outputId": "ce596aec-e9c3-4f89-846b-febd46d2791d",
        "colab": {
          "base_uri": "https://localhost:8080/",
          "height": 631
        }
      },
      "source": [
        "plt.figure(figsize = (18,9))\n",
        "plt.plot(range(data.shape[0]),(data['Low']+data['High'])/2.0)\n",
        "plt.xticks(range(0,data.shape[0],500),data['Date'].loc[::500],rotation = 45)\n",
        "plt.xlabel('Date',fontsize=18)\n",
        "plt.ylabel('Mid Price',fontsize=18)\n",
        "plt.show()"
      ],
      "execution_count": 8,
      "outputs": [
        {
          "output_type": "display_data",
          "data": {
            "image/png": "[encoded data removed]",
            "text/plain": [
              "<Figure size 1296x648 with 1 Axes>"
            ]
          },
          "metadata": {
            "tags": [],
            "needs_background": "light"
          }
        }
      ]
    },
    {
      "cell_type": "code",
      "metadata": {
        "id": "qrdQG3Wxh-5T",
        "outputId": "fce77bb5-0935-441d-ea98-4c336468bce6",
        "colab": {
          "base_uri": "https://localhost:8080/",
          "height": 421
        }
      },
      "source": [
        "plt.figure(figsize=(15,6))\n",
        "plt.plot(data['Open'], color = 'black')\n",
        "plt.plot(data['Close'], color = 'orange', linestyle = 'dashed')\n",
        "plt.title('Dow Jones Average Industrial Average Price History')\n",
        "plt.xlabel('Year')\n",
        "plt.ylabel('Price')\n",
        "plt.legend(['Open', 'Close'], loc ='best')"
      ],
      "execution_count": 9,
      "outputs": [
        {
          "output_type": "execute_result",
          "data": {
            "text/plain": [
              "<matplotlib.legend.Legend at 0x7fbd01e6fd68>"
            ]
          },
          "metadata": {
            "tags": []
          },
          "execution_count": 9
        },
        {
          "output_type": "display_data",
          "data": {
            "image/png": "[encoded data removed]",
            "text/plain": [
              "<Figure size 1080x432 with 1 Axes>"
            ]
          },
          "metadata": {
            "tags": [],
            "needs_background": "light"
          }
        }
      ]
    },
    {
      "cell_type": "code",
      "metadata": {
        "id": "SPwVlagej-Wn"
      },
      "source": [
        "#Normalize the data\n",
        "train_split = int(0.8 * len(data))\n",
        "test_split = len(data) - train_split\n",
        "\n",
        "training_set = data.iloc[:train_split, 1:]\n",
        "test_set = data.iloc[train_split:len(data), 1:]"
      ],
      "execution_count": 10,
      "outputs": []
    },
    {
      "cell_type": "code",
      "metadata": {
        "id": "RAX0ZBwvpZgG",
        "outputId": "804113d1-f16a-47fc-daac-f1d227c7aed6",
        "colab": {
          "base_uri": "https://localhost:8080/"
        }
      },
      "source": [
        "print(\"Train data shape:\",training_set.shape)\n",
        "print(\"Test data shape:\",test_set.shape)"
      ],
      "execution_count": 11,
      "outputs": [
        {
          "output_type": "stream",
          "text": [
            "Train data shape: (4196, 6)\n",
            "Test data shape: (1049, 6)\n"
          ],
          "name": "stdout"
        }
      ]
    },
    {
      "cell_type": "code",
      "metadata": {
        "id": "j3K7U-x8p1Wx"
      },
      "source": [
        "sc = MinMaxScaler()\n",
        "training_set_scaled = sc.fit_transform(training_set)\n",
        "test_set_scaled = sc.transform(test_set)"
      ],
      "execution_count": 12,
      "outputs": []
    },
    {
      "cell_type": "code",
      "metadata": {
        "id": "4aGtTz6Mqs4c"
      },
      "source": [
        "# Creating a data structure with 60 time-steps and 1 output\n",
        "X_train = []\n",
        "y_train = []\n",
        "for i in range(60, len(training_set)):\n",
        "    X_train.append(training_set_scaled[i-60:i,4])\n",
        "    y_train.append(training_set_scaled[i,4])\n",
        "\n",
        "X_train, y_train = np.array(X_train), np.array(y_train)"
      ],
      "execution_count": 13,
      "outputs": []
    },
    {
      "cell_type": "code",
      "metadata": {
        "id": "j2Zgv8hcq0ZR",
        "outputId": "d71569a1-b963-4865-8003-38097ce3346e",
        "colab": {
          "base_uri": "https://localhost:8080/"
        }
      },
      "source": [
        "print(\"X_train shape:\",X_train.shape)\n",
        "print(\"y_train shape:\",y_train.shape)"
      ],
      "execution_count": 14,
      "outputs": [
        {
          "output_type": "stream",
          "text": [
            "X_train shape: (4136, 60)\n",
            "y_train shape: (4136,)\n"
          ],
          "name": "stdout"
        }
      ]
    },
    {
      "cell_type": "code",
      "metadata": {
        "id": "AbciVOG3sED1",
        "outputId": "2cfced75-e4a6-4bd4-a37d-663c3e310df1",
        "colab": {
          "base_uri": "https://localhost:8080/",
          "height": 204
        }
      },
      "source": [
        "last_60_days = training_set.tail(60)\n",
        "df_test = last_60_days.append(test_set)\n",
        "df_test.head()"
      ],
      "execution_count": 15,
      "outputs": [
        {
          "output_type": "execute_result",
          "data": {
            "text/html": [
              "<div>\n",
              "<style scoped>\n",
              "    .dataframe tbody tr th:only-of-type {\n",
              "        vertical-align: middle;\n",
              "    }\n",
              "\n",
              "    .dataframe tbody tr th {\n",
              "        vertical-align: top;\n",
              "    }\n",
              "\n",
              "    .dataframe thead th {\n",
              "        text-align: right;\n",
              "    }\n",
              "</style>\n",
              "<table border=\"1\" class=\"dataframe\">\n",
              "  <thead>\n",
              "    <tr style=\"text-align: right;\">\n",
              "      <th></th>\n",
              "      <th>High</th>\n",
              "      <th>Low</th>\n",
              "      <th>Open</th>\n",
              "      <th>Close</th>\n",
              "      <th>Volume</th>\n",
              "      <th>Adj Close</th>\n",
              "    </tr>\n",
              "  </thead>\n",
              "  <tbody>\n",
              "    <tr>\n",
              "      <th>4136</th>\n",
              "      <td>17893.279297</td>\n",
              "      <td>17731.349609</td>\n",
              "      <td>17830.500000</td>\n",
              "      <td>17732.480469</td>\n",
              "      <td>101690000</td>\n",
              "      <td>17732.480469</td>\n",
              "    </tr>\n",
              "    <tr>\n",
              "      <th>4137</th>\n",
              "      <td>17733.919922</td>\n",
              "      <td>17595.789062</td>\n",
              "      <td>17710.769531</td>\n",
              "      <td>17674.820312</td>\n",
              "      <td>93740000</td>\n",
              "      <td>17674.820312</td>\n",
              "    </tr>\n",
              "    <tr>\n",
              "      <th>4138</th>\n",
              "      <td>17762.960938</td>\n",
              "      <td>17629.009766</td>\n",
              "      <td>17703.650391</td>\n",
              "      <td>17640.169922</td>\n",
              "      <td>94130000</td>\n",
              "      <td>17640.169922</td>\n",
              "    </tr>\n",
              "    <tr>\n",
              "      <th>4139</th>\n",
              "      <td>17754.910156</td>\n",
              "      <td>17471.289062</td>\n",
              "      <td>17602.230469</td>\n",
              "      <td>17733.099609</td>\n",
              "      <td>91950000</td>\n",
              "      <td>17733.099609</td>\n",
              "    </tr>\n",
              "    <tr>\n",
              "      <th>4140</th>\n",
              "      <td>17733.439453</td>\n",
              "      <td>17602.779297</td>\n",
              "      <td>17733.439453</td>\n",
              "      <td>17675.160156</td>\n",
              "      <td>248680000</td>\n",
              "      <td>17675.160156</td>\n",
              "    </tr>\n",
              "  </tbody>\n",
              "</table>\n",
              "</div>"
            ],
            "text/plain": [
              "              High           Low  ...     Volume     Adj Close\n",
              "4136  17893.279297  17731.349609  ...  101690000  17732.480469\n",
              "4137  17733.919922  17595.789062  ...   93740000  17674.820312\n",
              "4138  17762.960938  17629.009766  ...   94130000  17640.169922\n",
              "4139  17754.910156  17471.289062  ...   91950000  17733.099609\n",
              "4140  17733.439453  17602.779297  ...  248680000  17675.160156\n",
              "\n",
              "[5 rows x 6 columns]"
            ]
          },
          "metadata": {
            "tags": []
          },
          "execution_count": 15
        }
      ]
    },
    {
      "cell_type": "code",
      "metadata": {
        "id": "miqINvKh3qy-",
        "outputId": "fe3eb1fb-6db1-4c5f-8edf-90cc4909128a",
        "colab": {
          "base_uri": "https://localhost:8080/"
        }
      },
      "source": [
        "input_test = sc.transform(df_test)\n",
        "input_test.shape"
      ],
      "execution_count": 16,
      "outputs": [
        {
          "output_type": "execute_result",
          "data": {
            "text/plain": [
              "(1109, 6)"
            ]
          },
          "metadata": {
            "tags": []
          },
          "execution_count": 16
        }
      ]
    },
    {
      "cell_type": "code",
      "metadata": {
        "id": "YDYdifig3nef",
        "outputId": "6f201bf0-8689-45de-98a7-5eb8c037c56a",
        "colab": {
          "base_uri": "https://localhost:8080/"
        }
      },
      "source": [
        "X_test =[]\n",
        "y_test =[]\n",
        "\n",
        "for i in range(60,input_test.shape[0]):\n",
        "    X_test.append(input_test[i-60:i,4])\n",
        "    y_test.append(input_test[i,4])\n",
        "    \n",
        "X_test, y_test = np.array(X_test), np.array(y_test)\n",
        "print(X_test.shape)\n",
        "print(y_test.shape)"
      ],
      "execution_count": 17,
      "outputs": [
        {
          "output_type": "stream",
          "text": [
            "(1049, 60)\n",
            "(1049,)\n"
          ],
          "name": "stdout"
        }
      ]
    },
    {
      "cell_type": "code",
      "metadata": {
        "id": "Yi7OXhcmUR3u",
        "outputId": "4c1eead7-12ea-4fc3-d509-ab0fdaeb9a9b",
        "colab": {
          "base_uri": "https://localhost:8080/"
        }
      },
      "source": [
        "# reshape input to be [samples, time steps, features] which is required for LSTM\n",
        "X_train = X_train.reshape(X_train.shape[0],X_train.shape[1] , 1)\n",
        "X_test = X_test.reshape(X_test.shape[0],X_test.shape[1] , 1)\n",
        "X_train.shape, X_test.shape"
      ],
      "execution_count": 18,
      "outputs": [
        {
          "output_type": "execute_result",
          "data": {
            "text/plain": [
              "((4136, 60, 1), (1049, 60, 1))"
            ]
          },
          "metadata": {
            "tags": []
          },
          "execution_count": 18
        }
      ]
    },
    {
      "cell_type": "code",
      "metadata": {
        "id": "hnoQxHDIq32r",
        "outputId": "08c67e69-1e5e-44de-981d-1219d2ac7c9d",
        "colab": {
          "base_uri": "https://localhost:8080/"
        }
      },
      "source": [
        "model = Sequential()\n",
        "model.add(LSTM(units = 80, return_sequences = True, input_shape = (X_train.shape[1], 1)))\n",
        "model.add(Dropout(0.2))\n",
        "model.add(LSTM(units = 80, return_sequences = True))\n",
        "model.add(Dropout(0.2))\n",
        "model.add(LSTM(units = 80))\n",
        "model.add(Dropout(0.2))\n",
        "model.add(Dense(units = 1))\n",
        "\n",
        "# Compiling the RNN\n",
        "model.compile(optimizer = 'adam', \n",
        "              loss = 'mean_squared_error',\n",
        "              metrics = [\"MSE\"])\n",
        "\n",
        "model.summary()"
      ],
      "execution_count": 19,
      "outputs": [
        {
          "output_type": "stream",
          "text": [
            "Model: \"sequential\"\n",
            "_________________________________________________________________\n",
            "Layer (type)                 Output Shape              Param #   \n",
            "=================================================================\n",
            "lstm (LSTM)                  (None, 60, 80)            26240     \n",
            "_________________________________________________________________\n",
            "dropout (Dropout)            (None, 60, 80)            0         \n",
            "_________________________________________________________________\n",
            "lstm_1 (LSTM)                (None, 60, 80)            51520     \n",
            "_________________________________________________________________\n",
            "dropout_1 (Dropout)          (None, 60, 80)            0         \n",
            "_________________________________________________________________\n",
            "lstm_2 (LSTM)                (None, 80)                51520     \n",
            "_________________________________________________________________\n",
            "dropout_2 (Dropout)          (None, 80)                0         \n",
            "_________________________________________________________________\n",
            "dense (Dense)                (None, 1)                 81        \n",
            "=================================================================\n",
            "Total params: 129,361\n",
            "Trainable params: 129,361\n",
            "Non-trainable params: 0\n",
            "_________________________________________________________________\n"
          ],
          "name": "stdout"
        }
      ]
    },
    {
      "cell_type": "code",
      "metadata": {
        "id": "lpxVRKCNr6X1",
        "outputId": "f4718670-a05e-4324-c6f5-eef086447b8d",
        "colab": {
          "base_uri": "https://localhost:8080/"
        }
      },
      "source": [
        "# Fitting the RNN to the Training set\n",
        "history = model.fit(X_train, y_train, \n",
        "          epochs = 50, \n",
        "          validation_data=(X_test,y_test),\n",
        "          batch_size = 32)"
      ],
      "execution_count": 20,
      "outputs": [
        {
          "output_type": "stream",
          "text": [
            "Epoch 1/50\n",
            "130/130 [==============================] - 17s 127ms/step - loss: 0.0089 - MSE: 0.0089 - val_loss: 0.0221 - val_MSE: 0.0221\n",
            "Epoch 2/50\n",
            "130/130 [==============================] - 17s 127ms/step - loss: 0.0072 - MSE: 0.0072 - val_loss: 0.0210 - val_MSE: 0.0210\n",
            "Epoch 3/50\n",
            "130/130 [==============================] - 17s 131ms/step - loss: 0.0068 - MSE: 0.0068 - val_loss: 0.0201 - val_MSE: 0.0201\n",
            "Epoch 4/50\n",
            "130/130 [==============================] - 17s 132ms/step - loss: 0.0066 - MSE: 0.0066 - val_loss: 0.0197 - val_MSE: 0.0197\n",
            "Epoch 5/50\n",
            "130/130 [==============================] - 20s 154ms/step - loss: 0.0067 - MSE: 0.0067 - val_loss: 0.0239 - val_MSE: 0.0239\n",
            "Epoch 6/50\n",
            "130/130 [==============================] - 17s 131ms/step - loss: 0.0064 - MSE: 0.0064 - val_loss: 0.0196 - val_MSE: 0.0196\n",
            "Epoch 7/50\n",
            "130/130 [==============================] - 17s 132ms/step - loss: 0.0063 - MSE: 0.0063 - val_loss: 0.0185 - val_MSE: 0.0185\n",
            "Epoch 8/50\n",
            "130/130 [==============================] - 17s 131ms/step - loss: 0.0060 - MSE: 0.0060 - val_loss: 0.0185 - val_MSE: 0.0185\n",
            "Epoch 9/50\n",
            "130/130 [==============================] - 17s 130ms/step - loss: 0.0061 - MSE: 0.0061 - val_loss: 0.0195 - val_MSE: 0.0195\n",
            "Epoch 10/50\n",
            "130/130 [==============================] - 17s 131ms/step - loss: 0.0059 - MSE: 0.0059 - val_loss: 0.0183 - val_MSE: 0.0183\n",
            "Epoch 11/50\n",
            "130/130 [==============================] - 17s 130ms/step - loss: 0.0059 - MSE: 0.0059 - val_loss: 0.0184 - val_MSE: 0.0184\n",
            "Epoch 12/50\n",
            "130/130 [==============================] - 17s 130ms/step - loss: 0.0058 - MSE: 0.0058 - val_loss: 0.0202 - val_MSE: 0.0202\n",
            "Epoch 13/50\n",
            "130/130 [==============================] - 17s 130ms/step - loss: 0.0057 - MSE: 0.0057 - val_loss: 0.0207 - val_MSE: 0.0207\n",
            "Epoch 14/50\n",
            "130/130 [==============================] - 17s 131ms/step - loss: 0.0060 - MSE: 0.0060 - val_loss: 0.0233 - val_MSE: 0.0233\n",
            "Epoch 15/50\n",
            "130/130 [==============================] - 17s 130ms/step - loss: 0.0057 - MSE: 0.0057 - val_loss: 0.0190 - val_MSE: 0.0190\n",
            "Epoch 16/50\n",
            "130/130 [==============================] - 17s 129ms/step - loss: 0.0056 - MSE: 0.0056 - val_loss: 0.0193 - val_MSE: 0.0193\n",
            "Epoch 17/50\n",
            "130/130 [==============================] - 17s 133ms/step - loss: 0.0057 - MSE: 0.0057 - val_loss: 0.0182 - val_MSE: 0.0182\n",
            "Epoch 18/50\n",
            "130/130 [==============================] - 17s 129ms/step - loss: 0.0056 - MSE: 0.0056 - val_loss: 0.0184 - val_MSE: 0.0184\n",
            "Epoch 19/50\n",
            "130/130 [==============================] - 17s 129ms/step - loss: 0.0056 - MSE: 0.0056 - val_loss: 0.0184 - val_MSE: 0.0184\n",
            "Epoch 20/50\n",
            "130/130 [==============================] - 17s 130ms/step - loss: 0.0056 - MSE: 0.0056 - val_loss: 0.0184 - val_MSE: 0.0184\n",
            "Epoch 21/50\n",
            "130/130 [==============================] - 17s 130ms/step - loss: 0.0056 - MSE: 0.0056 - val_loss: 0.0179 - val_MSE: 0.0179\n",
            "Epoch 22/50\n",
            "130/130 [==============================] - 18s 136ms/step - loss: 0.0057 - MSE: 0.0057 - val_loss: 0.0194 - val_MSE: 0.0194\n",
            "Epoch 23/50\n",
            "130/130 [==============================] - 17s 131ms/step - loss: 0.0056 - MSE: 0.0056 - val_loss: 0.0178 - val_MSE: 0.0178\n",
            "Epoch 24/50\n",
            "130/130 [==============================] - 17s 130ms/step - loss: 0.0056 - MSE: 0.0056 - val_loss: 0.0177 - val_MSE: 0.0177\n",
            "Epoch 25/50\n",
            "130/130 [==============================] - 17s 131ms/step - loss: 0.0056 - MSE: 0.0056 - val_loss: 0.0178 - val_MSE: 0.0178\n",
            "Epoch 26/50\n",
            "130/130 [==============================] - 17s 132ms/step - loss: 0.0056 - MSE: 0.0056 - val_loss: 0.0182 - val_MSE: 0.0182\n",
            "Epoch 27/50\n",
            "130/130 [==============================] - 17s 131ms/step - loss: 0.0055 - MSE: 0.0055 - val_loss: 0.0180 - val_MSE: 0.0180\n",
            "Epoch 28/50\n",
            "130/130 [==============================] - 17s 132ms/step - loss: 0.0055 - MSE: 0.0055 - val_loss: 0.0180 - val_MSE: 0.0180\n",
            "Epoch 29/50\n",
            "130/130 [==============================] - 17s 133ms/step - loss: 0.0055 - MSE: 0.0055 - val_loss: 0.0185 - val_MSE: 0.0185\n",
            "Epoch 30/50\n",
            "130/130 [==============================] - 17s 132ms/step - loss: 0.0054 - MSE: 0.0054 - val_loss: 0.0179 - val_MSE: 0.0179\n",
            "Epoch 31/50\n",
            "130/130 [==============================] - 17s 130ms/step - loss: 0.0056 - MSE: 0.0056 - val_loss: 0.0196 - val_MSE: 0.0196\n",
            "Epoch 32/50\n",
            "130/130 [==============================] - 17s 132ms/step - loss: 0.0055 - MSE: 0.0055 - val_loss: 0.0187 - val_MSE: 0.0187\n",
            "Epoch 33/50\n",
            "130/130 [==============================] - 17s 132ms/step - loss: 0.0055 - MSE: 0.0055 - val_loss: 0.0184 - val_MSE: 0.0184\n",
            "Epoch 34/50\n",
            "130/130 [==============================] - 17s 131ms/step - loss: 0.0054 - MSE: 0.0054 - val_loss: 0.0187 - val_MSE: 0.0187\n",
            "Epoch 35/50\n",
            "130/130 [==============================] - 18s 136ms/step - loss: 0.0055 - MSE: 0.0055 - val_loss: 0.0189 - val_MSE: 0.0189\n",
            "Epoch 36/50\n",
            "130/130 [==============================] - 17s 131ms/step - loss: 0.0054 - MSE: 0.0054 - val_loss: 0.0202 - val_MSE: 0.0202\n",
            "Epoch 37/50\n",
            "130/130 [==============================] - 17s 132ms/step - loss: 0.0054 - MSE: 0.0054 - val_loss: 0.0186 - val_MSE: 0.0186\n",
            "Epoch 38/50\n",
            "130/130 [==============================] - 17s 130ms/step - loss: 0.0054 - MSE: 0.0054 - val_loss: 0.0186 - val_MSE: 0.0186\n",
            "Epoch 39/50\n",
            "130/130 [==============================] - 17s 132ms/step - loss: 0.0054 - MSE: 0.0054 - val_loss: 0.0175 - val_MSE: 0.0175\n",
            "Epoch 40/50\n",
            "130/130 [==============================] - 19s 145ms/step - loss: 0.0055 - MSE: 0.0055 - val_loss: 0.0185 - val_MSE: 0.0185\n",
            "Epoch 41/50\n",
            "130/130 [==============================] - 19s 150ms/step - loss: 0.0054 - MSE: 0.0054 - val_loss: 0.0177 - val_MSE: 0.0177\n",
            "Epoch 42/50\n",
            "130/130 [==============================] - 17s 131ms/step - loss: 0.0054 - MSE: 0.0054 - val_loss: 0.0191 - val_MSE: 0.0191\n",
            "Epoch 43/50\n",
            "130/130 [==============================] - 17s 132ms/step - loss: 0.0053 - MSE: 0.0053 - val_loss: 0.0179 - val_MSE: 0.0179\n",
            "Epoch 44/50\n",
            "130/130 [==============================] - 17s 130ms/step - loss: 0.0054 - MSE: 0.0054 - val_loss: 0.0174 - val_MSE: 0.0174\n",
            "Epoch 45/50\n",
            "130/130 [==============================] - 17s 130ms/step - loss: 0.0054 - MSE: 0.0054 - val_loss: 0.0176 - val_MSE: 0.0176\n",
            "Epoch 46/50\n",
            "130/130 [==============================] - 17s 131ms/step - loss: 0.0054 - MSE: 0.0054 - val_loss: 0.0183 - val_MSE: 0.0183\n",
            "Epoch 47/50\n",
            "130/130 [==============================] - 17s 129ms/step - loss: 0.0054 - MSE: 0.0054 - val_loss: 0.0179 - val_MSE: 0.0179\n",
            "Epoch 48/50\n",
            "130/130 [==============================] - 17s 131ms/step - loss: 0.0053 - MSE: 0.0053 - val_loss: 0.0180 - val_MSE: 0.0180\n",
            "Epoch 49/50\n",
            "130/130 [==============================] - 17s 130ms/step - loss: 0.0053 - MSE: 0.0053 - val_loss: 0.0177 - val_MSE: 0.0177\n",
            "Epoch 50/50\n",
            "130/130 [==============================] - 17s 130ms/step - loss: 0.0054 - MSE: 0.0054 - val_loss: 0.0187 - val_MSE: 0.0187\n"
          ],
          "name": "stdout"
        }
      ]
    },
    {
      "cell_type": "code",
      "metadata": {
        "id": "UULYBbJExZ7F",
        "outputId": "ac14a854-7e5a-41c3-f9f8-e23018b5fdff",
        "colab": {
          "base_uri": "https://localhost:8080/"
        }
      },
      "source": [
        "### Making predictions on x_test dataset\n",
        "y_pred = model.predict(X_test, verbose = True)"
      ],
      "execution_count": 21,
      "outputs": [
        {
          "output_type": "stream",
          "text": [
            "33/33 [==============================] - 1s 30ms/step\n"
          ],
          "name": "stdout"
        }
      ]
    },
    {
      "cell_type": "code",
      "metadata": {
        "id": "uEliK4NJ3W_d",
        "outputId": "8fec160e-1654-432c-8051-12c4d5e6218f",
        "colab": {
          "base_uri": "https://localhost:8080/"
        }
      },
      "source": [
        "y_pred.shape"
      ],
      "execution_count": 22,
      "outputs": [
        {
          "output_type": "execute_result",
          "data": {
            "text/plain": [
              "(1049, 1)"
            ]
          },
          "metadata": {
            "tags": []
          },
          "execution_count": 22
        }
      ]
    },
    {
      "cell_type": "code",
      "metadata": {
        "id": "SfFXw7mlx2BD",
        "outputId": "3e7d467a-0548-437c-96f2-46c9a01b8522",
        "colab": {
          "base_uri": "https://localhost:8080/"
        }
      },
      "source": [
        "rmse = np.mean((y_pred - y_test)**2)\n",
        "print('Mean Squared Error for predictions is',rmse)  "
      ],
      "execution_count": 23,
      "outputs": [
        {
          "output_type": "stream",
          "text": [
            "Mean Squared Error for predictions is 0.051840031264247806\n"
          ],
          "name": "stdout"
        }
      ]
    },
    {
      "cell_type": "code",
      "metadata": {
        "id": "Ra2k9t5wy3-U"
      },
      "source": [
        "scale_vale = sc.scale_\n",
        "y_pred = y_pred * (1/scale_vale[4])\n",
        "y_test = y_test * (1/scale_vale[4])"
      ],
      "execution_count": 24,
      "outputs": []
    },
    {
      "cell_type": "code",
      "metadata": {
        "id": "n0Fropmd1WNj",
        "outputId": "bd82bd91-bab9-404b-a40e-15c024dd55e1",
        "colab": {
          "base_uri": "https://localhost:8080/"
        }
      },
      "source": [
        "scale_vale"
      ],
      "execution_count": 25,
      "outputs": [
        {
          "output_type": "execute_result",
          "data": {
            "text/plain": [
              "array([8.32431566e-05, 8.27131262e-05, 8.28674065e-05, 8.27198213e-05,\n",
              "       1.36980672e-09, 8.27198213e-05])"
            ]
          },
          "metadata": {
            "tags": []
          },
          "execution_count": 25
        }
      ]
    },
    {
      "cell_type": "code",
      "metadata": {
        "id": "On5Ro1Sx07II",
        "outputId": "1ccf42bf-c067-4cfb-8b1f-e8f84a846af3",
        "colab": {
          "base_uri": "https://localhost:8080/"
        }
      },
      "source": [
        "y_pred.shape"
      ],
      "execution_count": 26,
      "outputs": [
        {
          "output_type": "execute_result",
          "data": {
            "text/plain": [
              "(1049, 1)"
            ]
          },
          "metadata": {
            "tags": []
          },
          "execution_count": 26
        }
      ]
    },
    {
      "cell_type": "code",
      "metadata": {
        "id": "mvzgcJuBzHpq",
        "outputId": "69051982-d654-46d8-f586-4a552fa4f926",
        "colab": {
          "base_uri": "https://localhost:8080/",
          "height": 421
        }
      },
      "source": [
        "plt.figure(figsize=(12,6))\n",
        "plt.plot(y_pred, color = 'grey', label = 'Predicted Values')\n",
        "plt.plot(y_test, color = 'green', label = 'Actual DJI Values')\n",
        "plt.title('DJI Price Prediction')\n",
        "plt.xlabel('Time')\n",
        "plt.ylabel('Price')\n",
        "plt.legend(['Prediction', 'Actual'], loc ='best')"
      ],
      "execution_count": 27,
      "outputs": [
        {
          "output_type": "execute_result",
          "data": {
            "text/plain": [
              "<matplotlib.legend.Legend at 0x7fbcf3d93cf8>"
            ]
          },
          "metadata": {
            "tags": []
          },
          "execution_count": 27
        },
        {
          "output_type": "display_data",
          "data": {
            "image/png": "[encoded data removed]",
            "text/plain": [
              "<Figure size 864x432 with 1 Axes>"
            ]
          },
          "metadata": {
            "tags": [],
            "needs_background": "light"
          }
        }
      ]
    },
    {
      "cell_type": "code",
      "metadata": {
        "id": "xDf0FA2u0ycM",
        "outputId": "792382b6-54c4-43d9-94ea-514c9bade4fc",
        "colab": {
          "base_uri": "https://localhost:8080/",
          "height": 204
        }
      },
      "source": [
        "future_input = test_set[989:]\n",
        "future_input.head()"
      ],
      "execution_count": 28,
      "outputs": [
        {
          "output_type": "execute_result",
          "data": {
            "text/html": [
              "<div>\n",
              "<style scoped>\n",
              "    .dataframe tbody tr th:only-of-type {\n",
              "        vertical-align: middle;\n",
              "    }\n",
              "\n",
              "    .dataframe tbody tr th {\n",
              "        vertical-align: top;\n",
              "    }\n",
              "\n",
              "    .dataframe thead th {\n",
              "        text-align: right;\n",
              "    }\n",
              "</style>\n",
              "<table border=\"1\" class=\"dataframe\">\n",
              "  <thead>\n",
              "    <tr style=\"text-align: right;\">\n",
              "      <th></th>\n",
              "      <th>High</th>\n",
              "      <th>Low</th>\n",
              "      <th>Open</th>\n",
              "      <th>Close</th>\n",
              "      <th>Volume</th>\n",
              "      <th>Adj Close</th>\n",
              "    </tr>\n",
              "  </thead>\n",
              "  <tbody>\n",
              "    <tr>\n",
              "      <th>5185</th>\n",
              "      <td>28043.890625</td>\n",
              "      <td>27843.320312</td>\n",
              "      <td>27860.240234</td>\n",
              "      <td>27976.839844</td>\n",
              "      <td>340210000</td>\n",
              "      <td>27976.839844</td>\n",
              "    </tr>\n",
              "    <tr>\n",
              "      <th>5186</th>\n",
              "      <td>27986.099609</td>\n",
              "      <td>27789.779297</td>\n",
              "      <td>27922.509766</td>\n",
              "      <td>27896.720703</td>\n",
              "      <td>360160000</td>\n",
              "      <td>27896.720703</td>\n",
              "    </tr>\n",
              "    <tr>\n",
              "      <th>5187</th>\n",
              "      <td>27977.810547</td>\n",
              "      <td>27759.390625</td>\n",
              "      <td>27828.929688</td>\n",
              "      <td>27931.019531</td>\n",
              "      <td>275540000</td>\n",
              "      <td>27931.019531</td>\n",
              "    </tr>\n",
              "    <tr>\n",
              "      <th>5188</th>\n",
              "      <td>27999.810547</td>\n",
              "      <td>27816.400391</td>\n",
              "      <td>27970.050781</td>\n",
              "      <td>27844.910156</td>\n",
              "      <td>286860000</td>\n",
              "      <td>27844.910156</td>\n",
              "    </tr>\n",
              "    <tr>\n",
              "      <th>5189</th>\n",
              "      <td>27891.119141</td>\n",
              "      <td>27668.789062</td>\n",
              "      <td>27853.480469</td>\n",
              "      <td>27778.070312</td>\n",
              "      <td>276170000</td>\n",
              "      <td>27778.070312</td>\n",
              "    </tr>\n",
              "  </tbody>\n",
              "</table>\n",
              "</div>"
            ],
            "text/plain": [
              "              High           Low  ...     Volume     Adj Close\n",
              "5185  28043.890625  27843.320312  ...  340210000  27976.839844\n",
              "5186  27986.099609  27789.779297  ...  360160000  27896.720703\n",
              "5187  27977.810547  27759.390625  ...  275540000  27931.019531\n",
              "5188  27999.810547  27816.400391  ...  286860000  27844.910156\n",
              "5189  27891.119141  27668.789062  ...  276170000  27778.070312\n",
              "\n",
              "[5 rows x 6 columns]"
            ]
          },
          "metadata": {
            "tags": []
          },
          "execution_count": 28
        }
      ]
    },
    {
      "cell_type": "code",
      "metadata": {
        "id": "U3nsPTVOMP0F",
        "outputId": "9701764c-09b5-4df7-8237-fde55051875a",
        "colab": {
          "base_uri": "https://localhost:8080/",
          "height": 204
        }
      },
      "source": [
        "future_input.tail()"
      ],
      "execution_count": 29,
      "outputs": [
        {
          "output_type": "execute_result",
          "data": {
            "text/html": [
              "<div>\n",
              "<style scoped>\n",
              "    .dataframe tbody tr th:only-of-type {\n",
              "        vertical-align: middle;\n",
              "    }\n",
              "\n",
              "    .dataframe tbody tr th {\n",
              "        vertical-align: top;\n",
              "    }\n",
              "\n",
              "    .dataframe thead th {\n",
              "        text-align: right;\n",
              "    }\n",
              "</style>\n",
              "<table border=\"1\" class=\"dataframe\">\n",
              "  <thead>\n",
              "    <tr style=\"text-align: right;\">\n",
              "      <th></th>\n",
              "      <th>High</th>\n",
              "      <th>Low</th>\n",
              "      <th>Open</th>\n",
              "      <th>Close</th>\n",
              "      <th>Volume</th>\n",
              "      <th>Adj Close</th>\n",
              "    </tr>\n",
              "  </thead>\n",
              "  <tbody>\n",
              "    <tr>\n",
              "      <th>5240</th>\n",
              "      <td>26891.890625</td>\n",
              "      <td>26290.779297</td>\n",
              "      <td>26480.980469</td>\n",
              "      <td>26659.109375</td>\n",
              "      <td>419770000</td>\n",
              "      <td>26659.109375</td>\n",
              "    </tr>\n",
              "    <tr>\n",
              "      <th>5241</th>\n",
              "      <td>26639.179688</td>\n",
              "      <td>26143.769531</td>\n",
              "      <td>26572.269531</td>\n",
              "      <td>26501.599609</td>\n",
              "      <td>504820000</td>\n",
              "      <td>26501.599609</td>\n",
              "    </tr>\n",
              "    <tr>\n",
              "      <th>5242</th>\n",
              "      <td>27043.480469</td>\n",
              "      <td>26691.279297</td>\n",
              "      <td>26691.279297</td>\n",
              "      <td>26925.050781</td>\n",
              "      <td>379990000</td>\n",
              "      <td>26925.050781</td>\n",
              "    </tr>\n",
              "    <tr>\n",
              "      <th>5243</th>\n",
              "      <td>27640.210938</td>\n",
              "      <td>27138.689453</td>\n",
              "      <td>27138.689453</td>\n",
              "      <td>27480.029297</td>\n",
              "      <td>350980000</td>\n",
              "      <td>27480.029297</td>\n",
              "    </tr>\n",
              "    <tr>\n",
              "      <th>5244</th>\n",
              "      <td>28301.500000</td>\n",
              "      <td>27512.830078</td>\n",
              "      <td>27512.830078</td>\n",
              "      <td>27847.660156</td>\n",
              "      <td>449894278</td>\n",
              "      <td>27847.660156</td>\n",
              "    </tr>\n",
              "  </tbody>\n",
              "</table>\n",
              "</div>"
            ],
            "text/plain": [
              "              High           Low  ...     Volume     Adj Close\n",
              "5240  26891.890625  26290.779297  ...  419770000  26659.109375\n",
              "5241  26639.179688  26143.769531  ...  504820000  26501.599609\n",
              "5242  27043.480469  26691.279297  ...  379990000  26925.050781\n",
              "5243  27640.210938  27138.689453  ...  350980000  27480.029297\n",
              "5244  28301.500000  27512.830078  ...  449894278  27847.660156\n",
              "\n",
              "[5 rows x 6 columns]"
            ]
          },
          "metadata": {
            "tags": []
          },
          "execution_count": 29
        }
      ]
    },
    {
      "cell_type": "code",
      "metadata": {
        "id": "nJNR73JYMR4L"
      },
      "source": [
        "future_input.shape\n",
        "x_input = future_input[\"Close\"].values"
      ],
      "execution_count": 30,
      "outputs": []
    },
    {
      "cell_type": "code",
      "metadata": {
        "id": "P1fl7EYqKWkM",
        "outputId": "4d2f66eb-3e38-466e-c454-b6693c40c85e",
        "colab": {
          "base_uri": "https://localhost:8080/"
        }
      },
      "source": [
        "#temp_future = future_input[\"Close\"].values\n",
        "temp_future = x_input.tolist()\n",
        "len(temp_future)"
      ],
      "execution_count": 31,
      "outputs": [
        {
          "output_type": "execute_result",
          "data": {
            "text/plain": [
              "60"
            ]
          },
          "metadata": {
            "tags": []
          },
          "execution_count": 31
        }
      ]
    },
    {
      "cell_type": "code",
      "metadata": {
        "id": "jm1rECsTZxZN",
        "outputId": "1dd0a3ee-03f0-461b-f86d-1c54ad29358c",
        "colab": {
          "base_uri": "https://localhost:8080/"
        }
      },
      "source": [
        "temp_future"
      ],
      "execution_count": 32,
      "outputs": [
        {
          "output_type": "execute_result",
          "data": {
            "text/plain": [
              "[27976.83984375,\n",
              " 27896.720703125,\n",
              " 27931.01953125,\n",
              " 27844.91015625,\n",
              " 27778.0703125,\n",
              " 27692.880859375,\n",
              " 27739.73046875,\n",
              " 27930.330078125,\n",
              " 28308.4609375,\n",
              " 28248.439453125,\n",
              " 28331.919921875,\n",
              " 28492.26953125,\n",
              " 28653.869140625,\n",
              " 28430.05078125,\n",
              " 28645.66015625,\n",
              " 29100.5,\n",
              " 28292.73046875,\n",
              " 28133.310546875,\n",
              " 27500.890625,\n",
              " 27940.470703125,\n",
              " 27534.580078125,\n",
              " 27665.640625,\n",
              " 27993.330078125,\n",
              " 27995.599609375,\n",
              " 28032.380859375,\n",
              " 27901.98046875,\n",
              " 27657.419921875,\n",
              " 27147.69921875,\n",
              " 27288.1796875,\n",
              " 26763.130859375,\n",
              " 26815.439453125,\n",
              " 27173.9609375,\n",
              " 27584.060546875,\n",
              " 27452.66015625,\n",
              " 27781.69921875,\n",
              " 27816.900390625,\n",
              " 27682.810546875,\n",
              " 28148.640625,\n",
              " 27772.759765625,\n",
              " 28303.4609375,\n",
              " 28425.509765625,\n",
              " 28586.900390625,\n",
              " 28837.51953125,\n",
              " 28679.810546875,\n",
              " 28514.0,\n",
              " 28494.19921875,\n",
              " 28606.310546875,\n",
              " 28195.419921875,\n",
              " 28308.7890625,\n",
              " 28210.8203125,\n",
              " 28363.66015625,\n",
              " 28335.5703125,\n",
              " 27685.380859375,\n",
              " 27463.189453125,\n",
              " 26519.94921875,\n",
              " 26659.109375,\n",
              " 26501.599609375,\n",
              " 26925.05078125,\n",
              " 27480.029296875,\n",
              " 27847.66015625]"
            ]
          },
          "metadata": {
            "tags": []
          },
          "execution_count": 32
        }
      ]
    },
    {
      "cell_type": "code",
      "metadata": {
        "id": "KL8j0UcmKkXQ",
        "outputId": "b51d5d82-570a-4f3f-b5c2-ade81d8bb622",
        "colab": {
          "base_uri": "https://localhost:8080/"
        }
      },
      "source": [
        "from numpy import array\n",
        "\n",
        "lstm_output=[]\n",
        "n_steps = 60\n",
        "i = 1\n",
        "while i < 6:\n",
        "    \n",
        "    if(len(temp_future) > 60):\n",
        "        #print(temp_input)\n",
        "        x_input = np.array(temp_future[1:])\n",
        "        print(\"{} day input {}\".format(i,x_input))\n",
        "        x_input = x_input.reshape(1,-1)\n",
        "        x_input = x_input.reshape((1, n_steps, 1))\n",
        "        #print(x_input)\n",
        "        yhat = model.predict(x_input, verbose=0)\n",
        "        print(\"{} day output {}\".format(i,yhat))\n",
        "        temp_future.extend(yhat[0].tolist())\n",
        "        temp_future = temp_future[1:]\n",
        "        #print(temp_input)\n",
        "        lstm_output.extend(yhat.tolist())\n",
        "        i = i+1\n",
        "    else:\n",
        "        x_input = x_input.reshape((1, n_steps,1))\n",
        "        yhat = model.predict(x_input, verbose=0)\n",
        "        print(yhat[0])\n",
        "        temp_future.extend(yhat[0].tolist())\n",
        "        print(len(temp_future))\n",
        "        lstm_output.extend(yhat.tolist())\n",
        "        i = i+1\n",
        "    \n",
        "\n",
        "print(lstm_output)\n",
        "\n"
      ],
      "execution_count": 33,
      "outputs": [
        {
          "output_type": "stream",
          "text": [
            "[0.37343976]\n",
            "61\n",
            "2 day input [2.78967207e+04 2.79310195e+04 2.78449102e+04 2.77780703e+04\n",
            " 2.76928809e+04 2.77397305e+04 2.79303301e+04 2.83084609e+04\n",
            " 2.82484395e+04 2.83319199e+04 2.84922695e+04 2.86538691e+04\n",
            " 2.84300508e+04 2.86456602e+04 2.91005000e+04 2.82927305e+04\n",
            " 2.81333105e+04 2.75008906e+04 2.79404707e+04 2.75345801e+04\n",
            " 2.76656406e+04 2.79933301e+04 2.79955996e+04 2.80323809e+04\n",
            " 2.79019805e+04 2.76574199e+04 2.71476992e+04 2.72881797e+04\n",
            " 2.67631309e+04 2.68154395e+04 2.71739609e+04 2.75840605e+04\n",
            " 2.74526602e+04 2.77816992e+04 2.78169004e+04 2.76828105e+04\n",
            " 2.81486406e+04 2.77727598e+04 2.83034609e+04 2.84255098e+04\n",
            " 2.85869004e+04 2.88375195e+04 2.86798105e+04 2.85140000e+04\n",
            " 2.84941992e+04 2.86063105e+04 2.81954199e+04 2.83087891e+04\n",
            " 2.82108203e+04 2.83636602e+04 2.83355703e+04 2.76853809e+04\n",
            " 2.74631895e+04 2.65199492e+04 2.66591094e+04 2.65015996e+04\n",
            " 2.69250508e+04 2.74800293e+04 2.78476602e+04 3.73439759e-01]\n",
            "2 day output [[0.45289496]]\n",
            "3 day input [2.79310195e+04 2.78449102e+04 2.77780703e+04 2.76928809e+04\n",
            " 2.77397305e+04 2.79303301e+04 2.83084609e+04 2.82484395e+04\n",
            " 2.83319199e+04 2.84922695e+04 2.86538691e+04 2.84300508e+04\n",
            " 2.86456602e+04 2.91005000e+04 2.82927305e+04 2.81333105e+04\n",
            " 2.75008906e+04 2.79404707e+04 2.75345801e+04 2.76656406e+04\n",
            " 2.79933301e+04 2.79955996e+04 2.80323809e+04 2.79019805e+04\n",
            " 2.76574199e+04 2.71476992e+04 2.72881797e+04 2.67631309e+04\n",
            " 2.68154395e+04 2.71739609e+04 2.75840605e+04 2.74526602e+04\n",
            " 2.77816992e+04 2.78169004e+04 2.76828105e+04 2.81486406e+04\n",
            " 2.77727598e+04 2.83034609e+04 2.84255098e+04 2.85869004e+04\n",
            " 2.88375195e+04 2.86798105e+04 2.85140000e+04 2.84941992e+04\n",
            " 2.86063105e+04 2.81954199e+04 2.83087891e+04 2.82108203e+04\n",
            " 2.83636602e+04 2.83355703e+04 2.76853809e+04 2.74631895e+04\n",
            " 2.65199492e+04 2.66591094e+04 2.65015996e+04 2.69250508e+04\n",
            " 2.74800293e+04 2.78476602e+04 3.73439759e-01 4.52894956e-01]\n",
            "3 day output [[0.48510134]]\n",
            "4 day input [2.78449102e+04 2.77780703e+04 2.76928809e+04 2.77397305e+04\n",
            " 2.79303301e+04 2.83084609e+04 2.82484395e+04 2.83319199e+04\n",
            " 2.84922695e+04 2.86538691e+04 2.84300508e+04 2.86456602e+04\n",
            " 2.91005000e+04 2.82927305e+04 2.81333105e+04 2.75008906e+04\n",
            " 2.79404707e+04 2.75345801e+04 2.76656406e+04 2.79933301e+04\n",
            " 2.79955996e+04 2.80323809e+04 2.79019805e+04 2.76574199e+04\n",
            " 2.71476992e+04 2.72881797e+04 2.67631309e+04 2.68154395e+04\n",
            " 2.71739609e+04 2.75840605e+04 2.74526602e+04 2.77816992e+04\n",
            " 2.78169004e+04 2.76828105e+04 2.81486406e+04 2.77727598e+04\n",
            " 2.83034609e+04 2.84255098e+04 2.85869004e+04 2.88375195e+04\n",
            " 2.86798105e+04 2.85140000e+04 2.84941992e+04 2.86063105e+04\n",
            " 2.81954199e+04 2.83087891e+04 2.82108203e+04 2.83636602e+04\n",
            " 2.83355703e+04 2.76853809e+04 2.74631895e+04 2.65199492e+04\n",
            " 2.66591094e+04 2.65015996e+04 2.69250508e+04 2.74800293e+04\n",
            " 2.78476602e+04 3.73439759e-01 4.52894956e-01 4.85101342e-01]\n",
            "4 day output [[0.5152272]]\n",
            "5 day input [2.77780703e+04 2.76928809e+04 2.77397305e+04 2.79303301e+04\n",
            " 2.83084609e+04 2.82484395e+04 2.83319199e+04 2.84922695e+04\n",
            " 2.86538691e+04 2.84300508e+04 2.86456602e+04 2.91005000e+04\n",
            " 2.82927305e+04 2.81333105e+04 2.75008906e+04 2.79404707e+04\n",
            " 2.75345801e+04 2.76656406e+04 2.79933301e+04 2.79955996e+04\n",
            " 2.80323809e+04 2.79019805e+04 2.76574199e+04 2.71476992e+04\n",
            " 2.72881797e+04 2.67631309e+04 2.68154395e+04 2.71739609e+04\n",
            " 2.75840605e+04 2.74526602e+04 2.77816992e+04 2.78169004e+04\n",
            " 2.76828105e+04 2.81486406e+04 2.77727598e+04 2.83034609e+04\n",
            " 2.84255098e+04 2.85869004e+04 2.88375195e+04 2.86798105e+04\n",
            " 2.85140000e+04 2.84941992e+04 2.86063105e+04 2.81954199e+04\n",
            " 2.83087891e+04 2.82108203e+04 2.83636602e+04 2.83355703e+04\n",
            " 2.76853809e+04 2.74631895e+04 2.65199492e+04 2.66591094e+04\n",
            " 2.65015996e+04 2.69250508e+04 2.74800293e+04 2.78476602e+04\n",
            " 3.73439759e-01 4.52894956e-01 4.85101342e-01 5.15227199e-01]\n",
            "5 day output [[0.5404491]]\n",
            "[[0.373439759016037], [0.4528949558734894], [0.4851013422012329], [0.515227198600769], [0.5404490828514099]]\n"
          ],
          "name": "stdout"
        }
      ]
    },
    {
      "cell_type": "code",
      "metadata": {
        "id": "ZCT18-MiMrpk"
      },
      "source": [
        "day_new = np.arange(1,61)\n",
        "day_pred = np.arange(61,66)"
      ],
      "execution_count": 34,
      "outputs": []
    },
    {
      "cell_type": "code",
      "metadata": {
        "id": "QeJ9082qY_gI",
        "outputId": "e177c834-31f8-4aef-a794-8fa77ffba77a",
        "colab": {
          "base_uri": "https://localhost:8080/"
        }
      },
      "source": [
        "y_test.shape"
      ],
      "execution_count": 35,
      "outputs": [
        {
          "output_type": "execute_result",
          "data": {
            "text/plain": [
              "(1049,)"
            ]
          },
          "metadata": {
            "tags": []
          },
          "execution_count": 35
        }
      ]
    },
    {
      "cell_type": "code",
      "metadata": {
        "id": "I6kuTdJdqg9z",
        "outputId": "7fcab44c-f22b-473e-ebcd-c64fb90371e4",
        "colab": {
          "base_uri": "https://localhost:8080/"
        }
      },
      "source": [
        "lstm_output = np.array(lstm_output) * (1/scale_vale[4])\n",
        "lstm_output"
      ],
      "execution_count": 37,
      "outputs": [
        {
          "output_type": "execute_result",
          "data": {
            "text/plain": [
              "array([[2.72622227e+08],\n",
              "       [3.30626905e+08],\n",
              "       [3.54138533e+08],\n",
              "       [3.76131312e+08],\n",
              "       [3.94544044e+08]])"
            ]
          },
          "metadata": {
            "tags": []
          },
          "execution_count": 37
        }
      ]
    },
    {
      "cell_type": "code",
      "metadata": {
        "id": "JFurqizeYtsl",
        "outputId": "67a4fa03-3751-4820-dda4-3310a67c7481",
        "colab": {
          "base_uri": "https://localhost:8080/",
          "height": 295
        }
      },
      "source": [
        "plt.plot(day_new,y_test[989:])\n",
        "plt.plot(day_pred, lstm_output)\n",
        "plt.title('Stock prediction for Doe Jones')\n",
        "plt.xlabel(\"Date\")\n",
        "plt.ylabel(\"closed price($)\")\n",
        "plt.show()\n"
      ],
      "execution_count": 39,
      "outputs": [
        {
          "output_type": "display_data",
          "data": {
            "image/png": "[encoded data removed]",
            "text/plain": [
              "<Figure size 432x288 with 1 Axes>"
            ]
          },
          "metadata": {
            "tags": [],
            "needs_background": "light"
          }
        }
      ]
    },
    {
      "cell_type": "code",
      "metadata": {
        "id": "43m0EWYNZcoa"
      },
      "source": [
        ""
      ],
      "execution_count": null,
      "outputs": []
    }
  ]
}