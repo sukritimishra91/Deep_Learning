{
  "nbformat": 4,
  "nbformat_minor": 0,
  "metadata": {
    "colab": {
      "name": "ANN_Mnist_014580696.ipynb",
      "provenance": [],
      "collapsed_sections": []
    },
    "kernelspec": {
      "name": "python3",
      "display_name": "Python 3"
    }
  },
  "cells": [
    {
      "cell_type": "code",
      "metadata": {
        "id": "tttIInzOq_sY",
        "colab_type": "code",
        "colab": {}
      },
      "source": [
        "import tensorflow as tf\n",
        "import tensorflow_datasets as tfds\n",
        "from tensorflow import keras\n",
        "import numpy as np #importing required libraries"
      ],
      "execution_count": null,
      "outputs": []
    },
    {
      "cell_type": "code",
      "metadata": {
        "id": "zObFwWkUrDWz",
        "colab_type": "code",
        "colab": {
          "base_uri": "https://localhost:8080/",
          "height": 85
        },
        "outputId": "572b0336-17f5-478c-e189-e1d562ef486c"
      },
      "source": [
        "(train_images, train_labels), (test_images, test_labels) = keras.datasets.mnist.load_data(). #loading dataset\n",
        "\n",
        "\n",
        "print(\"train_images shape : \", train_images.shape)\n",
        "print(\"train_labels shape : \", train_labels.shape) \n",
        "print(\"test_images shape : \", test_images.shape)\n",
        "print(\"test_labels shape : \", test_labels.shape)"
      ],
      "execution_count": null,
      "outputs": [
        {
          "output_type": "stream",
          "text": [
            "train_images shape :  (60000, 28, 28)\n",
            "train_labels shape :  (60000,)\n",
            "test_images shape :  (10000, 28, 28)\n",
            "test_labels shape :  (10000,)\n"
          ],
          "name": "stdout"
        }
      ]
    },
    {
      "cell_type": "code",
      "metadata": {
        "id": "iqdzf2JFrGxM",
        "colab_type": "code",
        "colab": {
          "base_uri": "https://localhost:8080/",
          "height": 333
        },
        "outputId": "7bc344f8-d190-42e3-b0ec-c8ecf7efde00"
      },
      "source": [
        "%matplotlib inline   # Data visualization\n",
        "import matplotlib.pyplot as plt\n",
        "import random\n",
        "\n",
        "index = random.randint(0, len(train_images))\n",
        "# index = 10\n",
        "print (\"Displaying train index = \", index)\n",
        "\n",
        "print(\"train label [{}] = {} \".format(index, train_labels[index]))\n",
        "print (\"------------ raw data for train_image[{}] -------\".format(index))\n",
        "#print(train_images[index])\n",
        "print (\"--------------------\")\n",
        "\n",
        "plt.imshow(train_images[index])\n",
        "plt.show()"
      ],
      "execution_count": null,
      "outputs": [
        {
          "output_type": "stream",
          "text": [
            "Displaying train index =  8319\n",
            "train label [8319] = 1 \n",
            "------------ raw data for train_image[8319] -------\n",
            "--------------------\n"
          ],
          "name": "stdout"
        },
        {
          "output_type": "display_data",
          "data": {
            "image/png": "[encoded data removed]",
            "text/plain": [
              "<Figure size 432x288 with 1 Axes>"
            ]
          },
          "metadata": {
            "tags": [],
            "needs_background": "light"
          }
        }
      ]
    },
    {
      "cell_type": "code",
      "metadata": {
        "id": "H-cSDUBPrG0s",
        "colab_type": "code",
        "colab": {}
      },
      "source": [
        "### Create pipeline: Scale the vectors to 0-1 from 0-255 range\n",
        "train_images  = train_images / 255.0\n",
        "test_images = test_images / 255.0"
      ],
      "execution_count": null,
      "outputs": []
    },
    {
      "cell_type": "code",
      "metadata": {
        "id": "KU_n5QZlrG4a",
        "colab_type": "code",
        "colab": {}
      },
      "source": [
        "from keras.callbacks import EarlyStopping\n",
        "from keras.utils import to_categorical"
      ],
      "execution_count": null,
      "outputs": []
    },
    {
      "cell_type": "code",
      "metadata": {
        "id": "ck3Xje5erG7j",
        "colab_type": "code",
        "colab": {}
      },
      "source": [
        "## One Hot Encoding\n",
        "y_train = to_categorical(train_labels)\n",
        "y_test = to_categorical(test_labels)\n"
      ],
      "execution_count": null,
      "outputs": []
    },
    {
      "cell_type": "code",
      "metadata": {
        "id": "LYrABSEorG-k",
        "colab_type": "code",
        "colab": {}
      },
      "source": [
        "model = tf.keras.Sequential([\n",
        "        tf.keras.layers.Flatten(input_shape = (28, 28, 1)),\n",
        "        tf.keras.layers.Dense(128, activation = 'relu'),\n",
        "        tf.keras.layers.Dense(64, activation = 'relu'),\n",
        "        tf.keras.layers.Dense(10, activation = 'softmax')  #build a model\n",
        "])"
      ],
      "execution_count": null,
      "outputs": []
    },
    {
      "cell_type": "code",
      "metadata": {
        "id": "7HjBSSVmrZVq",
        "colab_type": "code",
        "colab": {
          "base_uri": "https://localhost:8080/",
          "height": 306
        },
        "outputId": "bb63f34a-b0fd-4aa2-dc8a-90c968f50a77"
      },
      "source": [
        "model.compile(optimizer='adam',\n",
        "              loss='sparse_categorical_crossentropy',\n",
        "              metrics=['accuracy'])\n",
        "print (model.summary())\n"
      ],
      "execution_count": null,
      "outputs": [
        {
          "output_type": "stream",
          "text": [
            "Model: \"sequential_1\"\n",
            "_________________________________________________________________\n",
            "Layer (type)                 Output Shape              Param #   \n",
            "=================================================================\n",
            "flatten_1 (Flatten)          (None, 784)               0         \n",
            "_________________________________________________________________\n",
            "dense_3 (Dense)              (None, 128)               100480    \n",
            "_________________________________________________________________\n",
            "dense_4 (Dense)              (None, 64)                8256      \n",
            "_________________________________________________________________\n",
            "dense_5 (Dense)              (None, 10)                650       \n",
            "=================================================================\n",
            "Total params: 109,386\n",
            "Trainable params: 109,386\n",
            "Non-trainable params: 0\n",
            "_________________________________________________________________\n",
            "None\n"
          ],
          "name": "stdout"
        }
      ]
    },
    {
      "cell_type": "code",
      "metadata": {
        "id": "t9HeYdVSrZfD",
        "colab_type": "code",
        "colab": {
          "base_uri": "https://localhost:8080/",
          "height": 1000
        },
        "outputId": "5a392456-7455-43d5-f42c-f1a4022d1007"
      },
      "source": [
        "\n",
        "epochs= 30\n",
        "print (\"training starting ...\")      #Getting the Model Ready For Training\n",
        "\n",
        "history = model.fit(\n",
        "    train_images,\n",
        "    train_labels,\n",
        "    epochs=epochs,\n",
        "    validation_split=0.2,\n",
        "    verbose=1,\n",
        "   #callbacks=[early_stopping_monitor]\n",
        ")\n",
        "\n",
        "print (\"training done.\")      "
      ],
      "execution_count": null,
      "outputs": [
        {
          "output_type": "stream",
          "text": [
            "training starting ...\n",
            "Epoch 1/30\n",
            "1500/1500 [==============================] - 3s 2ms/step - loss: 0.0096 - accuracy: 0.9969 - val_loss: 0.1751 - val_accuracy: 0.9762\n",
            "Epoch 2/30\n",
            "1500/1500 [==============================] - 3s 2ms/step - loss: 0.0073 - accuracy: 0.9979 - val_loss: 0.1607 - val_accuracy: 0.9774\n",
            "Epoch 3/30\n",
            "1500/1500 [==============================] - 3s 2ms/step - loss: 0.0070 - accuracy: 0.9978 - val_loss: 0.2144 - val_accuracy: 0.9728\n",
            "Epoch 4/30\n",
            "1500/1500 [==============================] - 3s 2ms/step - loss: 0.0068 - accuracy: 0.9977 - val_loss: 0.1738 - val_accuracy: 0.9765\n",
            "Epoch 5/30\n",
            "1500/1500 [==============================] - 3s 2ms/step - loss: 0.0080 - accuracy: 0.9977 - val_loss: 0.1687 - val_accuracy: 0.9779\n",
            "Epoch 6/30\n",
            "1500/1500 [==============================] - 3s 2ms/step - loss: 0.0055 - accuracy: 0.9983 - val_loss: 0.2109 - val_accuracy: 0.9728\n",
            "Epoch 7/30\n",
            "1500/1500 [==============================] - 3s 2ms/step - loss: 0.0100 - accuracy: 0.9972 - val_loss: 0.1842 - val_accuracy: 0.9762\n",
            "Epoch 8/30\n",
            "1500/1500 [==============================] - 3s 2ms/step - loss: 0.0036 - accuracy: 0.9987 - val_loss: 0.1995 - val_accuracy: 0.9767\n",
            "Epoch 9/30\n",
            "1500/1500 [==============================] - 3s 2ms/step - loss: 0.0070 - accuracy: 0.9978 - val_loss: 0.2119 - val_accuracy: 0.9738\n",
            "Epoch 10/30\n",
            "1500/1500 [==============================] - 3s 2ms/step - loss: 0.0072 - accuracy: 0.9978 - val_loss: 0.1980 - val_accuracy: 0.9779\n",
            "Epoch 11/30\n",
            "1500/1500 [==============================] - 3s 2ms/step - loss: 0.0074 - accuracy: 0.9978 - val_loss: 0.1960 - val_accuracy: 0.9778\n",
            "Epoch 12/30\n",
            "1500/1500 [==============================] - 3s 2ms/step - loss: 0.0056 - accuracy: 0.9984 - val_loss: 0.1913 - val_accuracy: 0.9789\n",
            "Epoch 13/30\n",
            "1500/1500 [==============================] - 3s 2ms/step - loss: 0.0054 - accuracy: 0.9984 - val_loss: 0.2125 - val_accuracy: 0.9774\n",
            "Epoch 14/30\n",
            "1500/1500 [==============================] - 3s 2ms/step - loss: 0.0037 - accuracy: 0.9987 - val_loss: 0.1912 - val_accuracy: 0.9783\n",
            "Epoch 15/30\n",
            "1500/1500 [==============================] - 3s 2ms/step - loss: 0.0072 - accuracy: 0.9982 - val_loss: 0.2143 - val_accuracy: 0.9772\n",
            "Epoch 16/30\n",
            "1500/1500 [==============================] - 3s 2ms/step - loss: 0.0074 - accuracy: 0.9981 - val_loss: 0.2222 - val_accuracy: 0.9772\n",
            "Epoch 17/30\n",
            "1500/1500 [==============================] - 3s 2ms/step - loss: 0.0058 - accuracy: 0.9982 - val_loss: 0.2353 - val_accuracy: 0.9772\n",
            "Epoch 18/30\n",
            "1500/1500 [==============================] - 3s 2ms/step - loss: 0.0060 - accuracy: 0.9984 - val_loss: 0.2042 - val_accuracy: 0.9775\n",
            "Epoch 19/30\n",
            "1500/1500 [==============================] - 3s 2ms/step - loss: 0.0026 - accuracy: 0.9993 - val_loss: 0.2108 - val_accuracy: 0.9770\n",
            "Epoch 20/30\n",
            "1500/1500 [==============================] - 3s 2ms/step - loss: 0.0087 - accuracy: 0.9975 - val_loss: 0.2668 - val_accuracy: 0.9734\n",
            "Epoch 21/30\n",
            "1500/1500 [==============================] - 3s 2ms/step - loss: 0.0034 - accuracy: 0.9988 - val_loss: 0.2281 - val_accuracy: 0.9762\n",
            "Epoch 22/30\n",
            "1500/1500 [==============================] - 3s 2ms/step - loss: 0.0068 - accuracy: 0.9982 - val_loss: 0.2288 - val_accuracy: 0.9759\n",
            "Epoch 23/30\n",
            "1500/1500 [==============================] - 3s 2ms/step - loss: 0.0048 - accuracy: 0.9987 - val_loss: 0.2126 - val_accuracy: 0.9778\n",
            "Epoch 24/30\n",
            "1500/1500 [==============================] - 3s 2ms/step - loss: 0.0065 - accuracy: 0.9981 - val_loss: 0.2369 - val_accuracy: 0.9765\n",
            "Epoch 25/30\n",
            "1500/1500 [==============================] - 3s 2ms/step - loss: 0.0072 - accuracy: 0.9984 - val_loss: 0.2274 - val_accuracy: 0.9778\n",
            "Epoch 26/30\n",
            "1500/1500 [==============================] - 3s 2ms/step - loss: 0.0048 - accuracy: 0.9984 - val_loss: 0.2319 - val_accuracy: 0.9746\n",
            "Epoch 27/30\n",
            "1500/1500 [==============================] - 3s 2ms/step - loss: 0.0048 - accuracy: 0.9987 - val_loss: 0.2289 - val_accuracy: 0.9760\n",
            "Epoch 28/30\n",
            "1500/1500 [==============================] - 3s 2ms/step - loss: 0.0050 - accuracy: 0.9987 - val_loss: 0.2266 - val_accuracy: 0.9770\n",
            "Epoch 29/30\n",
            "1500/1500 [==============================] - 3s 2ms/step - loss: 0.0072 - accuracy: 0.9980 - val_loss: 0.2249 - val_accuracy: 0.9758\n",
            "Epoch 30/30\n",
            "1500/1500 [==============================] - 3s 2ms/step - loss: 0.0051 - accuracy: 0.9986 - val_loss: 0.2404 - val_accuracy: 0.9776\n",
            "training done.\n"
          ],
          "name": "stdout"
        }
      ]
    },
    {
      "cell_type": "code",
      "metadata": {
        "id": "0bRoOstQrZjm",
        "colab_type": "code",
        "colab": {}
      },
      "source": [
        "scores = model.evaluate(test_images, test_labels, verbose=0)"
      ],
      "execution_count": null,
      "outputs": []
    },
    {
      "cell_type": "code",
      "metadata": {
        "id": "tPbR1shorZnU",
        "colab_type": "code",
        "colab": {
          "base_uri": "https://localhost:8080/",
          "height": 34
        },
        "outputId": "afb6a9c5-f387-49b7-a331-11194efe809b"
      },
      "source": [
        "print(scores)"
      ],
      "execution_count": null,
      "outputs": [
        {
          "output_type": "stream",
          "text": [
            "[0.46729663014411926, 0.9821000099182129]\n"
          ],
          "name": "stdout"
        }
      ]
    },
    {
      "cell_type": "code",
      "metadata": {
        "id": "PhJpgC5uwz9T",
        "colab_type": "code",
        "colab": {
          "base_uri": "https://localhost:8080/",
          "height": 105
        },
        "outputId": "2e14cd2e-54cc-429a-843c-55f1d66a8139"
      },
      "source": [
        "predicted = model.predict_classes(test_images, batch_size = 32, verbose = 1)"
      ],
      "execution_count": null,
      "outputs": [
        {
          "output_type": "stream",
          "text": [
            "WARNING:tensorflow:From <ipython-input-23-2dbca0599091>:1: Sequential.predict_classes (from tensorflow.python.keras.engine.sequential) is deprecated and will be removed after 2021-01-01.\n",
            "Instructions for updating:\n",
            "Please use instead:* `np.argmax(model.predict(x), axis=-1)`,   if your model does multi-class classification   (e.g. if it uses a `softmax` last-layer activation).* `(model.predict(x) > 0.5).astype(\"int32\")`,   if your model does binary classification   (e.g. if it uses a `sigmoid` last-layer activation).\n",
            "313/313 [==============================] - 0s 909us/step\n"
          ],
          "name": "stdout"
        }
      ]
    },
    {
      "cell_type": "code",
      "metadata": {
        "id": "IyfISBBfw0Cd",
        "colab_type": "code",
        "colab": {
          "base_uri": "https://localhost:8080/",
          "height": 34
        },
        "outputId": "147f6571-10f6-4e60-9a2d-73ae690485b1"
      },
      "source": [
        "test_labels[1]"
      ],
      "execution_count": null,
      "outputs": [
        {
          "output_type": "execute_result",
          "data": {
            "text/plain": [
              "2"
            ]
          },
          "metadata": {
            "tags": []
          },
          "execution_count": 24
        }
      ]
    },
    {
      "cell_type": "code",
      "metadata": {
        "id": "wtlf_0J1w0He",
        "colab_type": "code",
        "colab": {
          "base_uri": "https://localhost:8080/",
          "height": 34
        },
        "outputId": "8f7fd678-1392-4333-e5a3-39f6b9084454"
      },
      "source": [
        "predicted[1]"
      ],
      "execution_count": null,
      "outputs": [
        {
          "output_type": "execute_result",
          "data": {
            "text/plain": [
              "2"
            ]
          },
          "metadata": {
            "tags": []
          },
          "execution_count": 25
        }
      ]
    },
    {
      "cell_type": "code",
      "metadata": {
        "id": "PygjDr-jxAgi",
        "colab_type": "code",
        "colab": {
          "base_uri": "https://localhost:8080/",
          "height": 499
        },
        "outputId": "cc58457d-2c89-4e18-ec2e-c5d579f9b673"
      },
      "source": [
        "training_accuracy = history.history['accuracy']      #learning curves\n",
        "validation_accuracy = history.history['val_accuracy']\n",
        "\n",
        "training_loss = history.history['loss']\n",
        "validation_loss = history.history['val_loss']\n",
        "\n",
        "epochs_range=range(len(training_accuracy))\n",
        "\n",
        "plt.figure(figsize=(8, 8))\n",
        "plt.subplot(1, 2, 1)\n",
        "plt.plot(epochs_range, training_accuracy, label='Training Accuracy')\n",
        "plt.plot(epochs_range, validation_accuracy, label='Validation Accuracy')\n",
        "plt.legend(loc='lower right')\n",
        "plt.title('Training and Validation Accuracy')\n",
        "\n",
        "plt.subplot(1, 2, 2)\n",
        "plt.plot(epochs_range, training_loss, label='Training Loss')\n",
        "plt.plot(epochs_range, validation_loss, label='Validation Loss')\n",
        "plt.legend(loc='upper right')\n",
        "plt.title('Training and Validation Loss')\n",
        "plt.show()"
      ],
      "execution_count": null,
      "outputs": [
        {
          "output_type": "display_data",
          "data": {
            "image/png": "[encoded data removed]",
            "text/plain": [
              "<Figure size 576x576 with 2 Axes>"
            ]
          },
          "metadata": {
            "tags": [],
            "needs_background": "light"
          }
        }
      ]
    },
    {
      "cell_type": "code",
      "metadata": {
        "id": "C4cI9LotxAkj",
        "colab_type": "code",
        "colab": {}
      },
      "source": [
        "import numpy as np\n",
        "predictions = model.predict(test_images)\n",
        "\n",
        "predictions2 = [ np.argmax(p) for p in predictions]"
      ],
      "execution_count": null,
      "outputs": []
    },
    {
      "cell_type": "code",
      "metadata": {
        "id": "a4dHhVv3xAn4",
        "colab_type": "code",
        "colab": {
          "base_uri": "https://localhost:8080/",
          "height": 850
        },
        "outputId": "eda3c8e9-3283-46fd-e4c9-d15c0de3a4b9"
      },
      "source": [
        "from sklearn.metrics import classification_report     # precision\n",
        "from pprint import pprint\n",
        "\n",
        "pprint(classification_report(test_labels, predictions2, output_dict=True))"
      ],
      "execution_count": null,
      "outputs": [
        {
          "output_type": "stream",
          "text": [
            "{'0': {'f1-score': 0.9892911779704233,\n",
            "       'precision': 0.9887869520897044,\n",
            "       'recall': 0.9897959183673469,\n",
            "       'support': 980},\n",
            " '1': {'f1-score': 0.9925011027790032,\n",
            "       'precision': 0.9938162544169611,\n",
            "       'recall': 0.9911894273127754,\n",
            "       'support': 1135},\n",
            " '2': {'f1-score': 0.9806576402321083,\n",
            "       'precision': 0.9787644787644788,\n",
            "       'recall': 0.9825581395348837,\n",
            "       'support': 1032},\n",
            " '3': {'f1-score': 0.9748644652538196,\n",
            "       'precision': 0.9705593719332679,\n",
            "       'recall': 0.9792079207920792,\n",
            "       'support': 1010},\n",
            " '4': {'f1-score': 0.98419173890872,\n",
            "       'precision': 0.9856996935648621,\n",
            "       'recall': 0.9826883910386965,\n",
            "       'support': 982},\n",
            " '5': {'f1-score': 0.9776035834266517,\n",
            "       'precision': 0.9765100671140939,\n",
            "       'recall': 0.9786995515695067,\n",
            "       'support': 892},\n",
            " '6': {'f1-score': 0.9884937238493724,\n",
            "       'precision': 0.9905660377358491,\n",
            "       'recall': 0.9864300626304802,\n",
            "       'support': 958},\n",
            " '7': {'f1-score': 0.979970688812897,\n",
            "       'precision': 0.9842983316977428,\n",
            "       'recall': 0.97568093385214,\n",
            "       'support': 1028},\n",
            " '8': {'f1-score': 0.9774590163934427,\n",
            "       'precision': 0.9754601226993865,\n",
            "       'recall': 0.9794661190965093,\n",
            "       'support': 974},\n",
            " '9': {'f1-score': 0.9747149231531977,\n",
            "       'precision': 0.9751984126984127,\n",
            "       'recall': 0.9742319127849356,\n",
            "       'support': 1009},\n",
            " 'accuracy': 0.9821,\n",
            " 'macro avg': {'f1-score': 0.9819748060779634,\n",
            "               'precision': 0.9819659722714759,\n",
            "               'recall': 0.9819948376979353,\n",
            "               'support': 10000},\n",
            " 'weighted avg': {'f1-score': 0.9821063879692159,\n",
            "                  'precision': 0.9821240955553294,\n",
            "                  'recall': 0.9821,\n",
            "                  'support': 10000}}\n"
          ],
          "name": "stdout"
        }
      ]
    },
    {
      "cell_type": "markdown",
      "metadata": {
        "id": "4ZwYr96Kz_5h",
        "colab_type": "text"
      },
      "source": [
        "**Accuracy: 98.2 & precision: 98.2**"
      ]
    },
    {
      "cell_type": "markdown",
      "metadata": {
        "id": "oIApR5H_yHNs",
        "colab_type": "text"
      },
      "source": [
        "**Trying to increase the accuracy:** \n"
      ]
    },
    {
      "cell_type": "code",
      "metadata": {
        "id": "NQi8xUXelp4N",
        "colab_type": "code",
        "colab": {}
      },
      "source": [
        "%matplotlib inline\n",
        "%config InlineBackend.figure_format = 'retina'\n",
        "\n",
        "import numpy as np\n",
        "import matplotlib.pyplot as plt\n",
        "\n",
        "import tensorflow as tf\n",
        "import tensorflow_datasets as tfds\n",
        "tfds.disable_progress_bar()"
      ],
      "execution_count": 4,
      "outputs": []
    },
    {
      "cell_type": "code",
      "metadata": {
        "id": "55vwjM3yxbSt",
        "colab_type": "code",
        "colab": {
          "base_uri": "https://localhost:8080/",
          "height": 544
        },
        "outputId": "5e08f740-0aa3-4038-e7d0-4cfa440eda7a"
      },
      "source": [
        "training_set, dataset_info = tfds.load('mnist', split = 'train', as_supervised = True, with_info = True)\n",
        "\n",
        "test_data, dataset_info1 = tfds.load('mnist', split = 'test', as_supervised = True, with_info=True)\n",
        "dataset_info"
      ],
      "execution_count": 5,
      "outputs": [
        {
          "output_type": "stream",
          "text": [
            "WARNING:absl:Dataset mnist is hosted on GCS. It will automatically be downloaded to your\n",
            "local data directory. If you'd instead prefer to read directly from our public\n",
            "GCS bucket (recommended if you're running on GCP), you can instead set\n",
            "data_dir=gs://tfds-data/datasets.\n",
            "\n"
          ],
          "name": "stderr"
        },
        {
          "output_type": "stream",
          "text": [
            "\u001b[1mDownloading and preparing dataset mnist/3.0.0 (download: 11.06 MiB, generated: Unknown size, total: 11.06 MiB) to /root/tensorflow_datasets/mnist/3.0.0...\u001b[0m\n",
            "\u001b[1mDataset mnist downloaded and prepared to /root/tensorflow_datasets/mnist/3.0.0. Subsequent calls will reuse this data.\u001b[0m\n"
          ],
          "name": "stdout"
        },
        {
          "output_type": "execute_result",
          "data": {
            "text/plain": [
              "tfds.core.DatasetInfo(\n",
              "    name='mnist',\n",
              "    version=3.0.0,\n",
              "    description='The MNIST database of handwritten digits.',\n",
              "    homepage='http://yann.lecun.com/exdb/mnist/',\n",
              "    features=FeaturesDict({\n",
              "        'image': Image(shape=(28, 28, 1), dtype=tf.uint8),\n",
              "        'label': ClassLabel(shape=(), dtype=tf.int64, num_classes=10),\n",
              "    }),\n",
              "    total_num_examples=70000,\n",
              "    splits={\n",
              "        'test': 10000,\n",
              "        'train': 60000,\n",
              "    },\n",
              "    supervised_keys=('image', 'label'),\n",
              "    citation=\"\"\"@article{lecun2010mnist,\n",
              "      title={MNIST handwritten digit database},\n",
              "      author={LeCun, Yann and Cortes, Corinna and Burges, CJ},\n",
              "      journal={ATT Labs [Online]. Available: http://yann. lecun. com/exdb/mnist},\n",
              "      volume={2},\n",
              "      year={2010}\n",
              "    }\"\"\",\n",
              "    redistribution_info=,\n",
              ")"
            ]
          },
          "metadata": {
            "tags": []
          },
          "execution_count": 5
        }
      ]
    },
    {
      "cell_type": "code",
      "metadata": {
        "id": "Geuv04YvxbXG",
        "colab_type": "code",
        "colab": {
          "base_uri": "https://localhost:8080/",
          "height": 282
        },
        "outputId": "9cd60a57-08d0-4789-f058-8535748d24a5"
      },
      "source": [
        "for image, label in training_set.take(1):\n",
        "    image = image.numpy().squeeze()\n",
        "    label = label.numpy()\n",
        "    \n",
        "# Plot the image\n",
        "plt.imshow(image, cmap = plt.cm.binary)\n",
        "plt.colorbar()\n",
        "plt.show()\n",
        "\n",
        "print('The label of this image is:', label)"
      ],
      "execution_count": 6,
      "outputs": [
        {
          "output_type": "display_data",
          "data": {
            "image/png": "[encoded data removed]",
            "text/plain": [
              "<Figure size 432x288 with 2 Axes>"
            ]
          },
          "metadata": {
            "tags": [],
            "image/png": {
              "width": 305,
              "height": 248
            },
            "needs_background": "light"
          }
        },
        {
          "output_type": "stream",
          "text": [
            "The label of this image is: 4\n"
          ],
          "name": "stdout"
        }
      ]
    },
    {
      "cell_type": "code",
      "metadata": {
        "id": "c-RXmQ-Axbb7",
        "colab_type": "code",
        "colab": {}
      },
      "source": [
        "def normalize(image, label):\n",
        "    image = tf.cast(image, tf.float32)\n",
        "    image /= 255\n",
        "    return image, label\n",
        "\n",
        "num_training_examples = dataset_info.splits['train'].num_examples\n",
        "\n",
        "batch_size = 64\n",
        "\n",
        "training_batches = training_set.cache().shuffle(num_training_examples//4).batch(batch_size).map(normalize).prefetch(1)"
      ],
      "execution_count": 7,
      "outputs": []
    },
    {
      "cell_type": "code",
      "metadata": {
        "id": "rsPYt-sJxbfV",
        "colab_type": "code",
        "colab": {}
      },
      "source": [
        "model = tf.keras.Sequential([\n",
        "        tf.keras.layers.Flatten(input_shape = (28, 28, 1)),\n",
        "        tf.keras.layers.Dense(128, activation = 'relu'),\n",
        "        tf.keras.layers.Dense(64, activation = 'relu'),\n",
        "        tf.keras.layers.Dense(10, activation = 'softmax')\n",
        "])"
      ],
      "execution_count": 8,
      "outputs": []
    },
    {
      "cell_type": "code",
      "metadata": {
        "id": "kbCIs8jtxbmB",
        "colab_type": "code",
        "colab": {}
      },
      "source": [
        "model.compile(optimizer='adam',\n",
        "              loss='sparse_categorical_crossentropy',\n",
        "              metrics=['accuracy'])"
      ],
      "execution_count": 9,
      "outputs": []
    },
    {
      "cell_type": "code",
      "metadata": {
        "id": "f21CsPNxxbpo",
        "colab_type": "code",
        "colab": {
          "base_uri": "https://localhost:8080/",
          "height": 85
        },
        "outputId": "c0774205-de5c-4428-e64b-652203879975"
      },
      "source": [
        "for image_batch, label_batch in training_batches.take(1):\n",
        "    loss, accuracy = model.evaluate(image_batch, label_batch)\n",
        "\n",
        "print('\\nLoss before training: {:,.3f}'.format(loss))\n",
        "print('Accuracy before training: {:.3%}'.format(accuracy))"
      ],
      "execution_count": 10,
      "outputs": [
        {
          "output_type": "stream",
          "text": [
            "2/2 [==============================] - 0s 4ms/step - loss: 2.2819 - accuracy: 0.1094\n",
            "\n",
            "Loss before training: 2.282\n",
            "Accuracy before training: 10.938%\n"
          ],
          "name": "stdout"
        }
      ]
    },
    {
      "cell_type": "code",
      "metadata": {
        "id": "Hgm23d78x1AQ",
        "colab_type": "code",
        "colab": {
          "base_uri": "https://localhost:8080/",
          "height": 187
        },
        "outputId": "6aa9f871-3b88-4484-f1cc-2d468aaedcdb"
      },
      "source": [
        "EPOCHS = 5\n",
        "\n",
        "history = model.fit(training_batches, epochs = EPOCHS)"
      ],
      "execution_count": 11,
      "outputs": [
        {
          "output_type": "stream",
          "text": [
            "Epoch 1/5\n",
            "938/938 [==============================] - 9s 10ms/step - loss: 0.2755 - accuracy: 0.9215\n",
            "Epoch 2/5\n",
            "938/938 [==============================] - 3s 3ms/step - loss: 0.1132 - accuracy: 0.9653\n",
            "Epoch 3/5\n",
            "938/938 [==============================] - 3s 3ms/step - loss: 0.0790 - accuracy: 0.9758\n",
            "Epoch 4/5\n",
            "938/938 [==============================] - 3s 3ms/step - loss: 0.0590 - accuracy: 0.9815\n",
            "Epoch 5/5\n",
            "938/938 [==============================] - 3s 3ms/step - loss: 0.0469 - accuracy: 0.9858\n"
          ],
          "name": "stdout"
        }
      ]
    },
    {
      "cell_type": "markdown",
      "metadata": {
        "id": "aKk7cqpsy6CG",
        "colab_type": "text"
      },
      "source": [
        "Finally, the accuracy is 98.5%"
      ]
    },
    {
      "cell_type": "markdown",
      "metadata": {
        "id": "vnMZhS2bytz1",
        "colab_type": "text"
      },
      "source": [
        "With our model trained, we can check out it's predictions:"
      ]
    },
    {
      "cell_type": "code",
      "metadata": {
        "id": "m-A32BM4x1D-",
        "colab_type": "code",
        "colab": {
          "base_uri": "https://localhost:8080/",
          "height": 252
        },
        "outputId": "c849d315-4ad3-490d-a247-b546001025d1"
      },
      "source": [
        "for image_batch, label_batch in training_batches.take(1):\n",
        "    ps = model.predict(image_batch)\n",
        "    first_image = image_batch.numpy().squeeze()[0]\n",
        "  \n",
        "  \n",
        "fig, (ax1, ax2) = plt.subplots(figsize=(6,9), ncols=2)\n",
        "ax1.imshow(first_image, cmap = plt.cm.binary)\n",
        "ax1.axis('off')\n",
        "ax2.barh(np.arange(10), ps[0])\n",
        "ax2.set_aspect(0.1)\n",
        "ax2.set_yticks(np.arange(10))\n",
        "ax2.set_yticklabels(np.arange(10))\n",
        "ax2.set_title('Class Probability')\n",
        "ax2.set_xlim(0, 1.1)\n",
        "plt.tight_layout()\n"
      ],
      "execution_count": 12,
      "outputs": [
        {
          "output_type": "display_data",
          "data": {
            "image/png": "[encoded data removed]",
            "text/plain": [
              "<Figure size 432x648 with 2 Axes>"
            ]
          },
          "metadata": {
            "tags": [],
            "image/png": {
              "width": 424,
              "height": 235
            },
            "needs_background": "light"
          }
        }
      ]
    },
    {
      "cell_type": "code",
      "metadata": {
        "id": "Bwg3vK6_x1IZ",
        "colab_type": "code",
        "colab": {}
      },
      "source": [
        ""
      ],
      "execution_count": null,
      "outputs": []
    }
  ]
}