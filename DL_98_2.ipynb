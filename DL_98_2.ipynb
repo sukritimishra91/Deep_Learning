{
  "nbformat": 4,
  "nbformat_minor": 0,
  "metadata": {
    "colab": {
      "name": "DL_98.2.ipynb",
      "provenance": []
    },
    "kernelspec": {
      "name": "python3",
      "display_name": "Python 3"
    }
  },
  "cells": [
    {
      "cell_type": "code",
      "metadata": {
        "id": "tttIInzOq_sY",
        "colab_type": "code",
        "colab": {}
      },
      "source": [
        "import tensorflow as tf\n",
        "import tensorflow_datasets as tfds\n",
        "from tensorflow import keras\n",
        "import numpy as np"
      ],
      "execution_count": 1,
      "outputs": []
    },
    {
      "cell_type": "code",
      "metadata": {
        "id": "zObFwWkUrDWz",
        "colab_type": "code",
        "colab": {
          "base_uri": "https://localhost:8080/",
          "height": 119
        },
        "outputId": "babe9c06-85d8-4893-ac8f-be4c7c0aafeb"
      },
      "source": [
        "(train_images, train_labels), (test_images, test_labels) = keras.datasets.mnist.load_data()\n",
        "\n",
        "\n",
        "print(\"train_images shape : \", train_images.shape)\n",
        "print(\"train_labels shape : \", train_labels.shape)\n",
        "print(\"test_images shape : \", test_images.shape)\n",
        "print(\"test_labels shape : \", test_labels.shape)"
      ],
      "execution_count": 2,
      "outputs": [
        {
          "output_type": "stream",
          "text": [
            "Downloading data from https://storage.googleapis.com/tensorflow/tf-keras-datasets/mnist.npz\n",
            "11493376/11490434 [==============================] - 0s 0us/step\n",
            "train_images shape :  (60000, 28, 28)\n",
            "train_labels shape :  (60000,)\n",
            "test_images shape :  (10000, 28, 28)\n",
            "test_labels shape :  (10000,)\n"
          ],
          "name": "stdout"
        }
      ]
    },
    {
      "cell_type": "code",
      "metadata": {
        "id": "iqdzf2JFrGxM",
        "colab_type": "code",
        "colab": {
          "base_uri": "https://localhost:8080/",
          "height": 333
        },
        "outputId": "649ba1ba-7610-447c-93b3-e6f0a12fa655"
      },
      "source": [
        "%matplotlib inline\n",
        "import matplotlib.pyplot as plt\n",
        "import random\n",
        "\n",
        "index = random.randint(0, len(train_images))\n",
        "# index = 10\n",
        "print (\"Displaying train index = \", index)\n",
        "\n",
        "print(\"train label [{}] = {} \".format(index, train_labels[index]))\n",
        "print (\"------------ raw data for train_image[{}] -------\".format(index))\n",
        "#print(train_images[index])\n",
        "print (\"--------------------\")\n",
        "\n",
        "plt.imshow(train_images[index])\n",
        "plt.show()"
      ],
      "execution_count": 3,
      "outputs": [
        {
          "output_type": "stream",
          "text": [
            "Displaying train index =  6388\n",
            "train label [6388] = 6 \n",
            "------------ raw data for train_image[6388] -------\n",
            "--------------------\n"
          ],
          "name": "stdout"
        },
        {
          "output_type": "display_data",
          "data": {
            "image/png": "[encoded data removed]",
            "text/plain": [
              "<Figure size 432x288 with 1 Axes>"
            ]
          },
          "metadata": {
            "tags": [],
            "needs_background": "light"
          }
        }
      ]
    },
    {
      "cell_type": "code",
      "metadata": {
        "id": "H-cSDUBPrG0s",
        "colab_type": "code",
        "colab": {}
      },
      "source": [
        "### Scale the vectors to 0-1 from 0-255 range\n",
        "train_images  = train_images / 255.0\n",
        "test_images = test_images / 255.0"
      ],
      "execution_count": 4,
      "outputs": []
    },
    {
      "cell_type": "code",
      "metadata": {
        "id": "KU_n5QZlrG4a",
        "colab_type": "code",
        "colab": {}
      },
      "source": [
        "from keras.callbacks import EarlyStopping\n",
        "from keras.utils import to_categorical"
      ],
      "execution_count": 5,
      "outputs": []
    },
    {
      "cell_type": "code",
      "metadata": {
        "id": "ck3Xje5erG7j",
        "colab_type": "code",
        "colab": {}
      },
      "source": [
        "## One Hot Encoding\n",
        "y_train = to_categorical(train_labels)\n",
        "y_test = to_categorical(test_labels)\n"
      ],
      "execution_count": 6,
      "outputs": []
    },
    {
      "cell_type": "code",
      "metadata": {
        "id": "LYrABSEorG-k",
        "colab_type": "code",
        "colab": {}
      },
      "source": [
        "model = tf.keras.Sequential([\n",
        "        tf.keras.layers.Flatten(input_shape = (28, 28, 1)),\n",
        "        tf.keras.layers.Dense(128, activation = 'relu'),\n",
        "        tf.keras.layers.Dense(64, activation = 'relu'),\n",
        "        tf.keras.layers.Dense(10, activation = 'softmax')\n",
        "])"
      ],
      "execution_count": 7,
      "outputs": []
    },
    {
      "cell_type": "code",
      "metadata": {
        "id": "7HjBSSVmrZVq",
        "colab_type": "code",
        "colab": {
          "base_uri": "https://localhost:8080/",
          "height": 306
        },
        "outputId": "b367aa9d-a61a-48d7-ddfe-bc8681f7649f"
      },
      "source": [
        "model.compile(optimizer='adam',\n",
        "              loss='sparse_categorical_crossentropy',\n",
        "              metrics=['accuracy'])\n",
        "print (model.summary())\n",
        "#tf.keras.utils.plot_model(model, to_file='model.png', show_shapes=True)"
      ],
      "execution_count": 8,
      "outputs": [
        {
          "output_type": "stream",
          "text": [
            "Model: \"sequential\"\n",
            "_________________________________________________________________\n",
            "Layer (type)                 Output Shape              Param #   \n",
            "=================================================================\n",
            "flatten (Flatten)            (None, 784)               0         \n",
            "_________________________________________________________________\n",
            "dense (Dense)                (None, 128)               100480    \n",
            "_________________________________________________________________\n",
            "dense_1 (Dense)              (None, 64)                8256      \n",
            "_________________________________________________________________\n",
            "dense_2 (Dense)              (None, 10)                650       \n",
            "=================================================================\n",
            "Total params: 109,386\n",
            "Trainable params: 109,386\n",
            "Non-trainable params: 0\n",
            "_________________________________________________________________\n",
            "None\n"
          ],
          "name": "stdout"
        }
      ]
    },
    {
      "cell_type": "code",
      "metadata": {
        "id": "t9HeYdVSrZfD",
        "colab_type": "code",
        "colab": {
          "base_uri": "https://localhost:8080/",
          "height": 1000
        },
        "outputId": "f2f14a0c-b6c1-4a8a-d4d6-d7c476ecb0c6"
      },
      "source": [
        "\n",
        "epochs= 30\n",
        "print (\"training starting ...\")\n",
        "\n",
        "history = model.fit(\n",
        "    train_images,\n",
        "    train_labels,\n",
        "    epochs=epochs,\n",
        "    validation_split=0.2,\n",
        "    verbose=1,\n",
        "   #callbacks=[early_stopping_monitor]\n",
        ")\n",
        "\n",
        "print (\"training done.\")"
      ],
      "execution_count": 20,
      "outputs": [
        {
          "output_type": "stream",
          "text": [
            "training starting ...\n",
            "Epoch 1/30\n",
            "1500/1500 [==============================] - 3s 2ms/step - loss: 0.0039 - accuracy: 0.9994 - val_loss: 0.5204 - val_accuracy: 0.9786\n",
            "Epoch 2/30\n",
            "1500/1500 [==============================] - 3s 2ms/step - loss: 0.0038 - accuracy: 0.9995 - val_loss: 0.5568 - val_accuracy: 0.9782\n",
            "Epoch 3/30\n",
            "1500/1500 [==============================] - 3s 2ms/step - loss: 0.0059 - accuracy: 0.9991 - val_loss: 0.5491 - val_accuracy: 0.9789\n",
            "Epoch 4/30\n",
            "1500/1500 [==============================] - 3s 2ms/step - loss: 0.0024 - accuracy: 0.9995 - val_loss: 0.5598 - val_accuracy: 0.9801\n",
            "Epoch 5/30\n",
            "1500/1500 [==============================] - 3s 2ms/step - loss: 0.0020 - accuracy: 0.9996 - val_loss: 0.5535 - val_accuracy: 0.9802\n",
            "Epoch 6/30\n",
            "1500/1500 [==============================] - 3s 2ms/step - loss: 0.0028 - accuracy: 0.9996 - val_loss: 0.5348 - val_accuracy: 0.9803\n",
            "Epoch 7/30\n",
            "1500/1500 [==============================] - 3s 2ms/step - loss: 0.0021 - accuracy: 0.9997 - val_loss: 0.6565 - val_accuracy: 0.9764\n",
            "Epoch 8/30\n",
            "1500/1500 [==============================] - 3s 2ms/step - loss: 0.0079 - accuracy: 0.9989 - val_loss: 0.5999 - val_accuracy: 0.9779\n",
            "Epoch 9/30\n",
            "1500/1500 [==============================] - 3s 2ms/step - loss: 0.0012 - accuracy: 0.9997 - val_loss: 0.5788 - val_accuracy: 0.9801\n",
            "Epoch 10/30\n",
            "1500/1500 [==============================] - 3s 2ms/step - loss: 0.0039 - accuracy: 0.9994 - val_loss: 0.5933 - val_accuracy: 0.9766\n",
            "Epoch 11/30\n",
            "1500/1500 [==============================] - 3s 2ms/step - loss: 0.0042 - accuracy: 0.9993 - val_loss: 0.6070 - val_accuracy: 0.9791\n",
            "Epoch 12/30\n",
            "1500/1500 [==============================] - 3s 2ms/step - loss: 0.0045 - accuracy: 0.9994 - val_loss: 0.5337 - val_accuracy: 0.9790\n",
            "Epoch 13/30\n",
            "1500/1500 [==============================] - 4s 2ms/step - loss: 0.0036 - accuracy: 0.9996 - val_loss: 0.5489 - val_accuracy: 0.9791\n",
            "Epoch 14/30\n",
            "1500/1500 [==============================] - 3s 2ms/step - loss: 0.0032 - accuracy: 0.9994 - val_loss: 0.5411 - val_accuracy: 0.9787\n",
            "Epoch 15/30\n",
            "1500/1500 [==============================] - 4s 2ms/step - loss: 0.0033 - accuracy: 0.9994 - val_loss: 0.5431 - val_accuracy: 0.9797\n",
            "Epoch 16/30\n",
            "1500/1500 [==============================] - 4s 2ms/step - loss: 0.0058 - accuracy: 0.9993 - val_loss: 0.5459 - val_accuracy: 0.9798\n",
            "Epoch 17/30\n",
            "1500/1500 [==============================] - 4s 2ms/step - loss: 0.0044 - accuracy: 0.9992 - val_loss: 0.5450 - val_accuracy: 0.9789\n",
            "Epoch 18/30\n",
            "1500/1500 [==============================] - 4s 2ms/step - loss: 0.0027 - accuracy: 0.9995 - val_loss: 0.5979 - val_accuracy: 0.9778\n",
            "Epoch 19/30\n",
            "1500/1500 [==============================] - 4s 2ms/step - loss: 0.0046 - accuracy: 0.9995 - val_loss: 0.5147 - val_accuracy: 0.9804\n",
            "Epoch 20/30\n",
            "1500/1500 [==============================] - 3s 2ms/step - loss: 0.0013 - accuracy: 0.9998 - val_loss: 0.5347 - val_accuracy: 0.9787\n",
            "Epoch 21/30\n",
            "1500/1500 [==============================] - 3s 2ms/step - loss: 0.0045 - accuracy: 0.9993 - val_loss: 0.5811 - val_accuracy: 0.9790\n",
            "Epoch 22/30\n",
            "1500/1500 [==============================] - 3s 2ms/step - loss: 0.0028 - accuracy: 0.9995 - val_loss: 0.5694 - val_accuracy: 0.9794\n",
            "Epoch 23/30\n",
            "1500/1500 [==============================] - 3s 2ms/step - loss: 0.0066 - accuracy: 0.9993 - val_loss: 0.5960 - val_accuracy: 0.9796\n",
            "Epoch 24/30\n",
            "1500/1500 [==============================] - 3s 2ms/step - loss: 0.0045 - accuracy: 0.9993 - val_loss: 0.5448 - val_accuracy: 0.9776\n",
            "Epoch 25/30\n",
            "1500/1500 [==============================] - 3s 2ms/step - loss: 0.0033 - accuracy: 0.9993 - val_loss: 0.5610 - val_accuracy: 0.9803\n",
            "Epoch 26/30\n",
            "1500/1500 [==============================] - 3s 2ms/step - loss: 0.0056 - accuracy: 0.9992 - val_loss: 0.5555 - val_accuracy: 0.9797\n",
            "Epoch 27/30\n",
            "1500/1500 [==============================] - 3s 2ms/step - loss: 0.0035 - accuracy: 0.9995 - val_loss: 0.5471 - val_accuracy: 0.9801\n",
            "Epoch 28/30\n",
            "1500/1500 [==============================] - 3s 2ms/step - loss: 0.0037 - accuracy: 0.9994 - val_loss: 0.5490 - val_accuracy: 0.9783\n",
            "Epoch 29/30\n",
            "1500/1500 [==============================] - 3s 2ms/step - loss: 0.0030 - accuracy: 0.9995 - val_loss: 0.5580 - val_accuracy: 0.9802\n",
            "Epoch 30/30\n",
            "1500/1500 [==============================] - 4s 2ms/step - loss: 0.0026 - accuracy: 0.9995 - val_loss: 0.5260 - val_accuracy: 0.9812\n",
            "training done.\n"
          ],
          "name": "stdout"
        }
      ]
    },
    {
      "cell_type": "code",
      "metadata": {
        "id": "0bRoOstQrZjm",
        "colab_type": "code",
        "colab": {}
      },
      "source": [
        "scores = model.evaluate(test_images, test_labels, verbose=0)"
      ],
      "execution_count": 21,
      "outputs": []
    },
    {
      "cell_type": "code",
      "metadata": {
        "id": "tPbR1shorZnU",
        "colab_type": "code",
        "colab": {
          "base_uri": "https://localhost:8080/",
          "height": 34
        },
        "outputId": "afb6a9c5-f387-49b7-a331-11194efe809b"
      },
      "source": [
        "print(scores)"
      ],
      "execution_count": 22,
      "outputs": [
        {
          "output_type": "stream",
          "text": [
            "[0.46729663014411926, 0.9821000099182129]\n"
          ],
          "name": "stdout"
        }
      ]
    },
    {
      "cell_type": "code",
      "metadata": {
        "id": "PhJpgC5uwz9T",
        "colab_type": "code",
        "colab": {
          "base_uri": "https://localhost:8080/",
          "height": 105
        },
        "outputId": "2e14cd2e-54cc-429a-843c-55f1d66a8139"
      },
      "source": [
        "predicted = model.predict_classes(test_images, batch_size = 32, verbose = 1)"
      ],
      "execution_count": 23,
      "outputs": [
        {
          "output_type": "stream",
          "text": [
            "WARNING:tensorflow:From <ipython-input-23-2dbca0599091>:1: Sequential.predict_classes (from tensorflow.python.keras.engine.sequential) is deprecated and will be removed after 2021-01-01.\n",
            "Instructions for updating:\n",
            "Please use instead:* `np.argmax(model.predict(x), axis=-1)`,   if your model does multi-class classification   (e.g. if it uses a `softmax` last-layer activation).* `(model.predict(x) > 0.5).astype(\"int32\")`,   if your model does binary classification   (e.g. if it uses a `sigmoid` last-layer activation).\n",
            "313/313 [==============================] - 0s 909us/step\n"
          ],
          "name": "stdout"
        }
      ]
    },
    {
      "cell_type": "code",
      "metadata": {
        "id": "IyfISBBfw0Cd",
        "colab_type": "code",
        "colab": {
          "base_uri": "https://localhost:8080/",
          "height": 34
        },
        "outputId": "147f6571-10f6-4e60-9a2d-73ae690485b1"
      },
      "source": [
        "test_labels[1]"
      ],
      "execution_count": 24,
      "outputs": [
        {
          "output_type": "execute_result",
          "data": {
            "text/plain": [
              "2"
            ]
          },
          "metadata": {
            "tags": []
          },
          "execution_count": 24
        }
      ]
    },
    {
      "cell_type": "code",
      "metadata": {
        "id": "wtlf_0J1w0He",
        "colab_type": "code",
        "colab": {
          "base_uri": "https://localhost:8080/",
          "height": 34
        },
        "outputId": "8f7fd678-1392-4333-e5a3-39f6b9084454"
      },
      "source": [
        "predicted[1]"
      ],
      "execution_count": 25,
      "outputs": [
        {
          "output_type": "execute_result",
          "data": {
            "text/plain": [
              "2"
            ]
          },
          "metadata": {
            "tags": []
          },
          "execution_count": 25
        }
      ]
    },
    {
      "cell_type": "code",
      "metadata": {
        "id": "PygjDr-jxAgi",
        "colab_type": "code",
        "colab": {
          "base_uri": "https://localhost:8080/",
          "height": 499
        },
        "outputId": "cc58457d-2c89-4e18-ec2e-c5d579f9b673"
      },
      "source": [
        "training_accuracy = history.history['accuracy']\n",
        "validation_accuracy = history.history['val_accuracy']\n",
        "\n",
        "training_loss = history.history['loss']\n",
        "validation_loss = history.history['val_loss']\n",
        "\n",
        "epochs_range=range(len(training_accuracy))\n",
        "\n",
        "plt.figure(figsize=(8, 8))\n",
        "plt.subplot(1, 2, 1)\n",
        "plt.plot(epochs_range, training_accuracy, label='Training Accuracy')\n",
        "plt.plot(epochs_range, validation_accuracy, label='Validation Accuracy')\n",
        "plt.legend(loc='lower right')\n",
        "plt.title('Training and Validation Accuracy')\n",
        "\n",
        "plt.subplot(1, 2, 2)\n",
        "plt.plot(epochs_range, training_loss, label='Training Loss')\n",
        "plt.plot(epochs_range, validation_loss, label='Validation Loss')\n",
        "plt.legend(loc='upper right')\n",
        "plt.title('Training and Validation Loss')\n",
        "plt.show()"
      ],
      "execution_count": 26,
      "outputs": [
        {
          "output_type": "display_data",
          "data": {
            "image/png": "[encoded data removed]",
            "text/plain": [
              "<Figure size 576x576 with 2 Axes>"
            ]
          },
          "metadata": {
            "tags": [],
            "needs_background": "light"
          }
        }
      ]
    },
    {
      "cell_type": "code",
      "metadata": {
        "id": "C4cI9LotxAkj",
        "colab_type": "code",
        "colab": {}
      },
      "source": [
        "import numpy as np\n",
        "predictions = model.predict(test_images)\n",
        "\n",
        "predictions2 = [ np.argmax(p) for p in predictions]"
      ],
      "execution_count": 27,
      "outputs": []
    },
    {
      "cell_type": "code",
      "metadata": {
        "id": "a4dHhVv3xAn4",
        "colab_type": "code",
        "colab": {
          "base_uri": "https://localhost:8080/",
          "height": 850
        },
        "outputId": "eda3c8e9-3283-46fd-e4c9-d15c0de3a4b9"
      },
      "source": [
        "from sklearn.metrics import classification_report\n",
        "from pprint import pprint\n",
        "\n",
        "pprint(classification_report(test_labels, predictions2, output_dict=True))"
      ],
      "execution_count": 28,
      "outputs": [
        {
          "output_type": "stream",
          "text": [
            "{'0': {'f1-score': 0.9892911779704233,\n",
            "       'precision': 0.9887869520897044,\n",
            "       'recall': 0.9897959183673469,\n",
            "       'support': 980},\n",
            " '1': {'f1-score': 0.9925011027790032,\n",
            "       'precision': 0.9938162544169611,\n",
            "       'recall': 0.9911894273127754,\n",
            "       'support': 1135},\n",
            " '2': {'f1-score': 0.9806576402321083,\n",
            "       'precision': 0.9787644787644788,\n",
            "       'recall': 0.9825581395348837,\n",
            "       'support': 1032},\n",
            " '3': {'f1-score': 0.9748644652538196,\n",
            "       'precision': 0.9705593719332679,\n",
            "       'recall': 0.9792079207920792,\n",
            "       'support': 1010},\n",
            " '4': {'f1-score': 0.98419173890872,\n",
            "       'precision': 0.9856996935648621,\n",
            "       'recall': 0.9826883910386965,\n",
            "       'support': 982},\n",
            " '5': {'f1-score': 0.9776035834266517,\n",
            "       'precision': 0.9765100671140939,\n",
            "       'recall': 0.9786995515695067,\n",
            "       'support': 892},\n",
            " '6': {'f1-score': 0.9884937238493724,\n",
            "       'precision': 0.9905660377358491,\n",
            "       'recall': 0.9864300626304802,\n",
            "       'support': 958},\n",
            " '7': {'f1-score': 0.979970688812897,\n",
            "       'precision': 0.9842983316977428,\n",
            "       'recall': 0.97568093385214,\n",
            "       'support': 1028},\n",
            " '8': {'f1-score': 0.9774590163934427,\n",
            "       'precision': 0.9754601226993865,\n",
            "       'recall': 0.9794661190965093,\n",
            "       'support': 974},\n",
            " '9': {'f1-score': 0.9747149231531977,\n",
            "       'precision': 0.9751984126984127,\n",
            "       'recall': 0.9742319127849356,\n",
            "       'support': 1009},\n",
            " 'accuracy': 0.9821,\n",
            " 'macro avg': {'f1-score': 0.9819748060779634,\n",
            "               'precision': 0.9819659722714759,\n",
            "               'recall': 0.9819948376979353,\n",
            "               'support': 10000},\n",
            " 'weighted avg': {'f1-score': 0.9821063879692159,\n",
            "                  'precision': 0.9821240955553294,\n",
            "                  'recall': 0.9821,\n",
            "                  'support': 10000}}\n"
          ],
          "name": "stdout"
        }
      ]
    },
    {
      "cell_type": "code",
      "metadata": {
        "id": "4efNE_pfxAq0",
        "colab_type": "code",
        "colab": {}
      },
      "source": [
        ""
      ],
      "execution_count": null,
      "outputs": []
    }
  ]
}